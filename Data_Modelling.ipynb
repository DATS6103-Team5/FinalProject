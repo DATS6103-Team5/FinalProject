{
 "cells": [
  {
   "cell_type": "code",
   "execution_count": 15,
   "metadata": {},
   "outputs": [
    {
     "name": "stdout",
     "output_type": "stream",
     "text": [
      "        id   host_id  host_response_time  host_response_rate  \\\n",
      "0  1489424   5294164                 1.0               100.0   \n",
      "1  2992450   4621559                 3.0               100.0   \n",
      "2  3820211  19648678                 1.0               100.0   \n",
      "3  5651579  29288920                 1.0               100.0   \n",
      "4  6623339  19648678                 1.0               100.0   \n",
      "\n",
      "   host_acceptance_rate  host_is_superhost  host_identity_verified  \\\n",
      "0                  87.0                  0                       1   \n",
      "1                 100.0                  0                       0   \n",
      "2                  66.0                  0                       1   \n",
      "3                  99.0                  0                       1   \n",
      "4                  66.0                  0                       1   \n",
      "\n",
      "  neighbourhood_cleansed  latitude  longitude  ... number_of_reviews  \\\n",
      "0        FOURTEENTH WARD  42.66719  -73.81580  ...               248   \n",
      "1             THIRD WARD  42.65789  -73.75370  ...                 9   \n",
      "2             SIXTH WARD  42.65222  -73.76724  ...               292   \n",
      "3            SECOND WARD  42.64615  -73.75966  ...               337   \n",
      "4             SIXTH WARD  42.65222  -73.76724  ...               306   \n",
      "\n",
      "   number_of_reviews_ltm  number_of_reviews_l30d  instant_bookable  \\\n",
      "0                     50                       6                 0   \n",
      "1                      0                       0                 0   \n",
      "2                      8                       1                 0   \n",
      "3                     31                       4                 0   \n",
      "4                      5                       0                 0   \n",
      "\n",
      "   calculated_host_listings_count    City  State  review_scores_rating  \\\n",
      "0                               1  albany     ny                  4.75   \n",
      "1                               1  albany     ny                  3.56   \n",
      "2                               4  albany     ny                  4.74   \n",
      "3                               2  albany     ny                  4.51   \n",
      "4                               4  albany     ny                  4.73   \n",
      "\n",
      "   reviews_per_month         property_type  \n",
      "0               1.94  Private room in home  \n",
      "1               0.08    Entire rental unit  \n",
      "2               2.51    Entire rental unit  \n",
      "3               3.13    Entire rental unit  \n",
      "4               2.87    Entire rental unit  \n",
      "\n",
      "[5 rows x 25 columns]\n"
     ]
    }
   ],
   "source": [
    "#import simple_imputed_df.csv\n",
    "import pandas as pd\n",
    "simple_imputed_df = pd.read_csv('simple_imputed_df.csv')\n",
    "print(simple_imputed_df.head())"
   ]
  },
  {
   "cell_type": "markdown",
   "metadata": {},
   "source": [
    "## Possible Topics\n",
    "1. Linear Regression: A good starting point for regression tasks. If the relationship between the features and the target variable is approximately linear, linear regression can provide a decent model with the benefit of interpretability.\n",
    "2. Decision Tree Regressor: A non-linear model that can capture complex relationships between features and the target variable. It is easy to interpret but can be prone to overfitting.\n",
    "3. Random Forest Regressor: An ensemble of decision trees that can model more complex relationships and is less likely to overfit compared to a single decision tree.\n",
    "4. Gradient Boosting Machines (GBM): Models like XGBoost, LightGBM, or CatBoost are powerful for regression tasks and can handle a mix of categorical and numerical data well. They are often among the top performers in machine learning competitions.\n",
    "5. Support Vector Regression (SVR): Effective in high-dimensional spaces and when there is a non-linear relationship between the features and the target variable."
   ]
  },
  {
   "cell_type": "markdown",
   "metadata": {},
   "source": [
    "### Linear Regression"
   ]
  },
  {
   "cell_type": "code",
   "execution_count": 16,
   "metadata": {},
   "outputs": [
    {
     "name": "stdout",
     "output_type": "stream",
     "text": [
      "RMSE: 175.48697070499924\n"
     ]
    }
   ],
   "source": [
    "from sklearn.model_selection import train_test_split\n",
    "from sklearn.linear_model import LinearRegression\n",
    "from sklearn.preprocessing import OneHotEncoder, StandardScaler\n",
    "from sklearn.metrics import mean_squared_error\n",
    "from sklearn.pipeline import Pipeline\n",
    "from sklearn.compose import ColumnTransformer\n",
    "from sklearn.metrics import accuracy_score\n",
    "\n",
    "X = simple_imputed_df[['room_type', 'City', 'State',\n",
    "                       'latitude', \n",
    "                       'longitude', 'instant_bookable']]\n",
    "y = simple_imputed_df['price']\n",
    "\n",
    "# Preprocessing numerical and categorical data\n",
    "numeric_features = ['latitude', 'longitude']\n",
    "numeric_transformer = StandardScaler()\n",
    "\n",
    "categorical_features = ['room_type', \n",
    "                        'instant_bookable', 'City', 'State']\n",
    "categorical_transformer = OneHotEncoder()\n",
    "\n",
    "# Bundle preprocessing for numerical and categorical data\n",
    "preprocessor = ColumnTransformer(\n",
    "    transformers=[\n",
    "        ('num', numeric_transformer, numeric_features),\n",
    "        ('cat', categorical_transformer, categorical_features)\n",
    "    ])\n",
    "\n",
    "model = Pipeline(steps=[\n",
    "    ('preprocessor', preprocessor),\n",
    "    ('regressor', LinearRegression())\n",
    "])\n",
    "\n",
    "X_train, X_test, y_train, y_test = train_test_split(X, y, test_size=0.2, random_state=42)\n",
    "model.fit(X_train, y_train)\n",
    "y_pred = model.predict(X_test)\n",
    "\n",
    "mse = mean_squared_error(y_test, y_pred)\n",
    "rmse = mse ** 0.5\n",
    "print(f\"RMSE: {rmse}\")"
   ]
  },
  {
   "cell_type": "markdown",
   "metadata": {},
   "source": [
    "### Decision Tree"
   ]
  },
  {
   "cell_type": "code",
   "execution_count": 20,
   "metadata": {},
   "outputs": [
    {
     "name": "stdout",
     "output_type": "stream",
     "text": [
      "RMSE: 161.13818341876885\n"
     ]
    }
   ],
   "source": [
    "from sklearn.tree import DecisionTreeRegressor, plot_tree\n",
    "import matplotlib.pyplot as plt\n",
    "\n",
    "tree_model = Pipeline(steps=[\n",
    "    ('preprocessor', preprocessor),\n",
    "    ('regressor', DecisionTreeRegressor(\n",
    "        max_depth=10,             # Limit the depth of the tree\n",
    "        min_samples_split=10,    # At least 10 samples to split a node\n",
    "        min_samples_leaf=5,      # At least 5 samples at each leaf\n",
    "        random_state=42))\n",
    "])\n",
    "\n",
    "X_train, X_test, y_train, y_test = train_test_split(X, y, test_size=0.2, random_state=42)\n",
    "tree_model.fit(X_train, y_train)\n",
    "y_pred = tree_model.predict(X_test)\n",
    "\n",
    "mse = mean_squared_error(y_test, y_pred)\n",
    "rmse = mse ** 0.5\n",
    "print(f\"RMSE: {rmse}\")\n",
    "\n"
   ]
  },
  {
   "cell_type": "markdown",
   "metadata": {},
   "source": [
    "### Random Forest"
   ]
  },
  {
   "cell_type": "code",
   "execution_count": 13,
   "metadata": {},
   "outputs": [
    {
     "name": "stdout",
     "output_type": "stream",
     "text": [
      "RMSE: 152.7064245501371\n"
     ]
    }
   ],
   "source": [
    "from sklearn.ensemble import RandomForestRegressor\n",
    "\n",
    "rf_model = Pipeline(steps=[\n",
    "    ('preprocessor', preprocessor),\n",
    "    ('regressor', RandomForestRegressor(\n",
    "        n_estimators=100, \n",
    "        random_state=42))\n",
    "])\n",
    "\n",
    "\n",
    "X_train, X_test, y_train, y_test = train_test_split(X, y, test_size=0.2, random_state=42)\n",
    "rf_model.fit(X_train, y_train)\n",
    "y_pred = rf_model.predict(X_test)\n",
    "\n",
    "mse = mean_squared_error(y_test, y_pred)\n",
    "rmse = mse ** 0.5\n",
    "print(f\"RMSE: {rmse}\")\n"
   ]
  },
  {
   "cell_type": "markdown",
   "metadata": {},
   "source": [
    "### SVM"
   ]
  },
  {
   "cell_type": "code",
   "execution_count": 23,
   "metadata": {},
   "outputs": [
    {
     "name": "stdout",
     "output_type": "stream",
     "text": [
      "RMSE: 186.09158236868342\n"
     ]
    }
   ],
   "source": [
    "from sklearn.svm import SVR\n",
    "\n",
    "model = Pipeline(steps=[\n",
    "    ('preprocessor', preprocessor),\n",
    "    ('regressor', SVR(kernel='linear'))  # You can change the kernel and tweak other parameters\n",
    "])\n",
    "\n",
    "X_train, X_test, y_train, y_test = train_test_split(X, y, test_size=0.2, random_state=42)\n",
    "model.fit(X_train, y_train)\n",
    "y_pred = model.predict(X_test)\n",
    "\n",
    "mse = mean_squared_error(y_test, y_pred)\n",
    "rmse = mse ** 0.5\n",
    "print(f\"RMSE: {rmse}\")"
   ]
  },
  {
   "cell_type": "markdown",
   "metadata": {},
   "source": [
    "## GBM"
   ]
  },
  {
   "cell_type": "code",
   "execution_count": 24,
   "metadata": {},
   "outputs": [
    {
     "name": "stdout",
     "output_type": "stream",
     "text": [
      "RMSE: 163.28012927610666\n"
     ]
    }
   ],
   "source": [
    "from sklearn.ensemble import GradientBoostingRegressor\n",
    "\n",
    "gbm_model = Pipeline(steps=[\n",
    "    ('preprocessor', preprocessor),\n",
    "    ('regressor', GradientBoostingRegressor(n_estimators=100, learning_rate=0.1, max_depth=3, random_state=42))\n",
    "])\n",
    "\n",
    "X_train, X_test, y_train, y_test = train_test_split(X, y, test_size=0.2, random_state=42)\n",
    "gbm_model.fit(X_train, y_train)\n",
    "y_pred = gbm_model.predict(X_test)\n",
    "\n",
    "mse = mean_squared_error(y_test, y_pred)\n",
    "rmse = mse ** 0.5\n",
    "print(f\"RMSE: {rmse}\")"
   ]
  },
  {
   "cell_type": "markdown",
   "metadata": {},
   "source": [
    "## Ensemble Learning"
   ]
  },
  {
   "cell_type": "code",
   "execution_count": 17,
   "metadata": {},
   "outputs": [
    {
     "name": "stderr",
     "output_type": "stream",
     "text": [
      "d:\\Software\\anaconda3\\Lib\\site-packages\\sklearn\\ensemble\\_base.py:156: FutureWarning: `base_estimator` was renamed to `estimator` in version 1.2 and will be removed in 1.4.\n",
      "  warnings.warn(\n"
     ]
    },
    {
     "name": "stdout",
     "output_type": "stream",
     "text": [
      "Bagging RMSE: 152.72974844401946\n"
     ]
    }
   ],
   "source": [
    "from sklearn.ensemble import BaggingRegressor\n",
    "from sklearn.tree import DecisionTreeRegressor\n",
    "\n",
    "# Define the Bagging model\n",
    "bagging_model = Pipeline(steps=[\n",
    "    ('preprocessor', preprocessor),\n",
    "    ('bagging', BaggingRegressor(base_estimator=DecisionTreeRegressor(), n_estimators=100, random_state=42))\n",
    "])\n",
    "\n",
    "# Train the model\n",
    "bagging_model.fit(X_train, y_train)\n",
    "y_pred = bagging_model.predict(X_test)\n",
    "\n",
    "# Calculate RMSE\n",
    "mse = mean_squared_error(y_test, y_pred)\n",
    "rmse = mse ** 0.5\n",
    "print(f\"Bagging RMSE: {rmse}\")"
   ]
  },
  {
   "cell_type": "code",
   "execution_count": 3,
   "metadata": {},
   "outputs": [
    {
     "name": "stdout",
     "output_type": "stream",
     "text": [
      "<class 'pandas.core.frame.DataFrame'>\n",
      "RangeIndex: 253798 entries, 0 to 253797\n",
      "Data columns (total 24 columns):\n",
      " #   Column                          Non-Null Count   Dtype  \n",
      "---  ------                          --------------   -----  \n",
      " 0   id                              253798 non-null  int64  \n",
      " 1   host_id                         253798 non-null  int64  \n",
      " 2   host_response_time              253798 non-null  float64\n",
      " 3   host_response_rate              253798 non-null  float64\n",
      " 4   host_acceptance_rate            253798 non-null  float64\n",
      " 5   host_is_superhost               253798 non-null  int64  \n",
      " 6   host_identity_verified          253798 non-null  int64  \n",
      " 7   neighbourhood_cleansed          253798 non-null  object \n",
      " 8   latitude                        253798 non-null  float64\n",
      " 9   longitude                       253798 non-null  float64\n",
      " 10  room_type                       253798 non-null  object \n",
      " 11  accommodates                    253798 non-null  int64  \n",
      " 12  beds                            253798 non-null  float64\n",
      " 13  amenities                       253798 non-null  int64  \n",
      " 14  price                           253798 non-null  float64\n",
      " 15  number_of_reviews               253798 non-null  int64  \n",
      " 16  number_of_reviews_ltm           253798 non-null  int64  \n",
      " 17  number_of_reviews_l30d          253798 non-null  int64  \n",
      " 18  instant_bookable                253798 non-null  int64  \n",
      " 19  calculated_host_listings_count  253798 non-null  int64  \n",
      " 20  City                            253798 non-null  object \n",
      " 21  State                           253798 non-null  object \n",
      " 22  review_scores_rating            253798 non-null  float64\n",
      " 23  reviews_per_month               253798 non-null  float64\n",
      "dtypes: float64(9), int64(11), object(4)\n",
      "memory usage: 46.5+ MB\n"
     ]
    }
   ],
   "source": [
    "simple_imputed_df.info()"
   ]
  }
 ],
 "metadata": {
  "kernelspec": {
   "display_name": "base",
   "language": "python",
   "name": "python3"
  },
  "language_info": {
   "codemirror_mode": {
    "name": "ipython",
    "version": 3
   },
   "file_extension": ".py",
   "mimetype": "text/x-python",
   "name": "python",
   "nbconvert_exporter": "python",
   "pygments_lexer": "ipython3",
   "version": "3.11.5"
  }
 },
 "nbformat": 4,
 "nbformat_minor": 2
}
