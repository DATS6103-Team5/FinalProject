{
 "cells": [
  {
   "cell_type": "code",
   "execution_count": 1,
   "metadata": {},
   "outputs": [],
   "source": [
    "import pandas as pd\n",
    "import seaborn as sns\n",
    "import matplotlib.pyplot as plt\n",
    "\n",
    "import warnings\n",
    "warnings.filterwarnings('ignore')\n",
    "\n",
    "from sklearn.model_selection import train_test_split\n",
    "\n",
    "import xgboost as xgb\n",
    "import lightgbm as lgbm\n",
    "from sklearn.linear_model import LinearRegression\n",
    "from sklearn.tree import DecisionTreeRegressor\n",
    "from sklearn.ensemble import RandomForestRegressor\n",
    "\n",
    "from sklearn.metrics import mean_absolute_error, mean_squared_error"
   ]
  },
  {
   "cell_type": "code",
   "execution_count": 18,
   "metadata": {},
   "outputs": [
    {
     "name": "stdout",
     "output_type": "stream",
     "text": [
      "<class 'pandas.core.frame.DataFrame'>\n",
      "RangeIndex: 253798 entries, 0 to 253797\n",
      "Data columns (total 12 columns):\n",
      " #   Column                 Non-Null Count   Dtype  \n",
      "---  ------                 --------------   -----  \n",
      " 0   host_response_rate     253798 non-null  float64\n",
      " 1   host_acceptance_rate   253798 non-null  float64\n",
      " 2   latitude               253798 non-null  float64\n",
      " 3   longitude              253798 non-null  float64\n",
      " 4   accommodates           253798 non-null  int64  \n",
      " 5   beds                   253798 non-null  float64\n",
      " 6   number_of_reviews      253798 non-null  int64  \n",
      " 7   number_of_reviews_ltm  253798 non-null  int64  \n",
      " 8   review_scores_rating   199763 non-null  float64\n",
      " 9   reviews_per_month      199638 non-null  float64\n",
      " 10  bathrooms              73113 non-null   float64\n",
      " 11  price                  253798 non-null  float64\n",
      "dtypes: float64(9), int64(3)\n",
      "memory usage: 23.2 MB\n"
     ]
    }
   ],
   "source": [
    "df = pd.read_csv(\"model_imputed_df.csv\")\n",
    "df.head()\n",
    "model_cols = [\"host_response_rate\", \"host_acceptance_rate\", \"latitude\", \n",
    "              \"longitude\", \"accommodates\", \"beds\", \"number_of_reviews\", \n",
    "              \"number_of_reviews_ltm\", \"review_scores_rating\", \n",
    "              \"reviews_per_month\", \"bathrooms\", \"price\"]\n",
    "model_df = df[model_cols]\n",
    "model_df.info()\n",
    "\n"
   ]
  },
  {
   "cell_type": "code",
   "execution_count": 29,
   "metadata": {},
   "outputs": [
    {
     "name": "stdout",
     "output_type": "stream",
     "text": [
      "<class 'pandas.core.frame.DataFrame'>\n",
      "Index: 50234 entries, 0 to 225153\n",
      "Data columns (total 31 columns):\n",
      " #   Column                          Non-Null Count  Dtype  \n",
      "---  ------                          --------------  -----  \n",
      " 0   id                              50234 non-null  int64  \n",
      " 1   host_id                         50234 non-null  int64  \n",
      " 2   host_response_time              50234 non-null  float64\n",
      " 3   host_response_rate              50234 non-null  float64\n",
      " 4   host_acceptance_rate            50234 non-null  float64\n",
      " 5   host_is_superhost               50234 non-null  int64  \n",
      " 6   host_identity_verified          50234 non-null  int64  \n",
      " 7   neighbourhood_cleansed          50234 non-null  object \n",
      " 8   latitude                        50234 non-null  float64\n",
      " 9   longitude                       50234 non-null  float64\n",
      " 10  room_type                       50234 non-null  int64  \n",
      " 11  accommodates                    50234 non-null  int64  \n",
      " 12  beds                            50234 non-null  float64\n",
      " 13  amenities                       50234 non-null  int64  \n",
      " 14  price                           50234 non-null  float64\n",
      " 15  number_of_reviews               50234 non-null  int64  \n",
      " 16  number_of_reviews_ltm           50234 non-null  int64  \n",
      " 17  number_of_reviews_l30d          50234 non-null  int64  \n",
      " 18  instant_bookable                50234 non-null  int64  \n",
      " 19  calculated_host_listings_count  50234 non-null  int64  \n",
      " 20  City                            50234 non-null  int64  \n",
      " 21  State                           50234 non-null  int64  \n",
      " 22  review_scores_rating            50234 non-null  float64\n",
      " 23  reviews_per_month               50234 non-null  float64\n",
      " 24  bathrooms                       50234 non-null  float64\n",
      " 25  review_scores_accuracy          50234 non-null  float64\n",
      " 26  review_scores_cleanliness       50234 non-null  float64\n",
      " 27  review_scores_checkin           50234 non-null  float64\n",
      " 28  review_scores_communication     50234 non-null  float64\n",
      " 29  review_scores_location          50234 non-null  float64\n",
      " 30  review_scores_value             50234 non-null  float64\n",
      "dtypes: float64(16), int64(14), object(1)\n",
      "memory usage: 12.3+ MB\n"
     ]
    }
   ],
   "source": [
    "df.info()"
   ]
  },
  {
   "cell_type": "code",
   "execution_count": 21,
   "metadata": {},
   "outputs": [
    {
     "data": {
      "text/plain": [
       "((228418, 11), (25380, 11), (228418,), (25380,))"
      ]
     },
     "execution_count": 21,
     "metadata": {},
     "output_type": "execute_result"
    }
   ],
   "source": [
    "# Split the data into train and test sets.\n",
    "\n",
    "X_train, X_test, y_train, y_test = train_test_split(X, y, test_size = 0.1, random_state = 42)\n",
    "X_train.shape, X_test.shape, y_train.shape, y_test.shape"
   ]
  },
  {
   "cell_type": "code",
   "execution_count": 22,
   "metadata": {},
   "outputs": [
    {
     "name": "stdout",
     "output_type": "stream",
     "text": [
      "['Private room' 'Entire home/apt' 'Shared room' 'Hotel room']\n",
      "['albany' 'asheville' 'austin' 'boston' 'bozeman' 'broward-county'\n",
      " 'cambridge' 'chicago' 'clark-county-nv' 'columbus' 'dallas' 'denver'\n",
      " 'fort-worth' 'hawaii' 'jersey-city' 'los-angeles' 'nashville'\n",
      " 'new-orleans' 'new-york-city' 'newark' 'oakland' 'pacific-grove'\n",
      " 'portland' 'rhode-island' 'rochester' 'salem-or' 'san-diego'\n",
      " 'san-francisco' 'san-mateo-county' 'santa-clara-county'\n",
      " 'santa-cruz-county' 'seattle' 'twin-cities-msa' 'washington-dc']\n",
      "['ny' 'nc' 'tx' 'ma' 'mt' 'fl' 'il' 'nv' 'oh' 'co' 'hi' 'nj' 'ca' 'tn'\n",
      " 'la' 'or' 'ri' 'wa' 'mn' 'dc']\n",
      "[0 1]\n"
     ]
    }
   ],
   "source": [
    "#print unique values of 'room_type', 'City', 'State', 'instant_bookable'\n",
    "print(df['room_type'].unique())\n",
    "print(df['City'].unique())\n",
    "print(df['State'].unique())\n",
    "print(df['instant_bookable'].unique())"
   ]
  },
  {
   "cell_type": "code",
   "execution_count": 23,
   "metadata": {},
   "outputs": [],
   "source": [
    "# Encoding Categorical Variables\n",
    "df['room_type'] = df['room_type'].map({'Entire home/apt':0, 'Private room':1, 'Shared room':2, 'Hotel room':3})\n",
    "df['City'] = df['City'].map({'albany':0, 'asheville':1, 'austin':2, 'boston':3, 'bozeman':4, \n",
    "                                         'broward-county':5, 'cambridge':6, 'chicago':7, 'clark-county-nv':8, \n",
    "                                         'columbus':9, 'dallas':10, 'denver':11, 'fort-worth':12, 'hawaii':13, \n",
    "                                         'jersey-city':14, 'los-angeles':15, 'nashville':16, 'new-orleans':17, \n",
    "                                         'new-york-city':18, 'newark':19, 'oakland':20, 'pacific-grove':21, \n",
    "                                         'portland':22, 'rhode-island':23, 'rochester':24, 'salem-or':25, \n",
    "                                         'san-diego':26, 'san-francisco':27, 'san-mateo-county':28, \n",
    "                                         'santa-clara-county':29, 'santa-cruz-county':30, 'seattle':31, \n",
    "                                         'twin-cities-msa':32, 'washington-dc':33})\n",
    "df['State'] = df['State'].map({'ny':1, 'nc':2, 'tx':3, 'ma':4, 'mt':5, 'fl':6,\n",
    "                                                             'il':7, 'nv':8, 'oh':9, 'co':10, 'hi':11, 'nj':12,\n",
    "                                                             'ca':13, 'tn':14, 'la':15, 'or':16, 'ri':17, 'wa':18,\n",
    "                                                             'mn':19, 'dc':20})"
   ]
  },
  {
   "cell_type": "code",
   "execution_count": 32,
   "metadata": {},
   "outputs": [
    {
     "name": "stdout",
     "output_type": "stream",
     "text": [
      "[1 0 2 3]\n",
      "[ 0  4 10 12 13 18 22 24 27]\n",
      "[ 1  5  3 11 16 13]\n",
      "[0 1]\n"
     ]
    }
   ],
   "source": [
    "df.head()\n",
    "print(df['room_type'].unique())\n",
    "print(df['City'].unique())\n",
    "print(df['State'].unique())\n",
    "print(df['instant_bookable'].unique())"
   ]
  },
  {
   "cell_type": "code",
   "execution_count": 38,
   "metadata": {},
   "outputs": [],
   "source": [
    "# calculate the null value in each column\n",
    "df.isnull().sum()\n",
    "#remove all null values\n",
    "df = df.dropna()\n",
    "df.isnull().sum()\n",
    "#remove neighbourhood_cleansed column\n",
    "df = df.drop(['neighbourhood_cleansed'], axis=1)"
   ]
  },
  {
   "cell_type": "code",
   "execution_count": 39,
   "metadata": {},
   "outputs": [
    {
     "data": {
      "text/plain": [
       "((40187, 29), (10047, 29), (40187,), (10047,))"
      ]
     },
     "execution_count": 39,
     "metadata": {},
     "output_type": "execute_result"
    }
   ],
   "source": [
    "X = df.drop([\"price\"], axis = 1)\n",
    "y = df[\"price\"]\n",
    "X.shape, y.shape\n",
    "X_train, X_test, y_train, y_test = train_test_split(X, y, test_size=0.2, random_state=42)\n",
    "X_train.shape, X_test.shape, y_train.shape, y_test.shape"
   ]
  },
  {
   "cell_type": "code",
   "execution_count": 45,
   "metadata": {},
   "outputs": [],
   "source": [
    "# Creating a function to display the train and test metrics.\n",
    "\n",
    "def display_results(model, y_train, train_preds, y_test, test_preds):\n",
    "\n",
    "  train_mae = mean_absolute_error(y_train, train_preds)\n",
    "  train_rmse = mean_squared_error(y_train, train_preds)**0.5\n",
    "\n",
    "  test_mae = mean_absolute_error(y_test, test_preds)\n",
    "  test_rmse = mean_squared_error(y_test, test_preds)**0.5\n",
    "\n",
    "  model_name = model.__class__.__name__\n",
    "\n",
    "  print(f\"Results for {model_name}:\")\n",
    "\n",
    "  print(f\"Mean Absolute Error for Training data: {train_mae}\")\n",
    "  print(f\"Root Mean Squared Error for Training data: {train_rmse}\")\n",
    "\n",
    "  print(f\"Mean Absolute Error for Test data: {test_mae}\")\n",
    "  print(f\"Root Mean Squared Error for Test_data: {test_rmse}\")\n",
    "\n",
    "  return {\"Model\": model_name,\n",
    "          \"Train MAE\": train_mae,\n",
    "          \"Train RMSE\": train_rmse,\n",
    "          \"Test MAE\": test_mae,\n",
    "          \"Test RMSE\": test_rmse}"
   ]
  },
  {
   "cell_type": "markdown",
   "metadata": {},
   "source": [
    "### Linear Regression"
   ]
  },
  {
   "cell_type": "code",
   "execution_count": 48,
   "metadata": {},
   "outputs": [
    {
     "name": "stdout",
     "output_type": "stream",
     "text": [
      "Results for LinearRegression:\n",
      "Mean Absolute Error for Training data: 125.61277167149187\n",
      "Root Mean Squared Error for Training data: 178.7843528813763\n",
      "Mean Absolute Error for Test data: 122.17222646317444\n",
      "Root Mean Squared Error for Test_data: 172.95893545083047\n"
     ]
    }
   ],
   "source": [
    "# Train the model using training set.\n",
    "\n",
    "model1 = LinearRegression()\n",
    "model1.fit(X_train, y_train)\n",
    "y_train_pred = model1.predict(X_train)\n",
    "y_test_pred = model1.predict(X_test)\n",
    "linear_results = display_results(model1, y_train, y_train_pred, y_test, y_test_pred)"
   ]
  },
  {
   "cell_type": "markdown",
   "metadata": {},
   "source": [
    "### Decision Tree"
   ]
  },
  {
   "cell_type": "code",
   "execution_count": 50,
   "metadata": {},
   "outputs": [
    {
     "name": "stdout",
     "output_type": "stream",
     "text": [
      "Results for DecisionTreeRegressor:\n",
      "Mean Absolute Error for Training data: 0.0\n",
      "Root Mean Squared Error for Training data: 0.0\n",
      "Mean Absolute Error for Test data: 80.67811286951328\n",
      "Root Mean Squared Error for Test_data: 140.11908406324247\n"
     ]
    }
   ],
   "source": [
    "#Decision Tree Regressor\n",
    "model2 = DecisionTreeRegressor()\n",
    "model2.fit(X_train, y_train)\n",
    "y_train_pred = model2.predict(X_train)\n",
    "y_test_pred = model2.predict(X_test)\n",
    "dt_results = display_results(model2, y_train, y_train_pred, y_test, y_test_pred)\n"
   ]
  },
  {
   "cell_type": "code",
   "execution_count": 64,
   "metadata": {},
   "outputs": [
    {
     "name": "stdout",
     "output_type": "stream",
     "text": [
      "0.5791657247427922\n",
      "Results for DecisionTreeRegressor:\n",
      "Mean Absolute Error for Training data: 56.87452170135624\n",
      "Root Mean Squared Error for Training data: 94.43374666084796\n",
      "Mean Absolute Error for Test data: 69.12679574731426\n",
      "Root Mean Squared Error for Test_data: 114.54945569798485\n"
     ]
    }
   ],
   "source": [
    "model2_1 = DecisionTreeRegressor(max_depth = 15, min_samples_split = 40, min_samples_leaf = 10, min_impurity_decrease=0.0001)\n",
    "model2_1.fit(X_train, y_train)\n",
    "dtr_train_preds = model2_1.predict(X_train)\n",
    "dtr_test_preds = model2_1.predict(X_test)\n",
    "accuracy = model2_1.score(X_test, y_test)\n",
    "print(accuracy)\n",
    "dtr_results = display_results(model2_1, y_train, dtr_train_preds, y_test, dtr_test_preds)"
   ]
  },
  {
   "cell_type": "code",
   "execution_count": 63,
   "metadata": {},
   "outputs": [
    {
     "name": "stdout",
     "output_type": "stream",
     "text": [
      "Results for RandomForestRegressor:\n",
      "Mean Absolute Error for Training data: 21.97922263418518\n",
      "Root Mean Squared Error for Training data: 37.11065842418371\n",
      "Mean Absolute Error for Test data: 58.3994923857868\n",
      "Root Mean Squared Error for Test_data: 98.12563388412703\n"
     ]
    }
   ],
   "source": [
    "#Random Forest Regressor\n",
    "model3 = RandomForestRegressor()\n",
    "model3.fit(X_train, y_train)\n",
    "y_train_pred = model3.predict(X_train)\n",
    "y_test_pred = model3.predict(X_test)\n",
    "rf_results = display_results(model3, y_train, y_train_pred, y_test, y_test_pred)\n",
    "#It seems the model is overfitting. So we need to tune the hyperparameters.\n"
   ]
  },
  {
   "cell_type": "code",
   "execution_count": 55,
   "metadata": {},
   "outputs": [
    {
     "name": "stdout",
     "output_type": "stream",
     "text": [
      "0.6896254564273017\n",
      "Results for RandomForestRegressor:\n",
      "Mean Absolute Error for Training data: 54.17524938019303\n",
      "Root Mean Squared Error for Training data: 90.60840188408402\n",
      "Mean Absolute Error for Test data: 62.1610293705738\n",
      "Root Mean Squared Error for Test_data: 102.99641594080488\n"
     ]
    }
   ],
   "source": [
    "#Tuning the hyperparameters\n",
    "model3_1 = RandomForestRegressor(n_estimators=100, max_depth = 15, min_samples_split = 40, min_samples_leaf = 10)\n",
    "model3_1.fit(X_train, y_train)\n",
    "rfr_train_preds = model3_1.predict(X_train)\n",
    "rfr_test_preds = model3_1.predict(X_test)\n",
    "accuracy = model3.score(X_test, y_test)\n",
    "print(accuracy)\n",
    "rfr_results = display_results(model3_1, y_train, rfr_train_preds, y_test, rfr_test_preds)"
   ]
  },
  {
   "cell_type": "markdown",
   "metadata": {},
   "source": [
    "### Gradient Boosting Regressor"
   ]
  },
  {
   "cell_type": "code",
   "execution_count": 69,
   "metadata": {},
   "outputs": [
    {
     "name": "stdout",
     "output_type": "stream",
     "text": [
      "0.6035924374598709\n",
      "Results for GradientBoostingRegressor:\n",
      "Mean Absolute Error for Training data: 69.69711361113181\n",
      "Root Mean Squared Error for Training data: 110.50749961913613\n",
      "Mean Absolute Error for Test data: 69.98342568394007\n",
      "Root Mean Squared Error for Test_data: 111.17533415290966\n"
     ]
    }
   ],
   "source": [
    "from sklearn.ensemble import GradientBoostingRegressor\n",
    "model4 = GradientBoostingRegressor()\n",
    "model4.fit(X_train, y_train)\n",
    "y_train_pred = model4.predict(X_train)\n",
    "y_test_pred = model4.predict(X_test)\n",
    "accuracy = model4.score(X_test, y_test)\n",
    "print(accuracy)\n",
    "gb_results = display_results(model4, y_train, y_train_pred, y_test, y_test_pred)"
   ]
  },
  {
   "cell_type": "markdown",
   "metadata": {},
   "source": [
    "### XG Boost"
   ]
  },
  {
   "cell_type": "code",
   "execution_count": 53,
   "metadata": {},
   "outputs": [
    {
     "name": "stdout",
     "output_type": "stream",
     "text": [
      "0.698770312382875\n",
      "Results for XGBRegressor:\n",
      "Mean Absolute Error for Training data: 46.55701344434738\n",
      "Root Mean Squared Error for Training data: 71.01539496102234\n",
      "Mean Absolute Error for Test data: 59.93100858516149\n",
      "Root Mean Squared Error for Test_data: 96.9139653376738\n"
     ]
    }
   ],
   "source": [
    "model5 = xgb.XGBRegressor()\n",
    "model5.fit(X_train, y_train)\n",
    "xgb_train_preds = model5.predict(X_train)\n",
    "xgb_test_preds = model5.predict(X_test)\n",
    "accuracy = model5.score(X_test, y_test)\n",
    "print(accuracy)\n",
    "xgb_results = display_results(model5, y_train, xgb_train_preds, y_test, xgb_test_preds)"
   ]
  },
  {
   "cell_type": "markdown",
   "metadata": {},
   "source": [
    "### Light GBM"
   ]
  },
  {
   "cell_type": "code",
   "execution_count": 56,
   "metadata": {},
   "outputs": [
    {
     "name": "stdout",
     "output_type": "stream",
     "text": [
      "[LightGBM] [Info] Auto-choosing row-wise multi-threading, the overhead of testing was 0.002524 seconds.\n",
      "You can set `force_row_wise=true` to remove the overhead.\n",
      "And if memory is not enough, you can set `force_col_wise=true`.\n",
      "[LightGBM] [Info] Total Bins 3209\n",
      "[LightGBM] [Info] Number of data points in the train set: 40187, number of used features: 29\n",
      "[LightGBM] [Info] Start training from score 220.589892\n",
      "0.7233434833029752\n",
      "Results for LGBMRegressor:\n",
      "Mean Absolute Error for Training data: 33.91574151155869\n",
      "Root Mean Squared Error for Training data: 51.5284221806568\n",
      "Mean Absolute Error for Test data: 56.52495288033044\n",
      "Root Mean Squared Error for Test_data: 92.87694679604104\n"
     ]
    }
   ],
   "source": [
    "model6 = lgbm.LGBMRegressor(num_iterations = 1000)\n",
    "model6.fit(X_train, y_train)\n",
    "lgbm_train_preds = model6.predict(X_train)\n",
    "lgbm_test_preds = model6.predict(X_test)\n",
    "accuracy = model6.score(X_test, y_test)\n",
    "print(accuracy)\n",
    "lgbm_results = display_results(model6, y_train, lgbm_train_preds, y_test, lgbm_test_preds)"
   ]
  },
  {
   "cell_type": "code",
   "execution_count": 70,
   "metadata": {},
   "outputs": [
    {
     "data": {
      "text/html": [
       "<div>\n",
       "<style scoped>\n",
       "    .dataframe tbody tr th:only-of-type {\n",
       "        vertical-align: middle;\n",
       "    }\n",
       "\n",
       "    .dataframe tbody tr th {\n",
       "        vertical-align: top;\n",
       "    }\n",
       "\n",
       "    .dataframe thead th {\n",
       "        text-align: right;\n",
       "    }\n",
       "</style>\n",
       "<table border=\"1\" class=\"dataframe\">\n",
       "  <thead>\n",
       "    <tr style=\"text-align: right;\">\n",
       "      <th></th>\n",
       "      <th>Model</th>\n",
       "      <th>Train MAE</th>\n",
       "      <th>Train RMSE</th>\n",
       "      <th>Test MAE</th>\n",
       "      <th>Test RMSE</th>\n",
       "    </tr>\n",
       "  </thead>\n",
       "  <tbody>\n",
       "    <tr>\n",
       "      <th>0</th>\n",
       "      <td>LinearRegression</td>\n",
       "      <td>125.612772</td>\n",
       "      <td>178.784353</td>\n",
       "      <td>122.172226</td>\n",
       "      <td>172.958935</td>\n",
       "    </tr>\n",
       "    <tr>\n",
       "      <th>1</th>\n",
       "      <td>DecisionTreeRegressor</td>\n",
       "      <td>56.874522</td>\n",
       "      <td>94.433747</td>\n",
       "      <td>69.126796</td>\n",
       "      <td>114.549456</td>\n",
       "    </tr>\n",
       "    <tr>\n",
       "      <th>2</th>\n",
       "      <td>RandomForestRegressor</td>\n",
       "      <td>54.175249</td>\n",
       "      <td>90.608402</td>\n",
       "      <td>62.161029</td>\n",
       "      <td>102.996416</td>\n",
       "    </tr>\n",
       "    <tr>\n",
       "      <th>3</th>\n",
       "      <td>GradientBoostingRegressor</td>\n",
       "      <td>69.697114</td>\n",
       "      <td>110.507500</td>\n",
       "      <td>69.983426</td>\n",
       "      <td>111.175334</td>\n",
       "    </tr>\n",
       "    <tr>\n",
       "      <th>4</th>\n",
       "      <td>XGBRegressor</td>\n",
       "      <td>46.557013</td>\n",
       "      <td>71.015395</td>\n",
       "      <td>59.931009</td>\n",
       "      <td>96.913965</td>\n",
       "    </tr>\n",
       "    <tr>\n",
       "      <th>5</th>\n",
       "      <td>LGBMRegressor</td>\n",
       "      <td>33.915742</td>\n",
       "      <td>51.528422</td>\n",
       "      <td>56.524953</td>\n",
       "      <td>92.876947</td>\n",
       "    </tr>\n",
       "  </tbody>\n",
       "</table>\n",
       "</div>"
      ],
      "text/plain": [
       "                       Model   Train MAE  Train RMSE    Test MAE   Test RMSE\n",
       "0           LinearRegression  125.612772  178.784353  122.172226  172.958935\n",
       "1      DecisionTreeRegressor   56.874522   94.433747   69.126796  114.549456\n",
       "2      RandomForestRegressor   54.175249   90.608402   62.161029  102.996416\n",
       "3  GradientBoostingRegressor   69.697114  110.507500   69.983426  111.175334\n",
       "4               XGBRegressor   46.557013   71.015395   59.931009   96.913965\n",
       "5              LGBMRegressor   33.915742   51.528422   56.524953   92.876947"
      ]
     },
     "execution_count": 70,
     "metadata": {},
     "output_type": "execute_result"
    }
   ],
   "source": [
    "results_df = pd.DataFrame([linear_results, dtr_results, rfr_results, gb_results, xgb_results, lgbm_results])\n",
    "results_df"
   ]
  },
  {
   "cell_type": "code",
   "execution_count": 72,
   "metadata": {},
   "outputs": [
    {
     "data": {
      "image/png": "[encoded data removed]",
      "text/plain": [
       "<Figure size 640x480 with 1 Axes>"
      ]
     },
     "metadata": {},
     "output_type": "display_data"
    }
   ],
   "source": [
    "#Compare the performance of the models on the test set.\n",
    "sns.barplot(data = results_df, x = \"Model\", y = \"Test MAE\")\n",
    "plt.title(\"Comparison of Test RMSE for different models\")\n",
    "plt.xticks(rotation=45)\n",
    "for i in range(6):\n",
    "    plt.text(i, results_df[\"Test MAE\"][i], f\"{results_df['Test MAE'][i]:.2f}\", ha=\"center\")\n",
    "plt.show()\n"
   ]
  },
  {
   "cell_type": "markdown",
   "metadata": {},
   "source": [
    "### Max Voting"
   ]
  },
  {
   "cell_type": "code",
   "execution_count": 73,
   "metadata": {},
   "outputs": [
    {
     "name": "stdout",
     "output_type": "stream",
     "text": [
      "[LightGBM] [Info] Auto-choosing col-wise multi-threading, the overhead of testing was 0.003780 seconds.\n",
      "You can set `force_col_wise=true` to remove the overhead.\n",
      "[LightGBM] [Info] Total Bins 3209\n",
      "[LightGBM] [Info] Number of data points in the train set: 40187, number of used features: 29\n",
      "[LightGBM] [Info] Start training from score 220.589892\n",
      "0.7225784991680301\n",
      "Results for VotingRegressor:\n",
      "Mean Absolute Error for Training data: 39.01159872007138\n",
      "Root Mean Squared Error for Training data: 59.614999185054494\n",
      "Mean Absolute Error for Test data: 56.71820966762228\n",
      "Root Mean Squared Error for Test_data: 93.00526537803333\n"
     ]
    }
   ],
   "source": [
    "from sklearn.ensemble import VotingRegressor\n",
    "model5 = xgb.XGBRegressor(random_state=1)\n",
    "model6 = lgbm.LGBMRegressor(num_iterations = 1000, random_state=1)\n",
    "\n",
    "model_mv = VotingRegressor(estimators=[('xgb', model5), ('lgbm', model6)])\n",
    "model_mv.fit(X_train, y_train)\n",
    "\n",
    "maxv_train_preds = model_mv.predict(X_train)\n",
    "maxv_test_preds = model_mv.predict(X_test)\n",
    "accuracy = model_mv.score(X_test, y_test)\n",
    "print(accuracy)\n",
    "lgbm_results = display_results(model_mv, y_train, maxv_train_preds, y_test, maxv_test_preds)"
   ]
  },
  {
   "cell_type": "code",
   "execution_count": 75,
   "metadata": {},
   "outputs": [
    {
     "name": "stdout",
     "output_type": "stream",
     "text": [
      "0:\tlearn: 174.9500020\ttotal: 145ms\tremaining: 2m 24s\n",
      "100:\tlearn: 106.1744683\ttotal: 1.08s\tremaining: 9.59s\n",
      "200:\tlearn: 97.5621572\ttotal: 1.98s\tremaining: 7.87s\n",
      "300:\tlearn: 92.7450129\ttotal: 2.78s\tremaining: 6.46s\n",
      "400:\tlearn: 89.1049129\ttotal: 3.61s\tremaining: 5.4s\n",
      "500:\tlearn: 86.1237330\ttotal: 4.42s\tremaining: 4.4s\n",
      "600:\tlearn: 83.6308781\ttotal: 5.23s\tremaining: 3.47s\n",
      "700:\tlearn: 81.3080926\ttotal: 5.97s\tremaining: 2.55s\n",
      "800:\tlearn: 79.3418938\ttotal: 6.73s\tremaining: 1.67s\n",
      "900:\tlearn: 77.4688213\ttotal: 7.42s\tremaining: 815ms\n",
      "999:\tlearn: 75.7746498\ttotal: 8.15s\tremaining: 0us\n",
      "0.7191928171900576\n",
      "Results for CatBoostRegressor:\n",
      "Mean Absolute Error for Training data: 48.95996603048227\n",
      "Root Mean Squared Error for Training data: 75.77464978541775\n",
      "Mean Absolute Error for Test data: 57.52252904637432\n",
      "Root Mean Squared Error for Test_data: 93.57106749054785\n"
     ]
    }
   ],
   "source": [
    "#Cat Boost\n",
    "from catboost import CatBoostRegressor\n",
    "model7 = CatBoostRegressor(iterations=1000, learning_rate=0.1, depth=6, verbose=100)\n",
    "model7.fit(X_train, y_train)\n",
    "cat_train_preds = model7.predict(X_train)\n",
    "cat_test_preds = model7.predict(X_test)\n",
    "accuracy = model7.score(X_test, y_test)\n",
    "print(accuracy)\n",
    "cat_results = display_results(model7, y_train, cat_train_preds, y_test, cat_test_preds)\n"
   ]
  }
 ],
 "metadata": {
  "kernelspec": {
   "display_name": "base",
   "language": "python",
   "name": "python3"
  },
  "language_info": {
   "codemirror_mode": {
    "name": "ipython",
    "version": 3
   },
   "file_extension": ".py",
   "mimetype": "text/x-python",
   "name": "python",
   "nbconvert_exporter": "python",
   "pygments_lexer": "ipython3",
   "version": "3.11.5"
  }
 },
 "nbformat": 4,
 "nbformat_minor": 2
}
