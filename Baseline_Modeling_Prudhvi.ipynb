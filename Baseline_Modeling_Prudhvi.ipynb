{
  "nbformat": 4,
  "nbformat_minor": 0,
  "metadata": {
    "colab": {
      "provenance": []
    },
    "kernelspec": {
      "name": "python3",
      "display_name": "Python 3"
    },
    "language_info": {
      "name": "python"
    }
  },
  "cells": [
    {
      "cell_type": "markdown",
      "source": [
        "# Modeling"
      ],
      "metadata": {
        "id": "W9Y3NlAP5zub"
      }
    },
    {
      "cell_type": "markdown",
      "source": [
        "## Import the Libraries"
      ],
      "metadata": {
        "id": "8VmNA0HE51f4"
      }
    },
    {
      "cell_type": "code",
      "execution_count": 1,
      "metadata": {
        "id": "r7WhBRSz5rTF"
      },
      "outputs": [],
      "source": [
        "import pandas as pd\n",
        "import seaborn as sns\n",
        "import matplotlib.pyplot as plt\n",
        "\n",
        "import warnings\n",
        "warnings.filterwarnings('ignore')\n",
        "\n",
        "from sklearn.model_selection import train_test_split\n",
        "\n",
        "import xgboost as xgb\n",
        "import lightgbm as lgbm\n",
        "from sklearn.linear_model import LinearRegression\n",
        "from sklearn.tree import DecisionTreeRegressor\n",
        "from sklearn.ensemble import RandomForestRegressor\n",
        "\n",
        "from sklearn.metrics import mean_absolute_error, mean_squared_error"
      ]
    },
    {
      "cell_type": "markdown",
      "source": [
        "## Import the Data"
      ],
      "metadata": {
        "id": "nKDqL6K3631S"
      }
    },
    {
      "cell_type": "code",
      "source": [
        "df = pd.read_csv(\"simple_imputed_df.csv\")\n",
        "df.head()"
      ],
      "metadata": {
        "colab": {
          "base_uri": "https://localhost:8080/",
          "height": 255
        },
        "id": "OhD_bBCJ62gI",
        "outputId": "c12d5d21-ef15-4780-cee0-8fb501be155b"
      },
      "execution_count": 2,
      "outputs": [
        {
          "output_type": "execute_result",
          "data": {
            "text/plain": [
              "        id   host_id  host_response_time  host_response_rate  \\\n",
              "0  1489424   5294164                 1.0               100.0   \n",
              "1  2992450   4621559                 3.0               100.0   \n",
              "2  3820211  19648678                 1.0               100.0   \n",
              "3  5651579  29288920                 1.0               100.0   \n",
              "4  6623339  19648678                 1.0               100.0   \n",
              "\n",
              "   host_acceptance_rate  host_is_superhost  host_identity_verified  \\\n",
              "0                  87.0                  0                       1   \n",
              "1                 100.0                  0                       0   \n",
              "2                  66.0                  0                       1   \n",
              "3                  99.0                  0                       1   \n",
              "4                  66.0                  0                       1   \n",
              "\n",
              "  neighbourhood_cleansed  latitude  longitude  ... number_of_reviews  \\\n",
              "0        FOURTEENTH WARD  42.66719  -73.81580  ...               248   \n",
              "1             THIRD WARD  42.65789  -73.75370  ...                 9   \n",
              "2             SIXTH WARD  42.65222  -73.76724  ...               292   \n",
              "3            SECOND WARD  42.64615  -73.75966  ...               337   \n",
              "4             SIXTH WARD  42.65222  -73.76724  ...               306   \n",
              "\n",
              "   number_of_reviews_ltm  number_of_reviews_l30d  instant_bookable  \\\n",
              "0                     50                       6                 0   \n",
              "1                      0                       0                 0   \n",
              "2                      8                       1                 0   \n",
              "3                     31                       4                 0   \n",
              "4                      5                       0                 0   \n",
              "\n",
              "   calculated_host_listings_count    City  State  review_scores_rating  \\\n",
              "0                               1  albany     ny                  4.75   \n",
              "1                               1  albany     ny                  3.56   \n",
              "2                               4  albany     ny                  4.74   \n",
              "3                               2  albany     ny                  4.51   \n",
              "4                               4  albany     ny                  4.73   \n",
              "\n",
              "   reviews_per_month  bathrooms  \n",
              "0               1.94        1.0  \n",
              "1               0.08        1.0  \n",
              "2               2.51        1.0  \n",
              "3               3.13        1.0  \n",
              "4               2.87        1.0  \n",
              "\n",
              "[5 rows x 25 columns]"
            ],
            "text/html": [
              "\n",
              "  <div id=\"df-62dcd7be-b164-4de8-b253-5a2224b361e5\" class=\"colab-df-container\">\n",
              "    <div>\n",
              "<style scoped>\n",
              "    .dataframe tbody tr th:only-of-type {\n",
              "        vertical-align: middle;\n",
              "    }\n",
              "\n",
              "    .dataframe tbody tr th {\n",
              "        vertical-align: top;\n",
              "    }\n",
              "\n",
              "    .dataframe thead th {\n",
              "        text-align: right;\n",
              "    }\n",
              "</style>\n",
              "<table border=\"1\" class=\"dataframe\">\n",
              "  <thead>\n",
              "    <tr style=\"text-align: right;\">\n",
              "      <th></th>\n",
              "      <th>id</th>\n",
              "      <th>host_id</th>\n",
              "      <th>host_response_time</th>\n",
              "      <th>host_response_rate</th>\n",
              "      <th>host_acceptance_rate</th>\n",
              "      <th>host_is_superhost</th>\n",
              "      <th>host_identity_verified</th>\n",
              "      <th>neighbourhood_cleansed</th>\n",
              "      <th>latitude</th>\n",
              "      <th>longitude</th>\n",
              "      <th>...</th>\n",
              "      <th>number_of_reviews</th>\n",
              "      <th>number_of_reviews_ltm</th>\n",
              "      <th>number_of_reviews_l30d</th>\n",
              "      <th>instant_bookable</th>\n",
              "      <th>calculated_host_listings_count</th>\n",
              "      <th>City</th>\n",
              "      <th>State</th>\n",
              "      <th>review_scores_rating</th>\n",
              "      <th>reviews_per_month</th>\n",
              "      <th>bathrooms</th>\n",
              "    </tr>\n",
              "  </thead>\n",
              "  <tbody>\n",
              "    <tr>\n",
              "      <th>0</th>\n",
              "      <td>1489424</td>\n",
              "      <td>5294164</td>\n",
              "      <td>1.0</td>\n",
              "      <td>100.0</td>\n",
              "      <td>87.0</td>\n",
              "      <td>0</td>\n",
              "      <td>1</td>\n",
              "      <td>FOURTEENTH WARD</td>\n",
              "      <td>42.66719</td>\n",
              "      <td>-73.81580</td>\n",
              "      <td>...</td>\n",
              "      <td>248</td>\n",
              "      <td>50</td>\n",
              "      <td>6</td>\n",
              "      <td>0</td>\n",
              "      <td>1</td>\n",
              "      <td>albany</td>\n",
              "      <td>ny</td>\n",
              "      <td>4.75</td>\n",
              "      <td>1.94</td>\n",
              "      <td>1.0</td>\n",
              "    </tr>\n",
              "    <tr>\n",
              "      <th>1</th>\n",
              "      <td>2992450</td>\n",
              "      <td>4621559</td>\n",
              "      <td>3.0</td>\n",
              "      <td>100.0</td>\n",
              "      <td>100.0</td>\n",
              "      <td>0</td>\n",
              "      <td>0</td>\n",
              "      <td>THIRD WARD</td>\n",
              "      <td>42.65789</td>\n",
              "      <td>-73.75370</td>\n",
              "      <td>...</td>\n",
              "      <td>9</td>\n",
              "      <td>0</td>\n",
              "      <td>0</td>\n",
              "      <td>0</td>\n",
              "      <td>1</td>\n",
              "      <td>albany</td>\n",
              "      <td>ny</td>\n",
              "      <td>3.56</td>\n",
              "      <td>0.08</td>\n",
              "      <td>1.0</td>\n",
              "    </tr>\n",
              "    <tr>\n",
              "      <th>2</th>\n",
              "      <td>3820211</td>\n",
              "      <td>19648678</td>\n",
              "      <td>1.0</td>\n",
              "      <td>100.0</td>\n",
              "      <td>66.0</td>\n",
              "      <td>0</td>\n",
              "      <td>1</td>\n",
              "      <td>SIXTH WARD</td>\n",
              "      <td>42.65222</td>\n",
              "      <td>-73.76724</td>\n",
              "      <td>...</td>\n",
              "      <td>292</td>\n",
              "      <td>8</td>\n",
              "      <td>1</td>\n",
              "      <td>0</td>\n",
              "      <td>4</td>\n",
              "      <td>albany</td>\n",
              "      <td>ny</td>\n",
              "      <td>4.74</td>\n",
              "      <td>2.51</td>\n",
              "      <td>1.0</td>\n",
              "    </tr>\n",
              "    <tr>\n",
              "      <th>3</th>\n",
              "      <td>5651579</td>\n",
              "      <td>29288920</td>\n",
              "      <td>1.0</td>\n",
              "      <td>100.0</td>\n",
              "      <td>99.0</td>\n",
              "      <td>0</td>\n",
              "      <td>1</td>\n",
              "      <td>SECOND WARD</td>\n",
              "      <td>42.64615</td>\n",
              "      <td>-73.75966</td>\n",
              "      <td>...</td>\n",
              "      <td>337</td>\n",
              "      <td>31</td>\n",
              "      <td>4</td>\n",
              "      <td>0</td>\n",
              "      <td>2</td>\n",
              "      <td>albany</td>\n",
              "      <td>ny</td>\n",
              "      <td>4.51</td>\n",
              "      <td>3.13</td>\n",
              "      <td>1.0</td>\n",
              "    </tr>\n",
              "    <tr>\n",
              "      <th>4</th>\n",
              "      <td>6623339</td>\n",
              "      <td>19648678</td>\n",
              "      <td>1.0</td>\n",
              "      <td>100.0</td>\n",
              "      <td>66.0</td>\n",
              "      <td>0</td>\n",
              "      <td>1</td>\n",
              "      <td>SIXTH WARD</td>\n",
              "      <td>42.65222</td>\n",
              "      <td>-73.76724</td>\n",
              "      <td>...</td>\n",
              "      <td>306</td>\n",
              "      <td>5</td>\n",
              "      <td>0</td>\n",
              "      <td>0</td>\n",
              "      <td>4</td>\n",
              "      <td>albany</td>\n",
              "      <td>ny</td>\n",
              "      <td>4.73</td>\n",
              "      <td>2.87</td>\n",
              "      <td>1.0</td>\n",
              "    </tr>\n",
              "  </tbody>\n",
              "</table>\n",
              "<p>5 rows × 25 columns</p>\n",
              "</div>\n",
              "    <div class=\"colab-df-buttons\">\n",
              "\n",
              "  <div class=\"colab-df-container\">\n",
              "    <button class=\"colab-df-convert\" onclick=\"convertToInteractive('df-62dcd7be-b164-4de8-b253-5a2224b361e5')\"\n",
              "            title=\"Convert this dataframe to an interactive table.\"\n",
              "            style=\"display:none;\">\n",
              "\n",
              "  <svg xmlns=\"http://www.w3.org/2000/svg\" height=\"24px\" viewBox=\"0 -960 960 960\">\n",
              "    <path d=\"M120-120v-720h720v720H120Zm60-500h600v-160H180v160Zm220 220h160v-160H400v160Zm0 220h160v-160H400v160ZM180-400h160v-160H180v160Zm440 0h160v-160H620v160ZM180-180h160v-160H180v160Zm440 0h160v-160H620v160Z\"/>\n",
              "  </svg>\n",
              "    </button>\n",
              "\n",
              "  <style>\n",
              "    .colab-df-container {\n",
              "      display:flex;\n",
              "      gap: 12px;\n",
              "    }\n",
              "\n",
              "    .colab-df-convert {\n",
              "      background-color: #E8F0FE;\n",
              "      border: none;\n",
              "      border-radius: 50%;\n",
              "      cursor: pointer;\n",
              "      display: none;\n",
              "      fill: #1967D2;\n",
              "      height: 32px;\n",
              "      padding: 0 0 0 0;\n",
              "      width: 32px;\n",
              "    }\n",
              "\n",
              "    .colab-df-convert:hover {\n",
              "      background-color: #E2EBFA;\n",
              "      box-shadow: 0px 1px 2px rgba(60, 64, 67, 0.3), 0px 1px 3px 1px rgba(60, 64, 67, 0.15);\n",
              "      fill: #174EA6;\n",
              "    }\n",
              "\n",
              "    .colab-df-buttons div {\n",
              "      margin-bottom: 4px;\n",
              "    }\n",
              "\n",
              "    [theme=dark] .colab-df-convert {\n",
              "      background-color: #3B4455;\n",
              "      fill: #D2E3FC;\n",
              "    }\n",
              "\n",
              "    [theme=dark] .colab-df-convert:hover {\n",
              "      background-color: #434B5C;\n",
              "      box-shadow: 0px 1px 3px 1px rgba(0, 0, 0, 0.15);\n",
              "      filter: drop-shadow(0px 1px 2px rgba(0, 0, 0, 0.3));\n",
              "      fill: #FFFFFF;\n",
              "    }\n",
              "  </style>\n",
              "\n",
              "    <script>\n",
              "      const buttonEl =\n",
              "        document.querySelector('#df-62dcd7be-b164-4de8-b253-5a2224b361e5 button.colab-df-convert');\n",
              "      buttonEl.style.display =\n",
              "        google.colab.kernel.accessAllowed ? 'block' : 'none';\n",
              "\n",
              "      async function convertToInteractive(key) {\n",
              "        const element = document.querySelector('#df-62dcd7be-b164-4de8-b253-5a2224b361e5');\n",
              "        const dataTable =\n",
              "          await google.colab.kernel.invokeFunction('convertToInteractive',\n",
              "                                                    [key], {});\n",
              "        if (!dataTable) return;\n",
              "\n",
              "        const docLinkHtml = 'Like what you see? Visit the ' +\n",
              "          '<a target=\"_blank\" href=https://colab.research.google.com/notebooks/data_table.ipynb>data table notebook</a>'\n",
              "          + ' to learn more about interactive tables.';\n",
              "        element.innerHTML = '';\n",
              "        dataTable['output_type'] = 'display_data';\n",
              "        await google.colab.output.renderOutput(dataTable, element);\n",
              "        const docLink = document.createElement('div');\n",
              "        docLink.innerHTML = docLinkHtml;\n",
              "        element.appendChild(docLink);\n",
              "      }\n",
              "    </script>\n",
              "  </div>\n",
              "\n",
              "\n",
              "<div id=\"df-0ca69a35-1b17-4dfe-a9f6-17d98c57b4d3\">\n",
              "  <button class=\"colab-df-quickchart\" onclick=\"quickchart('df-0ca69a35-1b17-4dfe-a9f6-17d98c57b4d3')\"\n",
              "            title=\"Suggest charts\"\n",
              "            style=\"display:none;\">\n",
              "\n",
              "<svg xmlns=\"http://www.w3.org/2000/svg\" height=\"24px\"viewBox=\"0 0 24 24\"\n",
              "     width=\"24px\">\n",
              "    <g>\n",
              "        <path d=\"M19 3H5c-1.1 0-2 .9-2 2v14c0 1.1.9 2 2 2h14c1.1 0 2-.9 2-2V5c0-1.1-.9-2-2-2zM9 17H7v-7h2v7zm4 0h-2V7h2v10zm4 0h-2v-4h2v4z\"/>\n",
              "    </g>\n",
              "</svg>\n",
              "  </button>\n",
              "\n",
              "<style>\n",
              "  .colab-df-quickchart {\n",
              "      --bg-color: #E8F0FE;\n",
              "      --fill-color: #1967D2;\n",
              "      --hover-bg-color: #E2EBFA;\n",
              "      --hover-fill-color: #174EA6;\n",
              "      --disabled-fill-color: #AAA;\n",
              "      --disabled-bg-color: #DDD;\n",
              "  }\n",
              "\n",
              "  [theme=dark] .colab-df-quickchart {\n",
              "      --bg-color: #3B4455;\n",
              "      --fill-color: #D2E3FC;\n",
              "      --hover-bg-color: #434B5C;\n",
              "      --hover-fill-color: #FFFFFF;\n",
              "      --disabled-bg-color: #3B4455;\n",
              "      --disabled-fill-color: #666;\n",
              "  }\n",
              "\n",
              "  .colab-df-quickchart {\n",
              "    background-color: var(--bg-color);\n",
              "    border: none;\n",
              "    border-radius: 50%;\n",
              "    cursor: pointer;\n",
              "    display: none;\n",
              "    fill: var(--fill-color);\n",
              "    height: 32px;\n",
              "    padding: 0;\n",
              "    width: 32px;\n",
              "  }\n",
              "\n",
              "  .colab-df-quickchart:hover {\n",
              "    background-color: var(--hover-bg-color);\n",
              "    box-shadow: 0 1px 2px rgba(60, 64, 67, 0.3), 0 1px 3px 1px rgba(60, 64, 67, 0.15);\n",
              "    fill: var(--button-hover-fill-color);\n",
              "  }\n",
              "\n",
              "  .colab-df-quickchart-complete:disabled,\n",
              "  .colab-df-quickchart-complete:disabled:hover {\n",
              "    background-color: var(--disabled-bg-color);\n",
              "    fill: var(--disabled-fill-color);\n",
              "    box-shadow: none;\n",
              "  }\n",
              "\n",
              "  .colab-df-spinner {\n",
              "    border: 2px solid var(--fill-color);\n",
              "    border-color: transparent;\n",
              "    border-bottom-color: var(--fill-color);\n",
              "    animation:\n",
              "      spin 1s steps(1) infinite;\n",
              "  }\n",
              "\n",
              "  @keyframes spin {\n",
              "    0% {\n",
              "      border-color: transparent;\n",
              "      border-bottom-color: var(--fill-color);\n",
              "      border-left-color: var(--fill-color);\n",
              "    }\n",
              "    20% {\n",
              "      border-color: transparent;\n",
              "      border-left-color: var(--fill-color);\n",
              "      border-top-color: var(--fill-color);\n",
              "    }\n",
              "    30% {\n",
              "      border-color: transparent;\n",
              "      border-left-color: var(--fill-color);\n",
              "      border-top-color: var(--fill-color);\n",
              "      border-right-color: var(--fill-color);\n",
              "    }\n",
              "    40% {\n",
              "      border-color: transparent;\n",
              "      border-right-color: var(--fill-color);\n",
              "      border-top-color: var(--fill-color);\n",
              "    }\n",
              "    60% {\n",
              "      border-color: transparent;\n",
              "      border-right-color: var(--fill-color);\n",
              "    }\n",
              "    80% {\n",
              "      border-color: transparent;\n",
              "      border-right-color: var(--fill-color);\n",
              "      border-bottom-color: var(--fill-color);\n",
              "    }\n",
              "    90% {\n",
              "      border-color: transparent;\n",
              "      border-bottom-color: var(--fill-color);\n",
              "    }\n",
              "  }\n",
              "</style>\n",
              "\n",
              "  <script>\n",
              "    async function quickchart(key) {\n",
              "      const quickchartButtonEl =\n",
              "        document.querySelector('#' + key + ' button');\n",
              "      quickchartButtonEl.disabled = true;  // To prevent multiple clicks.\n",
              "      quickchartButtonEl.classList.add('colab-df-spinner');\n",
              "      try {\n",
              "        const charts = await google.colab.kernel.invokeFunction(\n",
              "            'suggestCharts', [key], {});\n",
              "      } catch (error) {\n",
              "        console.error('Error during call to suggestCharts:', error);\n",
              "      }\n",
              "      quickchartButtonEl.classList.remove('colab-df-spinner');\n",
              "      quickchartButtonEl.classList.add('colab-df-quickchart-complete');\n",
              "    }\n",
              "    (() => {\n",
              "      let quickchartButtonEl =\n",
              "        document.querySelector('#df-0ca69a35-1b17-4dfe-a9f6-17d98c57b4d3 button');\n",
              "      quickchartButtonEl.style.display =\n",
              "        google.colab.kernel.accessAllowed ? 'block' : 'none';\n",
              "    })();\n",
              "  </script>\n",
              "</div>\n",
              "\n",
              "    </div>\n",
              "  </div>\n"
            ],
            "application/vnd.google.colaboratory.intrinsic+json": {
              "type": "dataframe",
              "variable_name": "df"
            }
          },
          "metadata": {},
          "execution_count": 2
        }
      ]
    },
    {
      "cell_type": "code",
      "source": [
        "model_cols = [\"host_response_rate\", \"host_acceptance_rate\", \"latitude\", \"longitude\", \"accommodates\", \"beds\", \"number_of_reviews\", \"number_of_reviews_ltm\",\n",
        "              \"review_scores_rating\", \"reviews_per_month\", \"bathrooms\", \"price\"]\n",
        "\n",
        "model_df = df[model_cols]\n",
        "model_df.info()"
      ],
      "metadata": {
        "colab": {
          "base_uri": "https://localhost:8080/"
        },
        "id": "qxNhAhUL7Pfg",
        "outputId": "fe3749af-45f7-4b03-fe3b-02f48cc2366a"
      },
      "execution_count": 3,
      "outputs": [
        {
          "output_type": "stream",
          "name": "stdout",
          "text": [
            "<class 'pandas.core.frame.DataFrame'>\n",
            "RangeIndex: 253798 entries, 0 to 253797\n",
            "Data columns (total 12 columns):\n",
            " #   Column                 Non-Null Count   Dtype  \n",
            "---  ------                 --------------   -----  \n",
            " 0   host_response_rate     253798 non-null  float64\n",
            " 1   host_acceptance_rate   253798 non-null  float64\n",
            " 2   latitude               253798 non-null  float64\n",
            " 3   longitude              253798 non-null  float64\n",
            " 4   accommodates           253798 non-null  int64  \n",
            " 5   beds                   253798 non-null  float64\n",
            " 6   number_of_reviews      253798 non-null  int64  \n",
            " 7   number_of_reviews_ltm  253798 non-null  int64  \n",
            " 8   review_scores_rating   253798 non-null  float64\n",
            " 9   reviews_per_month      253798 non-null  float64\n",
            " 10  bathrooms              253798 non-null  float64\n",
            " 11  price                  253798 non-null  float64\n",
            "dtypes: float64(9), int64(3)\n",
            "memory usage: 23.2 MB\n"
          ]
        }
      ]
    },
    {
      "cell_type": "markdown",
      "source": [
        "## Prepare the Data for Modeling"
      ],
      "metadata": {
        "id": "GUYjVUie7bt4"
      }
    },
    {
      "cell_type": "code",
      "source": [
        "X = model_df.drop([\"price\"], axis = 1)\n",
        "y = model_df[\"price\"]\n",
        "\n",
        "X.shape, y.shape"
      ],
      "metadata": {
        "colab": {
          "base_uri": "https://localhost:8080/"
        },
        "id": "g9fPEdQz7kqG",
        "outputId": "cd0dc33c-2c34-446a-d3c0-9cbadc938438"
      },
      "execution_count": 4,
      "outputs": [
        {
          "output_type": "execute_result",
          "data": {
            "text/plain": [
              "((253798, 11), (253798,))"
            ]
          },
          "metadata": {},
          "execution_count": 4
        }
      ]
    },
    {
      "cell_type": "code",
      "source": [
        "# Split the data into train and test sets.\n",
        "\n",
        "X_train, X_test, y_train, y_test = train_test_split(X, y, test_size = 0.1, random_state = 42)\n",
        "X_train.shape, X_test.shape, y_train.shape, y_test.shape"
      ],
      "metadata": {
        "colab": {
          "base_uri": "https://localhost:8080/"
        },
        "id": "66bU0Gs-7s4D",
        "outputId": "def64523-7ff8-4b51-b224-b1f373468ec6"
      },
      "execution_count": 5,
      "outputs": [
        {
          "output_type": "execute_result",
          "data": {
            "text/plain": [
              "((228418, 11), (25380, 11), (228418,), (25380,))"
            ]
          },
          "metadata": {},
          "execution_count": 5
        }
      ]
    },
    {
      "cell_type": "markdown",
      "source": [
        "## Creating Baseline Models"
      ],
      "metadata": {
        "id": "LWcbJbr-8Crv"
      }
    },
    {
      "cell_type": "markdown",
      "source": [
        "### Linear Regression"
      ],
      "metadata": {
        "id": "RxFpUrDT8wjV"
      }
    },
    {
      "cell_type": "code",
      "source": [
        "# Train the model using training set.\n",
        "\n",
        "linear_regressor = LinearRegression()\n",
        "\n",
        "linear_regressor.fit(X_train, y_train)\n",
        "\n",
        "lr_train_preds = linear_regressor.predict(X_train)\n",
        "\n",
        "print(f\"Mean Absolute Error for Training data: {mean_absolute_error(y_train, lr_train_preds)}\")\n",
        "print(f\"Root Mean Squared Error for Training data: {mean_squared_error(y_train, lr_train_preds)**0.5}\")"
      ],
      "metadata": {
        "colab": {
          "base_uri": "https://localhost:8080/"
        },
        "id": "ytDpUsFG8l-R",
        "outputId": "659a8790-15ff-4d44-a1a6-a2500896cd47"
      },
      "execution_count": 6,
      "outputs": [
        {
          "output_type": "stream",
          "name": "stdout",
          "text": [
            "Mean Absolute Error for Training data: 96.98994406998814\n",
            "Root Mean Squared Error for Training data: 150.98518074295237\n"
          ]
        }
      ]
    },
    {
      "cell_type": "code",
      "source": [
        "# Evaluating the linear model on the test set.\n",
        "\n",
        "lr_test_preds = linear_regressor.predict(X_test)\n",
        "\n",
        "print(f\"Mean Absolute Error for Test data: {mean_absolute_error(y_test, lr_test_preds)}\")\n",
        "print(f\"Root Mean Squared Error for Test_data: {mean_squared_error(y_test, lr_test_preds)**0.5}\")"
      ],
      "metadata": {
        "colab": {
          "base_uri": "https://localhost:8080/"
        },
        "id": "3RPAhBzz8-Pu",
        "outputId": "cadbf31c-1e67-4efd-ab8c-16b0047b5403"
      },
      "execution_count": 7,
      "outputs": [
        {
          "output_type": "stream",
          "name": "stdout",
          "text": [
            "Mean Absolute Error for Test data: 96.52169943401785\n",
            "Root Mean Squared Error for Test_data: 151.53116914903327\n"
          ]
        }
      ]
    },
    {
      "cell_type": "code",
      "source": [
        "# From the train and test results we can see that the model is underfitting. So let's increase the complexity of the models."
      ],
      "metadata": {
        "id": "4dnB3jJr-_h-"
      },
      "execution_count": 8,
      "outputs": []
    },
    {
      "cell_type": "code",
      "source": [
        "# Creating a function to display the train and test metrics.\n",
        "\n",
        "def display_results(model, y_train, train_preds, y_test, test_preds):\n",
        "\n",
        "  train_mae = mean_absolute_error(y_train, train_preds)\n",
        "  train_rmse = mean_squared_error(y_train, train_preds)**0.5\n",
        "\n",
        "  test_mae = mean_absolute_error(y_test, test_preds)\n",
        "  test_rmse = mean_squared_error(y_test, test_preds)**0.5\n",
        "\n",
        "  model_name = model.__class__.__name__\n",
        "\n",
        "  print(f\"Results for {model_name}:\")\n",
        "\n",
        "  print(f\"Mean Absolute Error for Training data: {train_mae}\")\n",
        "  print(f\"Root Mean Squared Error for Training data: {train_rmse}\")\n",
        "\n",
        "  print(f\"Mean Absolute Error for Test data: {test_mae}\")\n",
        "  print(f\"Root Mean Squared Error for Test_data: {test_rmse}\")\n",
        "\n",
        "  return {\"Model\": model_name,\n",
        "          \"Train MAE\": train_mae,\n",
        "          \"Train RMSE\": train_rmse,\n",
        "          \"Test MAE\": test_mae,\n",
        "          \"Test RMSE\": test_rmse}"
      ],
      "metadata": {
        "id": "B2kN824-_mN6"
      },
      "execution_count": 10,
      "outputs": []
    },
    {
      "cell_type": "code",
      "source": [
        "lr_results = display_results(linear_regressor, y_train, lr_train_preds, y_test, lr_test_preds)"
      ],
      "metadata": {
        "colab": {
          "base_uri": "https://localhost:8080/"
        },
        "id": "hlIkgYdUCpqb",
        "outputId": "6cd9e8e3-4f78-4b8c-eb28-2bb52912dba3"
      },
      "execution_count": 11,
      "outputs": [
        {
          "output_type": "stream",
          "name": "stdout",
          "text": [
            "Results for LinearRegression:\n",
            "Mean Absolute Error for Training data: 96.98994406998814\n",
            "Root Mean Squared Error for Training data: 150.98518074295237\n",
            "Mean Absolute Error for Test data: 96.52169943401785\n",
            "Root Mean Squared Error for Test_data: 151.53116914903327\n"
          ]
        }
      ]
    },
    {
      "cell_type": "markdown",
      "source": [
        "### Decision Tree"
      ],
      "metadata": {
        "id": "Hk22MUGU9BjY"
      }
    },
    {
      "cell_type": "code",
      "source": [
        "dtr_model = DecisionTreeRegressor()\n",
        "\n",
        "dtr_model.fit(X_train, y_train)\n",
        "\n",
        "\n",
        "dtr_train_preds = dtr_model.predict(X_train)\n",
        "\n",
        "dtr_test_preds = dtr_model.predict(X_test)\n",
        "\n",
        "dtr_results = display_results(dtr_model, y_train, dtr_train_preds, y_test, dtr_test_preds)"
      ],
      "metadata": {
        "colab": {
          "base_uri": "https://localhost:8080/"
        },
        "id": "NkmnyHHz_PRI",
        "outputId": "64035539-917e-4041-a5b7-188161b42d39"
      },
      "execution_count": 12,
      "outputs": [
        {
          "output_type": "stream",
          "name": "stdout",
          "text": [
            "Results for DecisionTreeRegressor:\n",
            "Mean Absolute Error for Training data: 0.48209903668818554\n",
            "Root Mean Squared Error for Training data: 7.0477477638819535\n",
            "Mean Absolute Error for Test data: 86.22628399805463\n",
            "Root Mean Squared Error for Test_data: 155.74679174372764\n"
          ]
        }
      ]
    },
    {
      "cell_type": "code",
      "source": [
        "# The training results are great but the test results shows that the model actually overfitted. Let's see if we can regularize the model."
      ],
      "metadata": {
        "id": "OoiP49pCESC7"
      },
      "execution_count": 13,
      "outputs": []
    },
    {
      "cell_type": "code",
      "source": [
        "dtr_model = DecisionTreeRegressor(max_depth = 15, min_samples_split = 40, min_samples_leaf = 10, min_impurity_decrease=0.0001)\n",
        "\n",
        "dtr_model.fit(X_train, y_train)\n",
        "\n",
        "\n",
        "dtr_train_preds = dtr_model.predict(X_train)\n",
        "\n",
        "dtr_test_preds = dtr_model.predict(X_test)\n",
        "\n",
        "dtr_results = display_results(dtr_model, y_train, dtr_train_preds, y_test, dtr_test_preds)"
      ],
      "metadata": {
        "colab": {
          "base_uri": "https://localhost:8080/"
        },
        "id": "MVgGtYm7EwQL",
        "outputId": "68301915-f412-4b1e-d43b-14a2a6c0c98f"
      },
      "execution_count": 14,
      "outputs": [
        {
          "output_type": "stream",
          "name": "stdout",
          "text": [
            "Results for DecisionTreeRegressor:\n",
            "Mean Absolute Error for Training data: 68.42112964693702\n",
            "Root Mean Squared Error for Training data: 113.00513635766617\n",
            "Mean Absolute Error for Test data: 75.92046078309431\n",
            "Root Mean Squared Error for Test_data: 127.13960401631445\n"
          ]
        }
      ]
    },
    {
      "cell_type": "code",
      "source": [
        "# Looks like with a little bit of tuning (Just hand picked) the important parameters improved the model significantly. Restricting the model brought the balance between the training and\n",
        "# test performance."
      ],
      "metadata": {
        "id": "pIl1fE3hFkUR"
      },
      "execution_count": 15,
      "outputs": []
    },
    {
      "cell_type": "code",
      "source": [
        "# Let's see if we can keep on increasing the complexity of models and see how far we can go."
      ],
      "metadata": {
        "id": "oYJg6PNiIe_N"
      },
      "execution_count": 16,
      "outputs": []
    },
    {
      "cell_type": "markdown",
      "source": [
        "### Random Forest Regressor"
      ],
      "metadata": {
        "id": "JvQFlv_YI1cT"
      }
    },
    {
      "cell_type": "code",
      "source": [
        "rfr_model = RandomForestRegressor()\n",
        "\n",
        "rfr_model.fit(X_train, y_train)\n",
        "\n",
        "\n",
        "rfr_train_preds = rfr_model.predict(X_train)\n",
        "\n",
        "rfr_test_preds = rfr_model.predict(X_test)\n",
        "\n",
        "rfr_results = display_results(rfr_model, y_train, rfr_train_preds, y_test, rfr_test_preds)"
      ],
      "metadata": {
        "colab": {
          "base_uri": "https://localhost:8080/"
        },
        "id": "YcK3xVmkI4nN",
        "outputId": "dec68ba0-3fad-4fd1-afdf-41fefedcb139"
      },
      "execution_count": 17,
      "outputs": [
        {
          "output_type": "stream",
          "name": "stdout",
          "text": [
            "Results for RandomForestRegressor:\n",
            "Mean Absolute Error for Training data: 24.67246655097594\n",
            "Root Mean Squared Error for Training data: 42.539202153558435\n",
            "Mean Absolute Error for Test data: 65.21323863881696\n",
            "Root Mean Squared Error for Test_data: 111.69040907585652\n"
          ]
        }
      ]
    },
    {
      "cell_type": "code",
      "source": [
        "# Again we can see that the model is overfitting. So we need to tune the model parameters to balance the performance between the train and test."
      ],
      "metadata": {
        "id": "L6061dcdPbBS"
      },
      "execution_count": 18,
      "outputs": []
    },
    {
      "cell_type": "code",
      "source": [
        "rfr_model = RandomForestRegressor(n_estimators=100, max_depth = 15, min_samples_split = 40, min_samples_leaf = 10)\n",
        "\n",
        "rfr_model.fit(X_train, y_train)\n",
        "\n",
        "\n",
        "rfr_train_preds = rfr_model.predict(X_train)\n",
        "\n",
        "rfr_test_preds = rfr_model.predict(X_test)\n",
        "\n",
        "rfr_results = display_results(rfr_model, y_train, rfr_train_preds, y_test, rfr_test_preds)"
      ],
      "metadata": {
        "colab": {
          "base_uri": "https://localhost:8080/"
        },
        "id": "sFpwfDvlRmLn",
        "outputId": "dd3b8e2c-71b8-4b24-872b-09efb7293d1a"
      },
      "execution_count": 20,
      "outputs": [
        {
          "output_type": "stream",
          "name": "stdout",
          "text": [
            "Results for RandomForestRegressor:\n",
            "Mean Absolute Error for Training data: 66.16403129132135\n",
            "Root Mean Squared Error for Training data: 109.7510213513815\n",
            "Mean Absolute Error for Test data: 71.5391782846473\n",
            "Root Mean Squared Error for Test_data: 119.44647252423212\n"
          ]
        }
      ]
    },
    {
      "cell_type": "markdown",
      "source": [
        "### XGBoost"
      ],
      "metadata": {
        "id": "3qPrjKvaSc56"
      }
    },
    {
      "cell_type": "code",
      "source": [
        "xgb_model = xgb.XGBRegressor()\n",
        "\n",
        "xgb_model.fit(X_train, y_train)\n",
        "\n",
        "xgb_train_preds = xgb_model.predict(X_train)\n",
        "\n",
        "xgb_test_preds = xgb_model.predict(X_test)\n",
        "\n",
        "xgb_results = display_results(xgb_model, y_train, xgb_train_preds, y_test, xgb_test_preds)"
      ],
      "metadata": {
        "colab": {
          "base_uri": "https://localhost:8080/"
        },
        "id": "FUxZkFDPS75Q",
        "outputId": "d32030bd-c61b-4f27-a9ab-974511423264"
      },
      "execution_count": 21,
      "outputs": [
        {
          "output_type": "stream",
          "name": "stdout",
          "text": [
            "Results for XGBRegressor:\n",
            "Mean Absolute Error for Training data: 68.48331940377535\n",
            "Root Mean Squared Error for Training data: 111.82330613427105\n",
            "Mean Absolute Error for Test data: 70.94348557915295\n",
            "Root Mean Squared Error for Test_data: 117.32826736524217\n"
          ]
        }
      ]
    },
    {
      "cell_type": "code",
      "source": [
        "# It took a very few seconds for training XGB model compared to RandomForest model. And also the performance on test set (generalization) is better than the previous models."
      ],
      "metadata": {
        "id": "2My0Qezeamfg"
      },
      "execution_count": 22,
      "outputs": []
    },
    {
      "cell_type": "markdown",
      "source": [
        "### LightGBM"
      ],
      "metadata": {
        "id": "fEr_UqjhS71k"
      }
    },
    {
      "cell_type": "code",
      "source": [
        "lgbm_model = lgbm.LGBMRegressor(num_iterations = 1000)\n",
        "\n",
        "lgbm_model.fit(X_train, y_train)\n",
        "\n",
        "lgbm_train_preds = lgbm_model.predict(X_train)\n",
        "\n",
        "lgbm_test_preds = lgbm_model.predict(X_test)\n",
        "\n",
        "lgbm_results = display_results(lgbm_model, y_train, lgbm_train_preds, y_test, lgbm_test_preds)"
      ],
      "metadata": {
        "colab": {
          "base_uri": "https://localhost:8080/"
        },
        "id": "3zwMMw-SWEpM",
        "outputId": "ea5a510f-16e2-4d91-9414-26658424c531"
      },
      "execution_count": 23,
      "outputs": [
        {
          "output_type": "stream",
          "name": "stderr",
          "text": [
            "/usr/local/lib/python3.10/dist-packages/lightgbm/engine.py:172: UserWarning: Found `num_iterations` in params. Will use it instead of argument\n",
            "  _log_warning(f\"Found `{alias}` in params. Will use it instead of argument\")\n"
          ]
        },
        {
          "output_type": "stream",
          "name": "stdout",
          "text": [
            "[LightGBM] [Info] Auto-choosing row-wise multi-threading, the overhead of testing was 0.007549 seconds.\n",
            "You can set `force_row_wise=true` to remove the overhead.\n",
            "And if memory is not enough, you can set `force_col_wise=true`.\n",
            "[LightGBM] [Info] Total Bins 1649\n",
            "[LightGBM] [Info] Number of data points in the train set: 228418, number of used features: 11\n",
            "[LightGBM] [Info] Start training from score 209.698605\n",
            "Results for LGBMRegressor:\n",
            "Mean Absolute Error for Training data: 62.47449897109193\n",
            "Root Mean Squared Error for Training data: 101.27313024706014\n",
            "Mean Absolute Error for Test data: 67.66559344076553\n",
            "Root Mean Squared Error for Test_data: 112.34979929177572\n"
          ]
        }
      ]
    },
    {
      "cell_type": "code",
      "source": [
        "# Light GBM outperformed all other baseline models. It reduces the errors and also ensured generalization."
      ],
      "metadata": {
        "id": "Ta-yEXtec19n"
      },
      "execution_count": 24,
      "outputs": []
    },
    {
      "cell_type": "code",
      "source": [
        "# Let's compare the results of all the baseline models."
      ],
      "metadata": {
        "id": "Oq3SMGnXdETl"
      },
      "execution_count": 25,
      "outputs": []
    },
    {
      "cell_type": "code",
      "source": [
        "results_df = pd.DataFrame([lr_results, dtr_results, rfr_results, xgb_results, lgbm_results])\n",
        "results_df"
      ],
      "metadata": {
        "colab": {
          "base_uri": "https://localhost:8080/",
          "height": 206
        },
        "id": "2TaHQ_cbdH2P",
        "outputId": "d0ed68c7-f186-4f40-e764-1a8700962820"
      },
      "execution_count": 26,
      "outputs": [
        {
          "output_type": "execute_result",
          "data": {
            "text/plain": [
              "                   Model  Train MAE  Train RMSE   Test MAE   Test RMSE\n",
              "0       LinearRegression  96.989944  150.985181  96.521699  151.531169\n",
              "1  DecisionTreeRegressor  68.421130  113.005136  75.920461  127.139604\n",
              "2  RandomForestRegressor  66.164031  109.751021  71.539178  119.446473\n",
              "3           XGBRegressor  68.483319  111.823306  70.943486  117.328267\n",
              "4          LGBMRegressor  62.474499  101.273130  67.665593  112.349799"
            ],
            "text/html": [
              "\n",
              "  <div id=\"df-3ba290e6-2ea0-4d0d-8d94-0ea9bbffc515\" class=\"colab-df-container\">\n",
              "    <div>\n",
              "<style scoped>\n",
              "    .dataframe tbody tr th:only-of-type {\n",
              "        vertical-align: middle;\n",
              "    }\n",
              "\n",
              "    .dataframe tbody tr th {\n",
              "        vertical-align: top;\n",
              "    }\n",
              "\n",
              "    .dataframe thead th {\n",
              "        text-align: right;\n",
              "    }\n",
              "</style>\n",
              "<table border=\"1\" class=\"dataframe\">\n",
              "  <thead>\n",
              "    <tr style=\"text-align: right;\">\n",
              "      <th></th>\n",
              "      <th>Model</th>\n",
              "      <th>Train MAE</th>\n",
              "      <th>Train RMSE</th>\n",
              "      <th>Test MAE</th>\n",
              "      <th>Test RMSE</th>\n",
              "    </tr>\n",
              "  </thead>\n",
              "  <tbody>\n",
              "    <tr>\n",
              "      <th>0</th>\n",
              "      <td>LinearRegression</td>\n",
              "      <td>96.989944</td>\n",
              "      <td>150.985181</td>\n",
              "      <td>96.521699</td>\n",
              "      <td>151.531169</td>\n",
              "    </tr>\n",
              "    <tr>\n",
              "      <th>1</th>\n",
              "      <td>DecisionTreeRegressor</td>\n",
              "      <td>68.421130</td>\n",
              "      <td>113.005136</td>\n",
              "      <td>75.920461</td>\n",
              "      <td>127.139604</td>\n",
              "    </tr>\n",
              "    <tr>\n",
              "      <th>2</th>\n",
              "      <td>RandomForestRegressor</td>\n",
              "      <td>66.164031</td>\n",
              "      <td>109.751021</td>\n",
              "      <td>71.539178</td>\n",
              "      <td>119.446473</td>\n",
              "    </tr>\n",
              "    <tr>\n",
              "      <th>3</th>\n",
              "      <td>XGBRegressor</td>\n",
              "      <td>68.483319</td>\n",
              "      <td>111.823306</td>\n",
              "      <td>70.943486</td>\n",
              "      <td>117.328267</td>\n",
              "    </tr>\n",
              "    <tr>\n",
              "      <th>4</th>\n",
              "      <td>LGBMRegressor</td>\n",
              "      <td>62.474499</td>\n",
              "      <td>101.273130</td>\n",
              "      <td>67.665593</td>\n",
              "      <td>112.349799</td>\n",
              "    </tr>\n",
              "  </tbody>\n",
              "</table>\n",
              "</div>\n",
              "    <div class=\"colab-df-buttons\">\n",
              "\n",
              "  <div class=\"colab-df-container\">\n",
              "    <button class=\"colab-df-convert\" onclick=\"convertToInteractive('df-3ba290e6-2ea0-4d0d-8d94-0ea9bbffc515')\"\n",
              "            title=\"Convert this dataframe to an interactive table.\"\n",
              "            style=\"display:none;\">\n",
              "\n",
              "  <svg xmlns=\"http://www.w3.org/2000/svg\" height=\"24px\" viewBox=\"0 -960 960 960\">\n",
              "    <path d=\"M120-120v-720h720v720H120Zm60-500h600v-160H180v160Zm220 220h160v-160H400v160Zm0 220h160v-160H400v160ZM180-400h160v-160H180v160Zm440 0h160v-160H620v160ZM180-180h160v-160H180v160Zm440 0h160v-160H620v160Z\"/>\n",
              "  </svg>\n",
              "    </button>\n",
              "\n",
              "  <style>\n",
              "    .colab-df-container {\n",
              "      display:flex;\n",
              "      gap: 12px;\n",
              "    }\n",
              "\n",
              "    .colab-df-convert {\n",
              "      background-color: #E8F0FE;\n",
              "      border: none;\n",
              "      border-radius: 50%;\n",
              "      cursor: pointer;\n",
              "      display: none;\n",
              "      fill: #1967D2;\n",
              "      height: 32px;\n",
              "      padding: 0 0 0 0;\n",
              "      width: 32px;\n",
              "    }\n",
              "\n",
              "    .colab-df-convert:hover {\n",
              "      background-color: #E2EBFA;\n",
              "      box-shadow: 0px 1px 2px rgba(60, 64, 67, 0.3), 0px 1px 3px 1px rgba(60, 64, 67, 0.15);\n",
              "      fill: #174EA6;\n",
              "    }\n",
              "\n",
              "    .colab-df-buttons div {\n",
              "      margin-bottom: 4px;\n",
              "    }\n",
              "\n",
              "    [theme=dark] .colab-df-convert {\n",
              "      background-color: #3B4455;\n",
              "      fill: #D2E3FC;\n",
              "    }\n",
              "\n",
              "    [theme=dark] .colab-df-convert:hover {\n",
              "      background-color: #434B5C;\n",
              "      box-shadow: 0px 1px 3px 1px rgba(0, 0, 0, 0.15);\n",
              "      filter: drop-shadow(0px 1px 2px rgba(0, 0, 0, 0.3));\n",
              "      fill: #FFFFFF;\n",
              "    }\n",
              "  </style>\n",
              "\n",
              "    <script>\n",
              "      const buttonEl =\n",
              "        document.querySelector('#df-3ba290e6-2ea0-4d0d-8d94-0ea9bbffc515 button.colab-df-convert');\n",
              "      buttonEl.style.display =\n",
              "        google.colab.kernel.accessAllowed ? 'block' : 'none';\n",
              "\n",
              "      async function convertToInteractive(key) {\n",
              "        const element = document.querySelector('#df-3ba290e6-2ea0-4d0d-8d94-0ea9bbffc515');\n",
              "        const dataTable =\n",
              "          await google.colab.kernel.invokeFunction('convertToInteractive',\n",
              "                                                    [key], {});\n",
              "        if (!dataTable) return;\n",
              "\n",
              "        const docLinkHtml = 'Like what you see? Visit the ' +\n",
              "          '<a target=\"_blank\" href=https://colab.research.google.com/notebooks/data_table.ipynb>data table notebook</a>'\n",
              "          + ' to learn more about interactive tables.';\n",
              "        element.innerHTML = '';\n",
              "        dataTable['output_type'] = 'display_data';\n",
              "        await google.colab.output.renderOutput(dataTable, element);\n",
              "        const docLink = document.createElement('div');\n",
              "        docLink.innerHTML = docLinkHtml;\n",
              "        element.appendChild(docLink);\n",
              "      }\n",
              "    </script>\n",
              "  </div>\n",
              "\n",
              "\n",
              "<div id=\"df-00476239-605e-433c-a532-8e2c5974fc4f\">\n",
              "  <button class=\"colab-df-quickchart\" onclick=\"quickchart('df-00476239-605e-433c-a532-8e2c5974fc4f')\"\n",
              "            title=\"Suggest charts\"\n",
              "            style=\"display:none;\">\n",
              "\n",
              "<svg xmlns=\"http://www.w3.org/2000/svg\" height=\"24px\"viewBox=\"0 0 24 24\"\n",
              "     width=\"24px\">\n",
              "    <g>\n",
              "        <path d=\"M19 3H5c-1.1 0-2 .9-2 2v14c0 1.1.9 2 2 2h14c1.1 0 2-.9 2-2V5c0-1.1-.9-2-2-2zM9 17H7v-7h2v7zm4 0h-2V7h2v10zm4 0h-2v-4h2v4z\"/>\n",
              "    </g>\n",
              "</svg>\n",
              "  </button>\n",
              "\n",
              "<style>\n",
              "  .colab-df-quickchart {\n",
              "      --bg-color: #E8F0FE;\n",
              "      --fill-color: #1967D2;\n",
              "      --hover-bg-color: #E2EBFA;\n",
              "      --hover-fill-color: #174EA6;\n",
              "      --disabled-fill-color: #AAA;\n",
              "      --disabled-bg-color: #DDD;\n",
              "  }\n",
              "\n",
              "  [theme=dark] .colab-df-quickchart {\n",
              "      --bg-color: #3B4455;\n",
              "      --fill-color: #D2E3FC;\n",
              "      --hover-bg-color: #434B5C;\n",
              "      --hover-fill-color: #FFFFFF;\n",
              "      --disabled-bg-color: #3B4455;\n",
              "      --disabled-fill-color: #666;\n",
              "  }\n",
              "\n",
              "  .colab-df-quickchart {\n",
              "    background-color: var(--bg-color);\n",
              "    border: none;\n",
              "    border-radius: 50%;\n",
              "    cursor: pointer;\n",
              "    display: none;\n",
              "    fill: var(--fill-color);\n",
              "    height: 32px;\n",
              "    padding: 0;\n",
              "    width: 32px;\n",
              "  }\n",
              "\n",
              "  .colab-df-quickchart:hover {\n",
              "    background-color: var(--hover-bg-color);\n",
              "    box-shadow: 0 1px 2px rgba(60, 64, 67, 0.3), 0 1px 3px 1px rgba(60, 64, 67, 0.15);\n",
              "    fill: var(--button-hover-fill-color);\n",
              "  }\n",
              "\n",
              "  .colab-df-quickchart-complete:disabled,\n",
              "  .colab-df-quickchart-complete:disabled:hover {\n",
              "    background-color: var(--disabled-bg-color);\n",
              "    fill: var(--disabled-fill-color);\n",
              "    box-shadow: none;\n",
              "  }\n",
              "\n",
              "  .colab-df-spinner {\n",
              "    border: 2px solid var(--fill-color);\n",
              "    border-color: transparent;\n",
              "    border-bottom-color: var(--fill-color);\n",
              "    animation:\n",
              "      spin 1s steps(1) infinite;\n",
              "  }\n",
              "\n",
              "  @keyframes spin {\n",
              "    0% {\n",
              "      border-color: transparent;\n",
              "      border-bottom-color: var(--fill-color);\n",
              "      border-left-color: var(--fill-color);\n",
              "    }\n",
              "    20% {\n",
              "      border-color: transparent;\n",
              "      border-left-color: var(--fill-color);\n",
              "      border-top-color: var(--fill-color);\n",
              "    }\n",
              "    30% {\n",
              "      border-color: transparent;\n",
              "      border-left-color: var(--fill-color);\n",
              "      border-top-color: var(--fill-color);\n",
              "      border-right-color: var(--fill-color);\n",
              "    }\n",
              "    40% {\n",
              "      border-color: transparent;\n",
              "      border-right-color: var(--fill-color);\n",
              "      border-top-color: var(--fill-color);\n",
              "    }\n",
              "    60% {\n",
              "      border-color: transparent;\n",
              "      border-right-color: var(--fill-color);\n",
              "    }\n",
              "    80% {\n",
              "      border-color: transparent;\n",
              "      border-right-color: var(--fill-color);\n",
              "      border-bottom-color: var(--fill-color);\n",
              "    }\n",
              "    90% {\n",
              "      border-color: transparent;\n",
              "      border-bottom-color: var(--fill-color);\n",
              "    }\n",
              "  }\n",
              "</style>\n",
              "\n",
              "  <script>\n",
              "    async function quickchart(key) {\n",
              "      const quickchartButtonEl =\n",
              "        document.querySelector('#' + key + ' button');\n",
              "      quickchartButtonEl.disabled = true;  // To prevent multiple clicks.\n",
              "      quickchartButtonEl.classList.add('colab-df-spinner');\n",
              "      try {\n",
              "        const charts = await google.colab.kernel.invokeFunction(\n",
              "            'suggestCharts', [key], {});\n",
              "      } catch (error) {\n",
              "        console.error('Error during call to suggestCharts:', error);\n",
              "      }\n",
              "      quickchartButtonEl.classList.remove('colab-df-spinner');\n",
              "      quickchartButtonEl.classList.add('colab-df-quickchart-complete');\n",
              "    }\n",
              "    (() => {\n",
              "      let quickchartButtonEl =\n",
              "        document.querySelector('#df-00476239-605e-433c-a532-8e2c5974fc4f button');\n",
              "      quickchartButtonEl.style.display =\n",
              "        google.colab.kernel.accessAllowed ? 'block' : 'none';\n",
              "    })();\n",
              "  </script>\n",
              "</div>\n",
              "\n",
              "  <div id=\"id_0ffce859-3f95-4eca-8062-4a2a84f24aa0\">\n",
              "    <style>\n",
              "      .colab-df-generate {\n",
              "        background-color: #E8F0FE;\n",
              "        border: none;\n",
              "        border-radius: 50%;\n",
              "        cursor: pointer;\n",
              "        display: none;\n",
              "        fill: #1967D2;\n",
              "        height: 32px;\n",
              "        padding: 0 0 0 0;\n",
              "        width: 32px;\n",
              "      }\n",
              "\n",
              "      .colab-df-generate:hover {\n",
              "        background-color: #E2EBFA;\n",
              "        box-shadow: 0px 1px 2px rgba(60, 64, 67, 0.3), 0px 1px 3px 1px rgba(60, 64, 67, 0.15);\n",
              "        fill: #174EA6;\n",
              "      }\n",
              "\n",
              "      [theme=dark] .colab-df-generate {\n",
              "        background-color: #3B4455;\n",
              "        fill: #D2E3FC;\n",
              "      }\n",
              "\n",
              "      [theme=dark] .colab-df-generate:hover {\n",
              "        background-color: #434B5C;\n",
              "        box-shadow: 0px 1px 3px 1px rgba(0, 0, 0, 0.15);\n",
              "        filter: drop-shadow(0px 1px 2px rgba(0, 0, 0, 0.3));\n",
              "        fill: #FFFFFF;\n",
              "      }\n",
              "    </style>\n",
              "    <button class=\"colab-df-generate\" onclick=\"generateWithVariable('results_df')\"\n",
              "            title=\"Generate code using this dataframe.\"\n",
              "            style=\"display:none;\">\n",
              "\n",
              "  <svg xmlns=\"http://www.w3.org/2000/svg\" height=\"24px\"viewBox=\"0 0 24 24\"\n",
              "       width=\"24px\">\n",
              "    <path d=\"M7,19H8.4L18.45,9,17,7.55,7,17.6ZM5,21V16.75L18.45,3.32a2,2,0,0,1,2.83,0l1.4,1.43a1.91,1.91,0,0,1,.58,1.4,1.91,1.91,0,0,1-.58,1.4L9.25,21ZM18.45,9,17,7.55Zm-12,3A5.31,5.31,0,0,0,4.9,8.1,5.31,5.31,0,0,0,1,6.5,5.31,5.31,0,0,0,4.9,4.9,5.31,5.31,0,0,0,6.5,1,5.31,5.31,0,0,0,8.1,4.9,5.31,5.31,0,0,0,12,6.5,5.46,5.46,0,0,0,6.5,12Z\"/>\n",
              "  </svg>\n",
              "    </button>\n",
              "    <script>\n",
              "      (() => {\n",
              "      const buttonEl =\n",
              "        document.querySelector('#id_0ffce859-3f95-4eca-8062-4a2a84f24aa0 button.colab-df-generate');\n",
              "      buttonEl.style.display =\n",
              "        google.colab.kernel.accessAllowed ? 'block' : 'none';\n",
              "\n",
              "      buttonEl.onclick = () => {\n",
              "        google.colab.notebook.generateWithVariable('results_df');\n",
              "      }\n",
              "      })();\n",
              "    </script>\n",
              "  </div>\n",
              "\n",
              "    </div>\n",
              "  </div>\n"
            ],
            "application/vnd.google.colaboratory.intrinsic+json": {
              "type": "dataframe",
              "variable_name": "results_df",
              "summary": "{\n  \"name\": \"results_df\",\n  \"rows\": 5,\n  \"fields\": [\n    {\n      \"column\": \"Model\",\n      \"properties\": {\n        \"dtype\": \"string\",\n        \"num_unique_values\": 5,\n        \"samples\": [\n          \"DecisionTreeRegressor\",\n          \"LGBMRegressor\",\n          \"RandomForestRegressor\"\n        ],\n        \"semantic_type\": \"\",\n        \"description\": \"\"\n      }\n    },\n    {\n      \"column\": \"Train MAE\",\n      \"properties\": {\n        \"dtype\": \"number\",\n        \"std\": 13.903086172577758,\n        \"min\": 62.47449897109193,\n        \"max\": 96.98994406998814,\n        \"num_unique_values\": 5,\n        \"samples\": [\n          68.42112964693702,\n          62.47449897109193,\n          66.16403129132135\n        ],\n        \"semantic_type\": \"\",\n        \"description\": \"\"\n      }\n    },\n    {\n      \"column\": \"Train RMSE\",\n      \"properties\": {\n        \"dtype\": \"number\",\n        \"std\": 19.3452594027446,\n        \"min\": 101.27313024706014,\n        \"max\": 150.98518074295237,\n        \"num_unique_values\": 5,\n        \"samples\": [\n          113.00513635766617,\n          101.27313024706014,\n          109.7510213513815\n        ],\n        \"semantic_type\": \"\",\n        \"description\": \"\"\n      }\n    },\n    {\n      \"column\": \"Test MAE\",\n      \"properties\": {\n        \"dtype\": \"number\",\n        \"std\": 11.562158348670003,\n        \"min\": 67.66559344076553,\n        \"max\": 96.52169943401785,\n        \"num_unique_values\": 5,\n        \"samples\": [\n          75.92046078309431,\n          67.66559344076553,\n          71.5391782846473\n        ],\n        \"semantic_type\": \"\",\n        \"description\": \"\"\n      }\n    },\n    {\n      \"column\": \"Test RMSE\",\n      \"properties\": {\n        \"dtype\": \"number\",\n        \"std\": 15.464821487329806,\n        \"min\": 112.34979929177572,\n        \"max\": 151.53116914903327,\n        \"num_unique_values\": 5,\n        \"samples\": [\n          127.13960401631445,\n          112.34979929177572,\n          119.44647252423212\n        ],\n        \"semantic_type\": \"\",\n        \"description\": \"\"\n      }\n    }\n  ]\n}"
            }
          },
          "metadata": {},
          "execution_count": 26
        }
      ]
    },
    {
      "cell_type": "code",
      "source": [
        "sns.barplot(x = \"Model\", y = \"Test MAE\", data = results_df, palette = \"ocean\")\n",
        "plt.title(\"Model performance on Test set\")\n",
        "plt.xticks(ticks = results_df[\"Model\"], rotation = 45)\n",
        "\n",
        "for i in range(5):\n",
        "    plt.text(i, results_df[\"Test MAE\"][i], f\"{results_df['Test MAE'][i]:.2f}\", ha=\"center\")\n",
        "\n",
        "plt.show()"
      ],
      "metadata": {
        "colab": {
          "base_uri": "https://localhost:8080/",
          "height": 587
        },
        "id": "OR_tQf9khhzx",
        "outputId": "415c99c0-945c-4e2b-a552-b1097eb02f79"
      },
      "execution_count": 45,
      "outputs": [
        {
          "output_type": "display_data",
          "data": {
            "text/plain": [
              "<Figure size 640x480 with 1 Axes>"
            ],
            "image/png": "[encoded data removed]"
          },
          "metadata": {}
        }
      ]
    }
  ]
}