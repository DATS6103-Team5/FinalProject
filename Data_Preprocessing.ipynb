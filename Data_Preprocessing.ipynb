{
  "cells": [
    {
      "cell_type": "code",
      "execution_count": 92,
      "metadata": {
        "id": "vGffi15AUWMm"
      },
      "outputs": [],
      "source": [
        "import requests\n",
        "import pandas as pd\n",
        "from tqdm import tqdm\n",
        "from bs4 import BeautifulSoup"
      ]
    },
    {
      "cell_type": "code",
      "execution_count": 93,
      "metadata": {
        "id": "jyX9yzqpUn_3"
      },
      "outputs": [],
      "source": [
        "# URL of the webpage containing the links to CSV files\n",
        "url = \"http://insideairbnb.com/get-the-data/\"\n",
        "\n",
        "# Send an HTTP GET request to the URL\n",
        "response = requests.get(url)\n",
        "\n",
        "# Check if the request was successful\n",
        "if response.status_code == 200:\n",
        "    # Parse the HTML content of the webpage\n",
        "    soup = BeautifulSoup(response.content, \"html.parser\")\n",
        "\n",
        "    # Find all links in the webpage\n",
        "    links = soup.find_all(\"a\")\n",
        "\n",
        "    # List to store all the listings for USA.\n",
        "    usa_listings = []\n",
        "\n",
        "    # Iterate through the links\n",
        "    for link in links:\n",
        "        href = link.get(\"href\")\n",
        "        if href and (\"united-states\" in href) and href.endswith(\"listings.csv.gz\"):\n",
        "            usa_listings.append(href)\n",
        "else:\n",
        "    print(\"Failed to fetch webpage\")"
      ]
    },
    {
      "cell_type": "code",
      "execution_count": 94,
      "metadata": {
        "colab": {
          "base_uri": "https://localhost:8080/"
        },
        "id": "l2t8TCiWUogZ",
        "outputId": "65953ec1-733b-480c-9eda-ae0673e0fb83"
      },
      "outputs": [
        {
          "data": {
            "text/plain": [
              "34"
            ]
          },
          "execution_count": 94,
          "metadata": {},
          "output_type": "execute_result"
        }
      ],
      "source": [
        "len(usa_listings) # Links for listings data for 34 cities in USA."
      ]
    },
    {
      "cell_type": "code",
      "execution_count": 95,
      "metadata": {
        "colab": {
          "base_uri": "https://localhost:8080/"
        },
        "id": "0s15Z9CmUrfW",
        "outputId": "de284713-09fe-4c98-f752-c68d1ff633ba"
      },
      "outputs": [
        {
          "data": {
            "text/plain": [
              "['https://data.insideairbnb.com/united-states/ny/albany/2024-03-10/data/listings.csv.gz',\n",
              " 'https://data.insideairbnb.com/united-states/nc/asheville/2023-12-18/data/listings.csv.gz',\n",
              " 'https://data.insideairbnb.com/united-states/tx/austin/2023-12-15/data/listings.csv.gz',\n",
              " 'https://data.insideairbnb.com/united-states/ma/boston/2023-12-18/data/listings.csv.gz',\n",
              " 'https://data.insideairbnb.com/united-states/mt/bozeman/2024-03-19/data/listings.csv.gz']"
            ]
          },
          "execution_count": 95,
          "metadata": {},
          "output_type": "execute_result"
        }
      ],
      "source": [
        "usa_listings[:5] # Links where the files are stored."
      ]
    },
    {
      "cell_type": "code",
      "execution_count": 96,
      "metadata": {
        "colab": {
          "base_uri": "https://localhost:8080/"
        },
        "id": "Uho-RJxVUr1r",
        "outputId": "2f8eae86-463a-4949-878c-0a5661adf587"
      },
      "outputs": [
        {
          "name": "stderr",
          "output_type": "stream",
          "text": [
            " 15%|█▍        | 5/34 [00:03<00:16,  1.74it/s]C:\\Users\\fredl\\AppData\\Local\\Temp\\ipykernel_52048\\438877119.py:5: DtypeWarning: Columns (68) have mixed types. Specify dtype option on import or set low_memory=False.\n",
            "  df = pd.read_csv(listing)\n",
            "100%|██████████| 34/34 [00:38<00:00,  1.13s/it]\n"
          ]
        }
      ],
      "source": [
        "# Load the data for cities.\n",
        "city_data = []\n",
        "\n",
        "for listing in tqdm(usa_listings):\n",
        "  df = pd.read_csv(listing)\n",
        "  df[\"link\"] = listing\n",
        "  city_data.append(df)"
      ]
    },
    {
      "cell_type": "code",
      "execution_count": 97,
      "metadata": {
        "colab": {
          "base_uri": "https://localhost:8080/",
          "height": 602
        },
        "id": "_MQfctG7Uyyr",
        "outputId": "4cc46be9-e9ed-43ba-d364-20def958c0fe"
      },
      "outputs": [
        {
          "data": {
            "text/html": [
              "<div>\n",
              "<style scoped>\n",
              "    .dataframe tbody tr th:only-of-type {\n",
              "        vertical-align: middle;\n",
              "    }\n",
              "\n",
              "    .dataframe tbody tr th {\n",
              "        vertical-align: top;\n",
              "    }\n",
              "\n",
              "    .dataframe thead th {\n",
              "        text-align: right;\n",
              "    }\n",
              "</style>\n",
              "<table border=\"1\" class=\"dataframe\">\n",
              "  <thead>\n",
              "    <tr style=\"text-align: right;\">\n",
              "      <th></th>\n",
              "      <th>id</th>\n",
              "      <th>listing_url</th>\n",
              "      <th>scrape_id</th>\n",
              "      <th>last_scraped</th>\n",
              "      <th>source</th>\n",
              "      <th>name</th>\n",
              "      <th>description</th>\n",
              "      <th>neighborhood_overview</th>\n",
              "      <th>picture_url</th>\n",
              "      <th>host_id</th>\n",
              "      <th>...</th>\n",
              "      <th>review_scores_location</th>\n",
              "      <th>review_scores_value</th>\n",
              "      <th>license</th>\n",
              "      <th>instant_bookable</th>\n",
              "      <th>calculated_host_listings_count</th>\n",
              "      <th>calculated_host_listings_count_entire_homes</th>\n",
              "      <th>calculated_host_listings_count_private_rooms</th>\n",
              "      <th>calculated_host_listings_count_shared_rooms</th>\n",
              "      <th>reviews_per_month</th>\n",
              "      <th>link</th>\n",
              "    </tr>\n",
              "  </thead>\n",
              "  <tbody>\n",
              "    <tr>\n",
              "      <th>0</th>\n",
              "      <td>1489424</td>\n",
              "      <td>https://www.airbnb.com/rooms/1489424</td>\n",
              "      <td>20240310234900</td>\n",
              "      <td>2024-03-10</td>\n",
              "      <td>city scrape</td>\n",
              "      <td>Welcoming, easygoing, comfy bed, entire level</td>\n",
              "      <td>Queen size bed, extra comfy mattress, with acc...</td>\n",
              "      <td>Quiet yet convenient.</td>\n",
              "      <td>https://a0.muscache.com/pictures/21977748/1dc8...</td>\n",
              "      <td>5294164</td>\n",
              "      <td>...</td>\n",
              "      <td>4.82</td>\n",
              "      <td>4.81</td>\n",
              "      <td>NaN</td>\n",
              "      <td>f</td>\n",
              "      <td>1</td>\n",
              "      <td>0</td>\n",
              "      <td>1</td>\n",
              "      <td>0</td>\n",
              "      <td>1.94</td>\n",
              "      <td>https://data.insideairbnb.com/united-states/ny...</td>\n",
              "    </tr>\n",
              "    <tr>\n",
              "      <th>1</th>\n",
              "      <td>2992450</td>\n",
              "      <td>https://www.airbnb.com/rooms/2992450</td>\n",
              "      <td>20240310234900</td>\n",
              "      <td>2024-03-11</td>\n",
              "      <td>city scrape</td>\n",
              "      <td>Luxury 2 bedroom apartment</td>\n",
              "      <td>The apartment is located in a quiet neighborho...</td>\n",
              "      <td>NaN</td>\n",
              "      <td>https://a0.muscache.com/pictures/44627226/0e72...</td>\n",
              "      <td>4621559</td>\n",
              "      <td>...</td>\n",
              "      <td>3.22</td>\n",
              "      <td>3.67</td>\n",
              "      <td>NaN</td>\n",
              "      <td>f</td>\n",
              "      <td>1</td>\n",
              "      <td>1</td>\n",
              "      <td>0</td>\n",
              "      <td>0</td>\n",
              "      <td>0.08</td>\n",
              "      <td>https://data.insideairbnb.com/united-states/ny...</td>\n",
              "    </tr>\n",
              "    <tr>\n",
              "      <th>2</th>\n",
              "      <td>3820211</td>\n",
              "      <td>https://www.airbnb.com/rooms/3820211</td>\n",
              "      <td>20240310234900</td>\n",
              "      <td>2024-03-11</td>\n",
              "      <td>city scrape</td>\n",
              "      <td>Restored Precinct in Center Sq. w/Parking</td>\n",
              "      <td>Cozy, cool little 1BR Apt in the heart Albany'...</td>\n",
              "      <td>Great restaurants, architecture, walking, peop...</td>\n",
              "      <td>https://a0.muscache.com/pictures/prohost-api/H...</td>\n",
              "      <td>19648678</td>\n",
              "      <td>...</td>\n",
              "      <td>4.82</td>\n",
              "      <td>4.78</td>\n",
              "      <td>NaN</td>\n",
              "      <td>f</td>\n",
              "      <td>4</td>\n",
              "      <td>4</td>\n",
              "      <td>0</td>\n",
              "      <td>0</td>\n",
              "      <td>2.51</td>\n",
              "      <td>https://data.insideairbnb.com/united-states/ny...</td>\n",
              "    </tr>\n",
              "    <tr>\n",
              "      <th>3</th>\n",
              "      <td>5651579</td>\n",
              "      <td>https://www.airbnb.com/rooms/5651579</td>\n",
              "      <td>20240310234900</td>\n",
              "      <td>2024-03-11</td>\n",
              "      <td>city scrape</td>\n",
              "      <td>Large studio apt  by Capital Center &amp; ESP@</td>\n",
              "      <td>Spacious studio with hardwood floors, fully eq...</td>\n",
              "      <td>The neighborhood is very eclectic. We have a v...</td>\n",
              "      <td>https://a0.muscache.com/pictures/b3fc42f3-6e5e...</td>\n",
              "      <td>29288920</td>\n",
              "      <td>...</td>\n",
              "      <td>4.79</td>\n",
              "      <td>4.64</td>\n",
              "      <td>NaN</td>\n",
              "      <td>f</td>\n",
              "      <td>2</td>\n",
              "      <td>1</td>\n",
              "      <td>1</td>\n",
              "      <td>0</td>\n",
              "      <td>3.13</td>\n",
              "      <td>https://data.insideairbnb.com/united-states/ny...</td>\n",
              "    </tr>\n",
              "    <tr>\n",
              "      <th>4</th>\n",
              "      <td>6623339</td>\n",
              "      <td>https://www.airbnb.com/rooms/6623339</td>\n",
              "      <td>20240310234900</td>\n",
              "      <td>2024-03-11</td>\n",
              "      <td>city scrape</td>\n",
              "      <td>Center Sq. Loft in Converted Precinct w/ Parking</td>\n",
              "      <td>Large renovated 1 bedroom apartment in convert...</td>\n",
              "      <td>Located in Albany's finest urban neighborhood,...</td>\n",
              "      <td>https://a0.muscache.com/pictures/prohost-api/H...</td>\n",
              "      <td>19648678</td>\n",
              "      <td>...</td>\n",
              "      <td>4.81</td>\n",
              "      <td>4.72</td>\n",
              "      <td>NaN</td>\n",
              "      <td>f</td>\n",
              "      <td>4</td>\n",
              "      <td>4</td>\n",
              "      <td>0</td>\n",
              "      <td>0</td>\n",
              "      <td>2.87</td>\n",
              "      <td>https://data.insideairbnb.com/united-states/ny...</td>\n",
              "    </tr>\n",
              "  </tbody>\n",
              "</table>\n",
              "<p>5 rows × 76 columns</p>\n",
              "</div>"
            ],
            "text/plain": [
              "        id                           listing_url       scrape_id last_scraped  \\\n",
              "0  1489424  https://www.airbnb.com/rooms/1489424  20240310234900   2024-03-10   \n",
              "1  2992450  https://www.airbnb.com/rooms/2992450  20240310234900   2024-03-11   \n",
              "2  3820211  https://www.airbnb.com/rooms/3820211  20240310234900   2024-03-11   \n",
              "3  5651579  https://www.airbnb.com/rooms/5651579  20240310234900   2024-03-11   \n",
              "4  6623339  https://www.airbnb.com/rooms/6623339  20240310234900   2024-03-11   \n",
              "\n",
              "        source                                              name  \\\n",
              "0  city scrape     Welcoming, easygoing, comfy bed, entire level   \n",
              "1  city scrape                        Luxury 2 bedroom apartment   \n",
              "2  city scrape         Restored Precinct in Center Sq. w/Parking   \n",
              "3  city scrape        Large studio apt  by Capital Center & ESP@   \n",
              "4  city scrape  Center Sq. Loft in Converted Precinct w/ Parking   \n",
              "\n",
              "                                         description  \\\n",
              "0  Queen size bed, extra comfy mattress, with acc...   \n",
              "1  The apartment is located in a quiet neighborho...   \n",
              "2  Cozy, cool little 1BR Apt in the heart Albany'...   \n",
              "3  Spacious studio with hardwood floors, fully eq...   \n",
              "4  Large renovated 1 bedroom apartment in convert...   \n",
              "\n",
              "                               neighborhood_overview  \\\n",
              "0                              Quiet yet convenient.   \n",
              "1                                                NaN   \n",
              "2  Great restaurants, architecture, walking, peop...   \n",
              "3  The neighborhood is very eclectic. We have a v...   \n",
              "4  Located in Albany's finest urban neighborhood,...   \n",
              "\n",
              "                                         picture_url   host_id  ...  \\\n",
              "0  https://a0.muscache.com/pictures/21977748/1dc8...   5294164  ...   \n",
              "1  https://a0.muscache.com/pictures/44627226/0e72...   4621559  ...   \n",
              "2  https://a0.muscache.com/pictures/prohost-api/H...  19648678  ...   \n",
              "3  https://a0.muscache.com/pictures/b3fc42f3-6e5e...  29288920  ...   \n",
              "4  https://a0.muscache.com/pictures/prohost-api/H...  19648678  ...   \n",
              "\n",
              "  review_scores_location review_scores_value license instant_bookable  \\\n",
              "0                   4.82                4.81     NaN                f   \n",
              "1                   3.22                3.67     NaN                f   \n",
              "2                   4.82                4.78     NaN                f   \n",
              "3                   4.79                4.64     NaN                f   \n",
              "4                   4.81                4.72     NaN                f   \n",
              "\n",
              "  calculated_host_listings_count calculated_host_listings_count_entire_homes  \\\n",
              "0                              1                                           0   \n",
              "1                              1                                           1   \n",
              "2                              4                                           4   \n",
              "3                              2                                           1   \n",
              "4                              4                                           4   \n",
              "\n",
              "  calculated_host_listings_count_private_rooms  \\\n",
              "0                                            1   \n",
              "1                                            0   \n",
              "2                                            0   \n",
              "3                                            1   \n",
              "4                                            0   \n",
              "\n",
              "  calculated_host_listings_count_shared_rooms reviews_per_month  \\\n",
              "0                                           0              1.94   \n",
              "1                                           0              0.08   \n",
              "2                                           0              2.51   \n",
              "3                                           0              3.13   \n",
              "4                                           0              2.87   \n",
              "\n",
              "                                                link  \n",
              "0  https://data.insideairbnb.com/united-states/ny...  \n",
              "1  https://data.insideairbnb.com/united-states/ny...  \n",
              "2  https://data.insideairbnb.com/united-states/ny...  \n",
              "3  https://data.insideairbnb.com/united-states/ny...  \n",
              "4  https://data.insideairbnb.com/united-states/ny...  \n",
              "\n",
              "[5 rows x 76 columns]"
            ]
          },
          "metadata": {},
          "output_type": "display_data"
        },
        {
          "name": "stdout",
          "output_type": "stream",
          "text": [
            "Dataset Shape: (288465, 76)\n"
          ]
        }
      ],
      "source": [
        "# Concatenate all the cities data to create a single dataframe.\n",
        "usa_data = pd.concat(city_data)\n",
        "display(usa_data.head())\n",
        "print(f\"Dataset Shape: {usa_data.shape}\")"
      ]
    },
    {
      "cell_type": "code",
      "execution_count": 98,
      "metadata": {
        "colab": {
          "base_uri": "https://localhost:8080/",
          "height": 1000
        },
        "id": "mW64hmgbUzky",
        "outputId": "a7e6a791-02f1-49f9-8964-c4ee9db67a00"
      },
      "outputs": [
        {
          "data": {
            "text/html": [
              "<div>\n",
              "<style scoped>\n",
              "    .dataframe tbody tr th:only-of-type {\n",
              "        vertical-align: middle;\n",
              "    }\n",
              "\n",
              "    .dataframe tbody tr th {\n",
              "        vertical-align: top;\n",
              "    }\n",
              "\n",
              "    .dataframe thead th {\n",
              "        text-align: right;\n",
              "    }\n",
              "</style>\n",
              "<table border=\"1\" class=\"dataframe\">\n",
              "  <thead>\n",
              "    <tr style=\"text-align: right;\">\n",
              "      <th></th>\n",
              "      <th>id</th>\n",
              "      <th>listing_url</th>\n",
              "      <th>scrape_id</th>\n",
              "      <th>last_scraped</th>\n",
              "      <th>source</th>\n",
              "      <th>name</th>\n",
              "      <th>description</th>\n",
              "      <th>neighborhood_overview</th>\n",
              "      <th>picture_url</th>\n",
              "      <th>host_id</th>\n",
              "      <th>...</th>\n",
              "      <th>review_scores_location</th>\n",
              "      <th>review_scores_value</th>\n",
              "      <th>license</th>\n",
              "      <th>instant_bookable</th>\n",
              "      <th>calculated_host_listings_count</th>\n",
              "      <th>calculated_host_listings_count_entire_homes</th>\n",
              "      <th>calculated_host_listings_count_private_rooms</th>\n",
              "      <th>calculated_host_listings_count_shared_rooms</th>\n",
              "      <th>reviews_per_month</th>\n",
              "      <th>link</th>\n",
              "    </tr>\n",
              "  </thead>\n",
              "  <tbody>\n",
              "    <tr>\n",
              "      <th>0</th>\n",
              "      <td>1489424</td>\n",
              "      <td>https://www.airbnb.com/rooms/1489424</td>\n",
              "      <td>20240310234900</td>\n",
              "      <td>2024-03-10</td>\n",
              "      <td>city scrape</td>\n",
              "      <td>Welcoming, easygoing, comfy bed, entire level</td>\n",
              "      <td>Queen size bed, extra comfy mattress, with acc...</td>\n",
              "      <td>Quiet yet convenient.</td>\n",
              "      <td>https://a0.muscache.com/pictures/21977748/1dc8...</td>\n",
              "      <td>5294164</td>\n",
              "      <td>...</td>\n",
              "      <td>4.82</td>\n",
              "      <td>4.81</td>\n",
              "      <td>NaN</td>\n",
              "      <td>f</td>\n",
              "      <td>1</td>\n",
              "      <td>0</td>\n",
              "      <td>1</td>\n",
              "      <td>0</td>\n",
              "      <td>1.94</td>\n",
              "      <td>https://data.insideairbnb.com/united-states/ny...</td>\n",
              "    </tr>\n",
              "    <tr>\n",
              "      <th>1</th>\n",
              "      <td>2992450</td>\n",
              "      <td>https://www.airbnb.com/rooms/2992450</td>\n",
              "      <td>20240310234900</td>\n",
              "      <td>2024-03-11</td>\n",
              "      <td>city scrape</td>\n",
              "      <td>Luxury 2 bedroom apartment</td>\n",
              "      <td>The apartment is located in a quiet neighborho...</td>\n",
              "      <td>NaN</td>\n",
              "      <td>https://a0.muscache.com/pictures/44627226/0e72...</td>\n",
              "      <td>4621559</td>\n",
              "      <td>...</td>\n",
              "      <td>3.22</td>\n",
              "      <td>3.67</td>\n",
              "      <td>NaN</td>\n",
              "      <td>f</td>\n",
              "      <td>1</td>\n",
              "      <td>1</td>\n",
              "      <td>0</td>\n",
              "      <td>0</td>\n",
              "      <td>0.08</td>\n",
              "      <td>https://data.insideairbnb.com/united-states/ny...</td>\n",
              "    </tr>\n",
              "    <tr>\n",
              "      <th>2</th>\n",
              "      <td>3820211</td>\n",
              "      <td>https://www.airbnb.com/rooms/3820211</td>\n",
              "      <td>20240310234900</td>\n",
              "      <td>2024-03-11</td>\n",
              "      <td>city scrape</td>\n",
              "      <td>Restored Precinct in Center Sq. w/Parking</td>\n",
              "      <td>Cozy, cool little 1BR Apt in the heart Albany'...</td>\n",
              "      <td>Great restaurants, architecture, walking, peop...</td>\n",
              "      <td>https://a0.muscache.com/pictures/prohost-api/H...</td>\n",
              "      <td>19648678</td>\n",
              "      <td>...</td>\n",
              "      <td>4.82</td>\n",
              "      <td>4.78</td>\n",
              "      <td>NaN</td>\n",
              "      <td>f</td>\n",
              "      <td>4</td>\n",
              "      <td>4</td>\n",
              "      <td>0</td>\n",
              "      <td>0</td>\n",
              "      <td>2.51</td>\n",
              "      <td>https://data.insideairbnb.com/united-states/ny...</td>\n",
              "    </tr>\n",
              "    <tr>\n",
              "      <th>3</th>\n",
              "      <td>5651579</td>\n",
              "      <td>https://www.airbnb.com/rooms/5651579</td>\n",
              "      <td>20240310234900</td>\n",
              "      <td>2024-03-11</td>\n",
              "      <td>city scrape</td>\n",
              "      <td>Large studio apt  by Capital Center &amp; ESP@</td>\n",
              "      <td>Spacious studio with hardwood floors, fully eq...</td>\n",
              "      <td>The neighborhood is very eclectic. We have a v...</td>\n",
              "      <td>https://a0.muscache.com/pictures/b3fc42f3-6e5e...</td>\n",
              "      <td>29288920</td>\n",
              "      <td>...</td>\n",
              "      <td>4.79</td>\n",
              "      <td>4.64</td>\n",
              "      <td>NaN</td>\n",
              "      <td>f</td>\n",
              "      <td>2</td>\n",
              "      <td>1</td>\n",
              "      <td>1</td>\n",
              "      <td>0</td>\n",
              "      <td>3.13</td>\n",
              "      <td>https://data.insideairbnb.com/united-states/ny...</td>\n",
              "    </tr>\n",
              "    <tr>\n",
              "      <th>4</th>\n",
              "      <td>6623339</td>\n",
              "      <td>https://www.airbnb.com/rooms/6623339</td>\n",
              "      <td>20240310234900</td>\n",
              "      <td>2024-03-11</td>\n",
              "      <td>city scrape</td>\n",
              "      <td>Center Sq. Loft in Converted Precinct w/ Parking</td>\n",
              "      <td>Large renovated 1 bedroom apartment in convert...</td>\n",
              "      <td>Located in Albany's finest urban neighborhood,...</td>\n",
              "      <td>https://a0.muscache.com/pictures/prohost-api/H...</td>\n",
              "      <td>19648678</td>\n",
              "      <td>...</td>\n",
              "      <td>4.81</td>\n",
              "      <td>4.72</td>\n",
              "      <td>NaN</td>\n",
              "      <td>f</td>\n",
              "      <td>4</td>\n",
              "      <td>4</td>\n",
              "      <td>0</td>\n",
              "      <td>0</td>\n",
              "      <td>2.87</td>\n",
              "      <td>https://data.insideairbnb.com/united-states/ny...</td>\n",
              "    </tr>\n",
              "    <tr>\n",
              "      <th>...</th>\n",
              "      <td>...</td>\n",
              "      <td>...</td>\n",
              "      <td>...</td>\n",
              "      <td>...</td>\n",
              "      <td>...</td>\n",
              "      <td>...</td>\n",
              "      <td>...</td>\n",
              "      <td>...</td>\n",
              "      <td>...</td>\n",
              "      <td>...</td>\n",
              "      <td>...</td>\n",
              "      <td>...</td>\n",
              "      <td>...</td>\n",
              "      <td>...</td>\n",
              "      <td>...</td>\n",
              "      <td>...</td>\n",
              "      <td>...</td>\n",
              "      <td>...</td>\n",
              "      <td>...</td>\n",
              "      <td>...</td>\n",
              "      <td>...</td>\n",
              "    </tr>\n",
              "    <tr>\n",
              "      <th>288460</th>\n",
              "      <td>1047064894296117631</td>\n",
              "      <td>https://www.airbnb.com/rooms/1047064894296117631</td>\n",
              "      <td>20231218032619</td>\n",
              "      <td>2023-12-18</td>\n",
              "      <td>city scrape</td>\n",
              "      <td>Rental unit in Washington · ★New · 1 bedroom ·...</td>\n",
              "      <td>NaN</td>\n",
              "      <td>This furnished rental is situated in Shaw, a h...</td>\n",
              "      <td>https://a0.muscache.com/pictures/prohost-api/H...</td>\n",
              "      <td>107434423</td>\n",
              "      <td>...</td>\n",
              "      <td>NaN</td>\n",
              "      <td>NaN</td>\n",
              "      <td>NaN</td>\n",
              "      <td>f</td>\n",
              "      <td>234</td>\n",
              "      <td>234</td>\n",
              "      <td>0</td>\n",
              "      <td>0</td>\n",
              "      <td>NaN</td>\n",
              "      <td>https://data.insideairbnb.com/united-states/dc...</td>\n",
              "    </tr>\n",
              "    <tr>\n",
              "      <th>288461</th>\n",
              "      <td>1047730533367174366</td>\n",
              "      <td>https://www.airbnb.com/rooms/1047730533367174366</td>\n",
              "      <td>20231218032619</td>\n",
              "      <td>2023-12-18</td>\n",
              "      <td>city scrape</td>\n",
              "      <td>Home in Washington · ★New · 1 bedroom · 1 bed ...</td>\n",
              "      <td>NaN</td>\n",
              "      <td>Petworth</td>\n",
              "      <td>https://a0.muscache.com/pictures/e9e7aaa1-ca9f...</td>\n",
              "      <td>437660791</td>\n",
              "      <td>...</td>\n",
              "      <td>NaN</td>\n",
              "      <td>NaN</td>\n",
              "      <td>Exempt</td>\n",
              "      <td>t</td>\n",
              "      <td>28</td>\n",
              "      <td>6</td>\n",
              "      <td>22</td>\n",
              "      <td>0</td>\n",
              "      <td>NaN</td>\n",
              "      <td>https://data.insideairbnb.com/united-states/dc...</td>\n",
              "    </tr>\n",
              "    <tr>\n",
              "      <th>288462</th>\n",
              "      <td>1047772826607759074</td>\n",
              "      <td>https://www.airbnb.com/rooms/1047772826607759074</td>\n",
              "      <td>20231218032619</td>\n",
              "      <td>2023-12-18</td>\n",
              "      <td>city scrape</td>\n",
              "      <td>Rental unit in Washington · ★New · 1 bedroom ·...</td>\n",
              "      <td>NaN</td>\n",
              "      <td>NaN</td>\n",
              "      <td>https://a0.muscache.com/pictures/miso/Hosting-...</td>\n",
              "      <td>437660791</td>\n",
              "      <td>...</td>\n",
              "      <td>NaN</td>\n",
              "      <td>NaN</td>\n",
              "      <td>Exempt</td>\n",
              "      <td>t</td>\n",
              "      <td>28</td>\n",
              "      <td>6</td>\n",
              "      <td>22</td>\n",
              "      <td>0</td>\n",
              "      <td>NaN</td>\n",
              "      <td>https://data.insideairbnb.com/united-states/dc...</td>\n",
              "    </tr>\n",
              "    <tr>\n",
              "      <th>288463</th>\n",
              "      <td>1047777612294831826</td>\n",
              "      <td>https://www.airbnb.com/rooms/1047777612294831826</td>\n",
              "      <td>20231218032619</td>\n",
              "      <td>2023-12-18</td>\n",
              "      <td>city scrape</td>\n",
              "      <td>Rental unit in Washington · ★New · 1 bedroom ·...</td>\n",
              "      <td>NaN</td>\n",
              "      <td>NaN</td>\n",
              "      <td>https://a0.muscache.com/pictures/3a57db34-796d...</td>\n",
              "      <td>437660791</td>\n",
              "      <td>...</td>\n",
              "      <td>NaN</td>\n",
              "      <td>NaN</td>\n",
              "      <td>Exempt</td>\n",
              "      <td>t</td>\n",
              "      <td>28</td>\n",
              "      <td>6</td>\n",
              "      <td>22</td>\n",
              "      <td>0</td>\n",
              "      <td>NaN</td>\n",
              "      <td>https://data.insideairbnb.com/united-states/dc...</td>\n",
              "    </tr>\n",
              "    <tr>\n",
              "      <th>288464</th>\n",
              "      <td>1047931080098470138</td>\n",
              "      <td>https://www.airbnb.com/rooms/1047931080098470138</td>\n",
              "      <td>20231218032619</td>\n",
              "      <td>2023-12-18</td>\n",
              "      <td>city scrape</td>\n",
              "      <td>Bed and breakfast in Washington · ★New · 2 bed...</td>\n",
              "      <td>NaN</td>\n",
              "      <td>NaN</td>\n",
              "      <td>https://a0.muscache.com/pictures/hosting/Hosti...</td>\n",
              "      <td>350603487</td>\n",
              "      <td>...</td>\n",
              "      <td>NaN</td>\n",
              "      <td>NaN</td>\n",
              "      <td>Exempt</td>\n",
              "      <td>t</td>\n",
              "      <td>3</td>\n",
              "      <td>0</td>\n",
              "      <td>3</td>\n",
              "      <td>0</td>\n",
              "      <td>NaN</td>\n",
              "      <td>https://data.insideairbnb.com/united-states/dc...</td>\n",
              "    </tr>\n",
              "  </tbody>\n",
              "</table>\n",
              "<p>288465 rows × 76 columns</p>\n",
              "</div>"
            ],
            "text/plain": [
              "                         id                                       listing_url  \\\n",
              "0                   1489424              https://www.airbnb.com/rooms/1489424   \n",
              "1                   2992450              https://www.airbnb.com/rooms/2992450   \n",
              "2                   3820211              https://www.airbnb.com/rooms/3820211   \n",
              "3                   5651579              https://www.airbnb.com/rooms/5651579   \n",
              "4                   6623339              https://www.airbnb.com/rooms/6623339   \n",
              "...                     ...                                               ...   \n",
              "288460  1047064894296117631  https://www.airbnb.com/rooms/1047064894296117631   \n",
              "288461  1047730533367174366  https://www.airbnb.com/rooms/1047730533367174366   \n",
              "288462  1047772826607759074  https://www.airbnb.com/rooms/1047772826607759074   \n",
              "288463  1047777612294831826  https://www.airbnb.com/rooms/1047777612294831826   \n",
              "288464  1047931080098470138  https://www.airbnb.com/rooms/1047931080098470138   \n",
              "\n",
              "             scrape_id last_scraped       source  \\\n",
              "0       20240310234900   2024-03-10  city scrape   \n",
              "1       20240310234900   2024-03-11  city scrape   \n",
              "2       20240310234900   2024-03-11  city scrape   \n",
              "3       20240310234900   2024-03-11  city scrape   \n",
              "4       20240310234900   2024-03-11  city scrape   \n",
              "...                ...          ...          ...   \n",
              "288460  20231218032619   2023-12-18  city scrape   \n",
              "288461  20231218032619   2023-12-18  city scrape   \n",
              "288462  20231218032619   2023-12-18  city scrape   \n",
              "288463  20231218032619   2023-12-18  city scrape   \n",
              "288464  20231218032619   2023-12-18  city scrape   \n",
              "\n",
              "                                                     name  \\\n",
              "0           Welcoming, easygoing, comfy bed, entire level   \n",
              "1                              Luxury 2 bedroom apartment   \n",
              "2               Restored Precinct in Center Sq. w/Parking   \n",
              "3              Large studio apt  by Capital Center & ESP@   \n",
              "4        Center Sq. Loft in Converted Precinct w/ Parking   \n",
              "...                                                   ...   \n",
              "288460  Rental unit in Washington · ★New · 1 bedroom ·...   \n",
              "288461  Home in Washington · ★New · 1 bedroom · 1 bed ...   \n",
              "288462  Rental unit in Washington · ★New · 1 bedroom ·...   \n",
              "288463  Rental unit in Washington · ★New · 1 bedroom ·...   \n",
              "288464  Bed and breakfast in Washington · ★New · 2 bed...   \n",
              "\n",
              "                                              description  \\\n",
              "0       Queen size bed, extra comfy mattress, with acc...   \n",
              "1       The apartment is located in a quiet neighborho...   \n",
              "2       Cozy, cool little 1BR Apt in the heart Albany'...   \n",
              "3       Spacious studio with hardwood floors, fully eq...   \n",
              "4       Large renovated 1 bedroom apartment in convert...   \n",
              "...                                                   ...   \n",
              "288460                                                NaN   \n",
              "288461                                                NaN   \n",
              "288462                                                NaN   \n",
              "288463                                                NaN   \n",
              "288464                                                NaN   \n",
              "\n",
              "                                    neighborhood_overview  \\\n",
              "0                                   Quiet yet convenient.   \n",
              "1                                                     NaN   \n",
              "2       Great restaurants, architecture, walking, peop...   \n",
              "3       The neighborhood is very eclectic. We have a v...   \n",
              "4       Located in Albany's finest urban neighborhood,...   \n",
              "...                                                   ...   \n",
              "288460  This furnished rental is situated in Shaw, a h...   \n",
              "288461                                           Petworth   \n",
              "288462                                                NaN   \n",
              "288463                                                NaN   \n",
              "288464                                                NaN   \n",
              "\n",
              "                                              picture_url    host_id  ...  \\\n",
              "0       https://a0.muscache.com/pictures/21977748/1dc8...    5294164  ...   \n",
              "1       https://a0.muscache.com/pictures/44627226/0e72...    4621559  ...   \n",
              "2       https://a0.muscache.com/pictures/prohost-api/H...   19648678  ...   \n",
              "3       https://a0.muscache.com/pictures/b3fc42f3-6e5e...   29288920  ...   \n",
              "4       https://a0.muscache.com/pictures/prohost-api/H...   19648678  ...   \n",
              "...                                                   ...        ...  ...   \n",
              "288460  https://a0.muscache.com/pictures/prohost-api/H...  107434423  ...   \n",
              "288461  https://a0.muscache.com/pictures/e9e7aaa1-ca9f...  437660791  ...   \n",
              "288462  https://a0.muscache.com/pictures/miso/Hosting-...  437660791  ...   \n",
              "288463  https://a0.muscache.com/pictures/3a57db34-796d...  437660791  ...   \n",
              "288464  https://a0.muscache.com/pictures/hosting/Hosti...  350603487  ...   \n",
              "\n",
              "       review_scores_location review_scores_value license instant_bookable  \\\n",
              "0                        4.82                4.81     NaN                f   \n",
              "1                        3.22                3.67     NaN                f   \n",
              "2                        4.82                4.78     NaN                f   \n",
              "3                        4.79                4.64     NaN                f   \n",
              "4                        4.81                4.72     NaN                f   \n",
              "...                       ...                 ...     ...              ...   \n",
              "288460                    NaN                 NaN     NaN                f   \n",
              "288461                    NaN                 NaN  Exempt                t   \n",
              "288462                    NaN                 NaN  Exempt                t   \n",
              "288463                    NaN                 NaN  Exempt                t   \n",
              "288464                    NaN                 NaN  Exempt                t   \n",
              "\n",
              "       calculated_host_listings_count  \\\n",
              "0                                   1   \n",
              "1                                   1   \n",
              "2                                   4   \n",
              "3                                   2   \n",
              "4                                   4   \n",
              "...                               ...   \n",
              "288460                            234   \n",
              "288461                             28   \n",
              "288462                             28   \n",
              "288463                             28   \n",
              "288464                              3   \n",
              "\n",
              "       calculated_host_listings_count_entire_homes  \\\n",
              "0                                                0   \n",
              "1                                                1   \n",
              "2                                                4   \n",
              "3                                                1   \n",
              "4                                                4   \n",
              "...                                            ...   \n",
              "288460                                         234   \n",
              "288461                                           6   \n",
              "288462                                           6   \n",
              "288463                                           6   \n",
              "288464                                           0   \n",
              "\n",
              "       calculated_host_listings_count_private_rooms  \\\n",
              "0                                                 1   \n",
              "1                                                 0   \n",
              "2                                                 0   \n",
              "3                                                 1   \n",
              "4                                                 0   \n",
              "...                                             ...   \n",
              "288460                                            0   \n",
              "288461                                           22   \n",
              "288462                                           22   \n",
              "288463                                           22   \n",
              "288464                                            3   \n",
              "\n",
              "       calculated_host_listings_count_shared_rooms reviews_per_month  \\\n",
              "0                                                0              1.94   \n",
              "1                                                0              0.08   \n",
              "2                                                0              2.51   \n",
              "3                                                0              3.13   \n",
              "4                                                0              2.87   \n",
              "...                                            ...               ...   \n",
              "288460                                           0               NaN   \n",
              "288461                                           0               NaN   \n",
              "288462                                           0               NaN   \n",
              "288463                                           0               NaN   \n",
              "288464                                           0               NaN   \n",
              "\n",
              "                                                     link  \n",
              "0       https://data.insideairbnb.com/united-states/ny...  \n",
              "1       https://data.insideairbnb.com/united-states/ny...  \n",
              "2       https://data.insideairbnb.com/united-states/ny...  \n",
              "3       https://data.insideairbnb.com/united-states/ny...  \n",
              "4       https://data.insideairbnb.com/united-states/ny...  \n",
              "...                                                   ...  \n",
              "288460  https://data.insideairbnb.com/united-states/dc...  \n",
              "288461  https://data.insideairbnb.com/united-states/dc...  \n",
              "288462  https://data.insideairbnb.com/united-states/dc...  \n",
              "288463  https://data.insideairbnb.com/united-states/dc...  \n",
              "288464  https://data.insideairbnb.com/united-states/dc...  \n",
              "\n",
              "[288465 rows x 76 columns]"
            ]
          },
          "execution_count": 98,
          "metadata": {},
          "output_type": "execute_result"
        }
      ],
      "source": [
        "listings = usa_data.copy()\n",
        "listings.reset_index(drop=True, inplace=True)\n",
        "listings"
      ]
    },
    {
      "cell_type": "code",
      "execution_count": 99,
      "metadata": {
        "colab": {
          "base_uri": "https://localhost:8080/"
        },
        "id": "FIeHWa76VLTi",
        "outputId": "445ee54d-8672-43db-e977-309fad3a8566"
      },
      "outputs": [
        {
          "name": "stdout",
          "output_type": "stream",
          "text": [
            "<class 'pandas.core.frame.DataFrame'>\n",
            "RangeIndex: 288465 entries, 0 to 288464\n",
            "Data columns (total 76 columns):\n",
            " #   Column                                        Non-Null Count   Dtype  \n",
            "---  ------                                        --------------   -----  \n",
            " 0   id                                            288465 non-null  int64  \n",
            " 1   listing_url                                   288465 non-null  object \n",
            " 2   scrape_id                                     288465 non-null  int64  \n",
            " 3   last_scraped                                  288465 non-null  object \n",
            " 4   source                                        288465 non-null  object \n",
            " 5   name                                          288463 non-null  object \n",
            " 6   description                                   92385 non-null   object \n",
            " 7   neighborhood_overview                         175042 non-null  object \n",
            " 8   picture_url                                   288463 non-null  object \n",
            " 9   host_id                                       288465 non-null  int64  \n",
            " 10  host_url                                      288465 non-null  object \n",
            " 11  host_name                                     288431 non-null  object \n",
            " 12  host_since                                    288431 non-null  object \n",
            " 13  host_location                                 223971 non-null  object \n",
            " 14  host_about                                    171694 non-null  object \n",
            " 15  host_response_time                            233797 non-null  object \n",
            " 16  host_response_rate                            233797 non-null  object \n",
            " 17  host_acceptance_rate                          247376 non-null  object \n",
            " 18  host_is_superhost                             287248 non-null  object \n",
            " 19  host_thumbnail_url                            288431 non-null  object \n",
            " 20  host_picture_url                              288431 non-null  object \n",
            " 21  host_neighbourhood                            229685 non-null  object \n",
            " 22  host_listings_count                           288431 non-null  float64\n",
            " 23  host_total_listings_count                     288431 non-null  float64\n",
            " 24  host_verifications                            288431 non-null  object \n",
            " 25  host_has_profile_pic                          288431 non-null  object \n",
            " 26  host_identity_verified                        288431 non-null  object \n",
            " 27  neighbourhood                                 175045 non-null  object \n",
            " 28  neighbourhood_cleansed                        287537 non-null  object \n",
            " 29  neighbourhood_group_cleansed                  130680 non-null  object \n",
            " 30  latitude                                      288465 non-null  float64\n",
            " 31  longitude                                     288465 non-null  float64\n",
            " 32  property_type                                 288465 non-null  object \n",
            " 33  room_type                                     288465 non-null  object \n",
            " 34  accommodates                                  288465 non-null  int64  \n",
            " 35  bathrooms                                     74748 non-null   float64\n",
            " 36  bathrooms_text                                288102 non-null  object \n",
            " 37  bedrooms                                      88188 non-null   float64\n",
            " 38  beds                                          265828 non-null  float64\n",
            " 39  amenities                                     288465 non-null  object \n",
            " 40  price                                         258978 non-null  object \n",
            " 41  minimum_nights                                288465 non-null  int64  \n",
            " 42  maximum_nights                                288465 non-null  int64  \n",
            " 43  minimum_minimum_nights                        288460 non-null  float64\n",
            " 44  maximum_minimum_nights                        288460 non-null  float64\n",
            " 45  minimum_maximum_nights                        288460 non-null  float64\n",
            " 46  maximum_maximum_nights                        288460 non-null  float64\n",
            " 47  minimum_nights_avg_ntm                        288460 non-null  float64\n",
            " 48  maximum_nights_avg_ntm                        288460 non-null  float64\n",
            " 49  calendar_updated                              0 non-null       float64\n",
            " 50  has_availability                              261066 non-null  object \n",
            " 51  availability_30                               288465 non-null  int64  \n",
            " 52  availability_60                               288465 non-null  int64  \n",
            " 53  availability_90                               288465 non-null  int64  \n",
            " 54  availability_365                              288465 non-null  int64  \n",
            " 55  calendar_last_scraped                         288465 non-null  object \n",
            " 56  number_of_reviews                             288465 non-null  int64  \n",
            " 57  number_of_reviews_ltm                         288465 non-null  int64  \n",
            " 58  number_of_reviews_l30d                        288465 non-null  int64  \n",
            " 59  first_review                                  222336 non-null  object \n",
            " 60  last_review                                   222336 non-null  object \n",
            " 61  review_scores_rating                          222464 non-null  float64\n",
            " 62  review_scores_accuracy                        222372 non-null  float64\n",
            " 63  review_scores_cleanliness                     222383 non-null  float64\n",
            " 64  review_scores_checkin                         222348 non-null  float64\n",
            " 65  review_scores_communication                   222379 non-null  float64\n",
            " 66  review_scores_location                        222344 non-null  float64\n",
            " 67  review_scores_value                           222340 non-null  float64\n",
            " 68  license                                       101407 non-null  object \n",
            " 69  instant_bookable                              288465 non-null  object \n",
            " 70  calculated_host_listings_count                288465 non-null  int64  \n",
            " 71  calculated_host_listings_count_entire_homes   288465 non-null  int64  \n",
            " 72  calculated_host_listings_count_private_rooms  288465 non-null  int64  \n",
            " 73  calculated_host_listings_count_shared_rooms   288465 non-null  int64  \n",
            " 74  reviews_per_month                             222336 non-null  float64\n",
            " 75  link                                          288465 non-null  object \n",
            "dtypes: float64(22), int64(17), object(37)\n",
            "memory usage: 167.3+ MB\n"
          ]
        }
      ],
      "source": [
        "listings.info()"
      ]
    },
    {
      "cell_type": "code",
      "execution_count": 100,
      "metadata": {
        "colab": {
          "base_uri": "https://localhost:8080/"
        },
        "id": "57euwZnABYvY",
        "outputId": "bdc94be1-6feb-4e70-ddd8-ec4f348571cb"
      },
      "outputs": [
        {
          "data": {
            "text/plain": [
              "Index(['id', 'listing_url', 'scrape_id', 'last_scraped', 'source', 'name',\n",
              "       'description', 'neighborhood_overview', 'picture_url', 'host_id',\n",
              "       'host_url', 'host_name', 'host_since', 'host_location', 'host_about',\n",
              "       'host_response_time', 'host_response_rate', 'host_acceptance_rate',\n",
              "       'host_is_superhost', 'host_thumbnail_url', 'host_picture_url',\n",
              "       'host_neighbourhood', 'host_listings_count',\n",
              "       'host_total_listings_count', 'host_verifications',\n",
              "       'host_has_profile_pic', 'host_identity_verified', 'neighbourhood',\n",
              "       'neighbourhood_cleansed', 'neighbourhood_group_cleansed', 'latitude',\n",
              "       'longitude', 'property_type', 'room_type', 'accommodates', 'bathrooms',\n",
              "       'bathrooms_text', 'bedrooms', 'beds', 'amenities', 'price',\n",
              "       'minimum_nights', 'maximum_nights', 'minimum_minimum_nights',\n",
              "       'maximum_minimum_nights', 'minimum_maximum_nights',\n",
              "       'maximum_maximum_nights', 'minimum_nights_avg_ntm',\n",
              "       'maximum_nights_avg_ntm', 'calendar_updated', 'has_availability',\n",
              "       'availability_30', 'availability_60', 'availability_90',\n",
              "       'availability_365', 'calendar_last_scraped', 'number_of_reviews',\n",
              "       'number_of_reviews_ltm', 'number_of_reviews_l30d', 'first_review',\n",
              "       'last_review', 'review_scores_rating', 'review_scores_accuracy',\n",
              "       'review_scores_cleanliness', 'review_scores_checkin',\n",
              "       'review_scores_communication', 'review_scores_location',\n",
              "       'review_scores_value', 'license', 'instant_bookable',\n",
              "       'calculated_host_listings_count',\n",
              "       'calculated_host_listings_count_entire_homes',\n",
              "       'calculated_host_listings_count_private_rooms',\n",
              "       'calculated_host_listings_count_shared_rooms', 'reviews_per_month',\n",
              "       'link'],\n",
              "      dtype='object')"
            ]
          },
          "execution_count": 100,
          "metadata": {},
          "output_type": "execute_result"
        }
      ],
      "source": [
        "listings.columns"
      ]
    },
    {
      "cell_type": "code",
      "execution_count": 101,
      "metadata": {
        "colab": {
          "base_uri": "https://localhost:8080/"
        },
        "id": "_wYdCgMIAnkV",
        "outputId": "b9a19a68-0143-41d4-ca33-dd74320b670b"
      },
      "outputs": [
        {
          "data": {
            "text/plain": [
              "array([1489424, 'https://www.airbnb.com/rooms/1489424', 20240310234900,\n",
              "       '2024-03-10', 'city scrape',\n",
              "       'Welcoming, easygoing, comfy bed, entire level',\n",
              "       'Queen size bed, extra comfy mattress, with access to a private bathroom with shower. A single bed is also available in that room. You will have an entire level of the house to yourself. The large, well-lit room is located in our furnished basement. Central A/C, wi-fi. One mile to UAlbany and College of St. Rose. 35 minutes to Saratoga tracks and SPAC. An hour to mountains. Quiet dead-end street with ample on-street parking.  Equipped kitchen for your use. Hi-def cable tv',\n",
              "       'Quiet yet convenient.',\n",
              "       'https://a0.muscache.com/pictures/21977748/1dc80cd7_original.jpg',\n",
              "       5294164, 'https://www.airbnb.com/users/show/5294164', 'Efrat',\n",
              "       '2013-03-02', 'Albany, NY',\n",
              "       'I am originally from Brooklyn, New York. As an adult I have lived in both the U.S. and Israel. I am on faculty at Empire State College. My husband, Dan, works for NY State as a researcher on prison population issues. Our three daughters are young adults and scattered in various locations. We have hosted several exchange students from Europe, South America and Asia and our house was always full of young people when our daughters were younger. We are relaxed and welcoming hosts.',\n",
              "       'within an hour', '100%', '87%', 'f',\n",
              "       'https://a0.muscache.com/im/users/5294164/profile_pic/1375754135/original.jpg?aki_policy=profile_small',\n",
              "       'https://a0.muscache.com/im/users/5294164/profile_pic/1375754135/original.jpg?aki_policy=profile_x_medium',\n",
              "       nan, 1.0, 2.0, \"['email', 'phone']\", 't', 't',\n",
              "       'Albany, New York, United States', 'FOURTEENTH WARD', nan,\n",
              "       42.66719, -73.8158, 'Private room in home', 'Private room', 2, 1.0,\n",
              "       '1 private bath', 1.0, 1.0,\n",
              "       '[\"Microwave\", \"Smoke alarm\", \"Cooking basics\", \"Essentials\", \"Free street parking\", \"Dishes and silverware\", \"Fire extinguisher\", \"Dryer\", \"Heating\", \"Dedicated workspace\", \"Free parking on premises\", \"First aid kit\", \"Wifi\", \"Hot water\", \"Carbon monoxide alarm\", \"Kitchen\", \"Backyard\", \"Lock on bedroom door\", \"Dishwasher\", \"Shampoo\", \"Central air conditioning\", \"Host greets you\", \"Oven\", \"Free washer \\\\u2013 In unit\", \"Coffee maker\", \"Refrigerator\", \"TV with standard cable\", \"Stove\"]',\n",
              "       '$50.00', 1, 1125, 1.0, 1.0, 1125.0, 1125.0, 1.0, 1125.0, nan, 't',\n",
              "       10, 32, 32, 233, '2024-03-10', 248, 50, 6, '2013-09-10',\n",
              "       '2024-02-27', 4.75, 4.83, 4.57, 4.92, 4.92, 4.82, 4.81, nan, 'f',\n",
              "       1, 0, 1, 0, 1.94,\n",
              "       'https://data.insideairbnb.com/united-states/ny/albany/2024-03-10/data/listings.csv.gz'],\n",
              "      dtype=object)"
            ]
          },
          "execution_count": 101,
          "metadata": {},
          "output_type": "execute_result"
        }
      ],
      "source": [
        "listings.iloc[0].values"
      ]
    },
    {
      "cell_type": "code",
      "execution_count": 102,
      "metadata": {
        "colab": {
          "base_uri": "https://localhost:8080/",
          "height": 395
        },
        "id": "DfGa442vcgZU",
        "outputId": "7884a408-0356-40b8-940b-5179c7d4c4f3"
      },
      "outputs": [
        {
          "data": {
            "text/html": [
              "<div>\n",
              "<style scoped>\n",
              "    .dataframe tbody tr th:only-of-type {\n",
              "        vertical-align: middle;\n",
              "    }\n",
              "\n",
              "    .dataframe tbody tr th {\n",
              "        vertical-align: top;\n",
              "    }\n",
              "\n",
              "    .dataframe thead th {\n",
              "        text-align: right;\n",
              "    }\n",
              "</style>\n",
              "<table border=\"1\" class=\"dataframe\">\n",
              "  <thead>\n",
              "    <tr style=\"text-align: right;\">\n",
              "      <th></th>\n",
              "      <th>host_location</th>\n",
              "      <th>City</th>\n",
              "      <th>State</th>\n",
              "    </tr>\n",
              "  </thead>\n",
              "  <tbody>\n",
              "    <tr>\n",
              "      <th>0</th>\n",
              "      <td>Albany, NY</td>\n",
              "      <td>albany</td>\n",
              "      <td>ny</td>\n",
              "    </tr>\n",
              "    <tr>\n",
              "      <th>1</th>\n",
              "      <td>New York, NY</td>\n",
              "      <td>albany</td>\n",
              "      <td>ny</td>\n",
              "    </tr>\n",
              "    <tr>\n",
              "      <th>2</th>\n",
              "      <td>NaN</td>\n",
              "      <td>albany</td>\n",
              "      <td>ny</td>\n",
              "    </tr>\n",
              "    <tr>\n",
              "      <th>3</th>\n",
              "      <td>Albany, NY</td>\n",
              "      <td>albany</td>\n",
              "      <td>ny</td>\n",
              "    </tr>\n",
              "    <tr>\n",
              "      <th>4</th>\n",
              "      <td>NaN</td>\n",
              "      <td>albany</td>\n",
              "      <td>ny</td>\n",
              "    </tr>\n",
              "  </tbody>\n",
              "</table>\n",
              "</div>"
            ],
            "text/plain": [
              "  host_location    City State\n",
              "0    Albany, NY  albany    ny\n",
              "1  New York, NY  albany    ny\n",
              "2           NaN  albany    ny\n",
              "3    Albany, NY  albany    ny\n",
              "4           NaN  albany    ny"
            ]
          },
          "metadata": {},
          "output_type": "display_data"
        },
        {
          "data": {
            "text/html": [
              "<div>\n",
              "<style scoped>\n",
              "    .dataframe tbody tr th:only-of-type {\n",
              "        vertical-align: middle;\n",
              "    }\n",
              "\n",
              "    .dataframe tbody tr th {\n",
              "        vertical-align: top;\n",
              "    }\n",
              "\n",
              "    .dataframe thead th {\n",
              "        text-align: right;\n",
              "    }\n",
              "</style>\n",
              "<table border=\"1\" class=\"dataframe\">\n",
              "  <thead>\n",
              "    <tr style=\"text-align: right;\">\n",
              "      <th></th>\n",
              "      <th>host_location</th>\n",
              "      <th>City</th>\n",
              "      <th>State</th>\n",
              "    </tr>\n",
              "  </thead>\n",
              "  <tbody>\n",
              "    <tr>\n",
              "      <th>288460</th>\n",
              "      <td>New York, NY</td>\n",
              "      <td>washington-dc</td>\n",
              "      <td>dc</td>\n",
              "    </tr>\n",
              "    <tr>\n",
              "      <th>288461</th>\n",
              "      <td>NaN</td>\n",
              "      <td>washington-dc</td>\n",
              "      <td>dc</td>\n",
              "    </tr>\n",
              "    <tr>\n",
              "      <th>288462</th>\n",
              "      <td>NaN</td>\n",
              "      <td>washington-dc</td>\n",
              "      <td>dc</td>\n",
              "    </tr>\n",
              "    <tr>\n",
              "      <th>288463</th>\n",
              "      <td>NaN</td>\n",
              "      <td>washington-dc</td>\n",
              "      <td>dc</td>\n",
              "    </tr>\n",
              "    <tr>\n",
              "      <th>288464</th>\n",
              "      <td>Washington, DC</td>\n",
              "      <td>washington-dc</td>\n",
              "      <td>dc</td>\n",
              "    </tr>\n",
              "  </tbody>\n",
              "</table>\n",
              "</div>"
            ],
            "text/plain": [
              "         host_location           City State\n",
              "288460    New York, NY  washington-dc    dc\n",
              "288461             NaN  washington-dc    dc\n",
              "288462             NaN  washington-dc    dc\n",
              "288463             NaN  washington-dc    dc\n",
              "288464  Washington, DC  washington-dc    dc"
            ]
          },
          "metadata": {},
          "output_type": "display_data"
        }
      ],
      "source": [
        "listings[\"City\"] = listings[\"link\"].apply(lambda x: x.split('/')[5])\n",
        "listings[\"State\"] = listings[\"link\"].apply(lambda x: x.split('/')[4])\n",
        "display(listings[[\"host_location\", \"City\", \"State\"]].head())\n",
        "display(listings[[\"host_location\", \"City\", \"State\"]].tail())"
      ]
    },
    {
      "cell_type": "code",
      "execution_count": 103,
      "metadata": {
        "colab": {
          "base_uri": "https://localhost:8080/"
        },
        "id": "UCUa_FQgApuF",
        "outputId": "c75025a5-5768-4e55-928e-fbb7a3b1dea3"
      },
      "outputs": [
        {
          "data": {
            "text/plain": [
              "288464"
            ]
          },
          "execution_count": 103,
          "metadata": {},
          "output_type": "execute_result"
        }
      ],
      "source": [
        "listings[\"id\"].nunique()"
      ]
    },
    {
      "cell_type": "code",
      "execution_count": 104,
      "metadata": {
        "colab": {
          "base_uri": "https://localhost:8080/"
        },
        "id": "0BvBUP_dgy8T",
        "outputId": "ebdc51db-c7eb-402e-a803-ab1c00424aeb"
      },
      "outputs": [
        {
          "data": {
            "text/plain": [
              "id\n",
              "1398981                2\n",
              "1489424                1\n",
              "20435714               1\n",
              "780367558387044721     1\n",
              "21709727               1\n",
              "                      ..\n",
              "48508033               1\n",
              "48523071               1\n",
              "46585185               1\n",
              "9979535                1\n",
              "1047931080098470138    1\n",
              "Name: count, Length: 288464, dtype: int64"
            ]
          },
          "execution_count": 104,
          "metadata": {},
          "output_type": "execute_result"
        }
      ],
      "source": [
        "listings[\"id\"].value_counts()"
      ]
    },
    {
      "cell_type": "code",
      "execution_count": 105,
      "metadata": {
        "colab": {
          "base_uri": "https://localhost:8080/"
        },
        "id": "DEJ3Lw4phFFw",
        "outputId": "934f990f-fee0-4a33-d832-9642ff416eb2"
      },
      "outputs": [
        {
          "name": "stdout",
          "output_type": "stream",
          "text": [
            "(288465, 78)\n",
            "(288464, 78)\n"
          ]
        }
      ],
      "source": [
        "print(listings.shape)\n",
        "listings = listings.drop_duplicates(subset=\"id\").reset_index(drop=True)\n",
        "print(listings.shape)"
      ]
    },
    {
      "cell_type": "code",
      "execution_count": 106,
      "metadata": {
        "colab": {
          "base_uri": "https://localhost:8080/",
          "height": 1000
        },
        "id": "1jzZoF5biF80",
        "outputId": "1215dfb0-44e7-4daa-b19c-7fd21ca10526"
      },
      "outputs": [
        {
          "data": {
            "text/html": [
              "<div>\n",
              "<style scoped>\n",
              "    .dataframe tbody tr th:only-of-type {\n",
              "        vertical-align: middle;\n",
              "    }\n",
              "\n",
              "    .dataframe tbody tr th {\n",
              "        vertical-align: top;\n",
              "    }\n",
              "\n",
              "    .dataframe thead th {\n",
              "        text-align: right;\n",
              "    }\n",
              "</style>\n",
              "<table border=\"1\" class=\"dataframe\">\n",
              "  <thead>\n",
              "    <tr style=\"text-align: right;\">\n",
              "      <th></th>\n",
              "      <th>id</th>\n",
              "      <th>listing_url</th>\n",
              "      <th>scrape_id</th>\n",
              "      <th>last_scraped</th>\n",
              "      <th>source</th>\n",
              "      <th>name</th>\n",
              "      <th>description</th>\n",
              "      <th>neighborhood_overview</th>\n",
              "      <th>picture_url</th>\n",
              "      <th>host_id</th>\n",
              "      <th>...</th>\n",
              "      <th>license</th>\n",
              "      <th>instant_bookable</th>\n",
              "      <th>calculated_host_listings_count</th>\n",
              "      <th>calculated_host_listings_count_entire_homes</th>\n",
              "      <th>calculated_host_listings_count_private_rooms</th>\n",
              "      <th>calculated_host_listings_count_shared_rooms</th>\n",
              "      <th>reviews_per_month</th>\n",
              "      <th>link</th>\n",
              "      <th>City</th>\n",
              "      <th>State</th>\n",
              "    </tr>\n",
              "  </thead>\n",
              "  <tbody>\n",
              "    <tr>\n",
              "      <th>0</th>\n",
              "      <td>1489424</td>\n",
              "      <td>https://www.airbnb.com/rooms/1489424</td>\n",
              "      <td>20240310234900</td>\n",
              "      <td>2024-03-10</td>\n",
              "      <td>city scrape</td>\n",
              "      <td>Welcoming, easygoing, comfy bed, entire level</td>\n",
              "      <td>Queen size bed, extra comfy mattress, with acc...</td>\n",
              "      <td>Quiet yet convenient.</td>\n",
              "      <td>https://a0.muscache.com/pictures/21977748/1dc8...</td>\n",
              "      <td>5294164</td>\n",
              "      <td>...</td>\n",
              "      <td>NaN</td>\n",
              "      <td>f</td>\n",
              "      <td>1</td>\n",
              "      <td>0</td>\n",
              "      <td>1</td>\n",
              "      <td>0</td>\n",
              "      <td>1.94</td>\n",
              "      <td>https://data.insideairbnb.com/united-states/ny...</td>\n",
              "      <td>albany</td>\n",
              "      <td>ny</td>\n",
              "    </tr>\n",
              "    <tr>\n",
              "      <th>1</th>\n",
              "      <td>2992450</td>\n",
              "      <td>https://www.airbnb.com/rooms/2992450</td>\n",
              "      <td>20240310234900</td>\n",
              "      <td>2024-03-11</td>\n",
              "      <td>city scrape</td>\n",
              "      <td>Luxury 2 bedroom apartment</td>\n",
              "      <td>The apartment is located in a quiet neighborho...</td>\n",
              "      <td>NaN</td>\n",
              "      <td>https://a0.muscache.com/pictures/44627226/0e72...</td>\n",
              "      <td>4621559</td>\n",
              "      <td>...</td>\n",
              "      <td>NaN</td>\n",
              "      <td>f</td>\n",
              "      <td>1</td>\n",
              "      <td>1</td>\n",
              "      <td>0</td>\n",
              "      <td>0</td>\n",
              "      <td>0.08</td>\n",
              "      <td>https://data.insideairbnb.com/united-states/ny...</td>\n",
              "      <td>albany</td>\n",
              "      <td>ny</td>\n",
              "    </tr>\n",
              "    <tr>\n",
              "      <th>2</th>\n",
              "      <td>3820211</td>\n",
              "      <td>https://www.airbnb.com/rooms/3820211</td>\n",
              "      <td>20240310234900</td>\n",
              "      <td>2024-03-11</td>\n",
              "      <td>city scrape</td>\n",
              "      <td>Restored Precinct in Center Sq. w/Parking</td>\n",
              "      <td>Cozy, cool little 1BR Apt in the heart Albany'...</td>\n",
              "      <td>Great restaurants, architecture, walking, peop...</td>\n",
              "      <td>https://a0.muscache.com/pictures/prohost-api/H...</td>\n",
              "      <td>19648678</td>\n",
              "      <td>...</td>\n",
              "      <td>NaN</td>\n",
              "      <td>f</td>\n",
              "      <td>4</td>\n",
              "      <td>4</td>\n",
              "      <td>0</td>\n",
              "      <td>0</td>\n",
              "      <td>2.51</td>\n",
              "      <td>https://data.insideairbnb.com/united-states/ny...</td>\n",
              "      <td>albany</td>\n",
              "      <td>ny</td>\n",
              "    </tr>\n",
              "    <tr>\n",
              "      <th>3</th>\n",
              "      <td>5651579</td>\n",
              "      <td>https://www.airbnb.com/rooms/5651579</td>\n",
              "      <td>20240310234900</td>\n",
              "      <td>2024-03-11</td>\n",
              "      <td>city scrape</td>\n",
              "      <td>Large studio apt  by Capital Center &amp; ESP@</td>\n",
              "      <td>Spacious studio with hardwood floors, fully eq...</td>\n",
              "      <td>The neighborhood is very eclectic. We have a v...</td>\n",
              "      <td>https://a0.muscache.com/pictures/b3fc42f3-6e5e...</td>\n",
              "      <td>29288920</td>\n",
              "      <td>...</td>\n",
              "      <td>NaN</td>\n",
              "      <td>f</td>\n",
              "      <td>2</td>\n",
              "      <td>1</td>\n",
              "      <td>1</td>\n",
              "      <td>0</td>\n",
              "      <td>3.13</td>\n",
              "      <td>https://data.insideairbnb.com/united-states/ny...</td>\n",
              "      <td>albany</td>\n",
              "      <td>ny</td>\n",
              "    </tr>\n",
              "    <tr>\n",
              "      <th>4</th>\n",
              "      <td>6623339</td>\n",
              "      <td>https://www.airbnb.com/rooms/6623339</td>\n",
              "      <td>20240310234900</td>\n",
              "      <td>2024-03-11</td>\n",
              "      <td>city scrape</td>\n",
              "      <td>Center Sq. Loft in Converted Precinct w/ Parking</td>\n",
              "      <td>Large renovated 1 bedroom apartment in convert...</td>\n",
              "      <td>Located in Albany's finest urban neighborhood,...</td>\n",
              "      <td>https://a0.muscache.com/pictures/prohost-api/H...</td>\n",
              "      <td>19648678</td>\n",
              "      <td>...</td>\n",
              "      <td>NaN</td>\n",
              "      <td>f</td>\n",
              "      <td>4</td>\n",
              "      <td>4</td>\n",
              "      <td>0</td>\n",
              "      <td>0</td>\n",
              "      <td>2.87</td>\n",
              "      <td>https://data.insideairbnb.com/united-states/ny...</td>\n",
              "      <td>albany</td>\n",
              "      <td>ny</td>\n",
              "    </tr>\n",
              "    <tr>\n",
              "      <th>...</th>\n",
              "      <td>...</td>\n",
              "      <td>...</td>\n",
              "      <td>...</td>\n",
              "      <td>...</td>\n",
              "      <td>...</td>\n",
              "      <td>...</td>\n",
              "      <td>...</td>\n",
              "      <td>...</td>\n",
              "      <td>...</td>\n",
              "      <td>...</td>\n",
              "      <td>...</td>\n",
              "      <td>...</td>\n",
              "      <td>...</td>\n",
              "      <td>...</td>\n",
              "      <td>...</td>\n",
              "      <td>...</td>\n",
              "      <td>...</td>\n",
              "      <td>...</td>\n",
              "      <td>...</td>\n",
              "      <td>...</td>\n",
              "      <td>...</td>\n",
              "    </tr>\n",
              "    <tr>\n",
              "      <th>288459</th>\n",
              "      <td>1047064894296117631</td>\n",
              "      <td>https://www.airbnb.com/rooms/1047064894296117631</td>\n",
              "      <td>20231218032619</td>\n",
              "      <td>2023-12-18</td>\n",
              "      <td>city scrape</td>\n",
              "      <td>Rental unit in Washington · ★New · 1 bedroom ·...</td>\n",
              "      <td>NaN</td>\n",
              "      <td>This furnished rental is situated in Shaw, a h...</td>\n",
              "      <td>https://a0.muscache.com/pictures/prohost-api/H...</td>\n",
              "      <td>107434423</td>\n",
              "      <td>...</td>\n",
              "      <td>NaN</td>\n",
              "      <td>f</td>\n",
              "      <td>234</td>\n",
              "      <td>234</td>\n",
              "      <td>0</td>\n",
              "      <td>0</td>\n",
              "      <td>NaN</td>\n",
              "      <td>https://data.insideairbnb.com/united-states/dc...</td>\n",
              "      <td>washington-dc</td>\n",
              "      <td>dc</td>\n",
              "    </tr>\n",
              "    <tr>\n",
              "      <th>288460</th>\n",
              "      <td>1047730533367174366</td>\n",
              "      <td>https://www.airbnb.com/rooms/1047730533367174366</td>\n",
              "      <td>20231218032619</td>\n",
              "      <td>2023-12-18</td>\n",
              "      <td>city scrape</td>\n",
              "      <td>Home in Washington · ★New · 1 bedroom · 1 bed ...</td>\n",
              "      <td>NaN</td>\n",
              "      <td>Petworth</td>\n",
              "      <td>https://a0.muscache.com/pictures/e9e7aaa1-ca9f...</td>\n",
              "      <td>437660791</td>\n",
              "      <td>...</td>\n",
              "      <td>Exempt</td>\n",
              "      <td>t</td>\n",
              "      <td>28</td>\n",
              "      <td>6</td>\n",
              "      <td>22</td>\n",
              "      <td>0</td>\n",
              "      <td>NaN</td>\n",
              "      <td>https://data.insideairbnb.com/united-states/dc...</td>\n",
              "      <td>washington-dc</td>\n",
              "      <td>dc</td>\n",
              "    </tr>\n",
              "    <tr>\n",
              "      <th>288461</th>\n",
              "      <td>1047772826607759074</td>\n",
              "      <td>https://www.airbnb.com/rooms/1047772826607759074</td>\n",
              "      <td>20231218032619</td>\n",
              "      <td>2023-12-18</td>\n",
              "      <td>city scrape</td>\n",
              "      <td>Rental unit in Washington · ★New · 1 bedroom ·...</td>\n",
              "      <td>NaN</td>\n",
              "      <td>NaN</td>\n",
              "      <td>https://a0.muscache.com/pictures/miso/Hosting-...</td>\n",
              "      <td>437660791</td>\n",
              "      <td>...</td>\n",
              "      <td>Exempt</td>\n",
              "      <td>t</td>\n",
              "      <td>28</td>\n",
              "      <td>6</td>\n",
              "      <td>22</td>\n",
              "      <td>0</td>\n",
              "      <td>NaN</td>\n",
              "      <td>https://data.insideairbnb.com/united-states/dc...</td>\n",
              "      <td>washington-dc</td>\n",
              "      <td>dc</td>\n",
              "    </tr>\n",
              "    <tr>\n",
              "      <th>288462</th>\n",
              "      <td>1047777612294831826</td>\n",
              "      <td>https://www.airbnb.com/rooms/1047777612294831826</td>\n",
              "      <td>20231218032619</td>\n",
              "      <td>2023-12-18</td>\n",
              "      <td>city scrape</td>\n",
              "      <td>Rental unit in Washington · ★New · 1 bedroom ·...</td>\n",
              "      <td>NaN</td>\n",
              "      <td>NaN</td>\n",
              "      <td>https://a0.muscache.com/pictures/3a57db34-796d...</td>\n",
              "      <td>437660791</td>\n",
              "      <td>...</td>\n",
              "      <td>Exempt</td>\n",
              "      <td>t</td>\n",
              "      <td>28</td>\n",
              "      <td>6</td>\n",
              "      <td>22</td>\n",
              "      <td>0</td>\n",
              "      <td>NaN</td>\n",
              "      <td>https://data.insideairbnb.com/united-states/dc...</td>\n",
              "      <td>washington-dc</td>\n",
              "      <td>dc</td>\n",
              "    </tr>\n",
              "    <tr>\n",
              "      <th>288463</th>\n",
              "      <td>1047931080098470138</td>\n",
              "      <td>https://www.airbnb.com/rooms/1047931080098470138</td>\n",
              "      <td>20231218032619</td>\n",
              "      <td>2023-12-18</td>\n",
              "      <td>city scrape</td>\n",
              "      <td>Bed and breakfast in Washington · ★New · 2 bed...</td>\n",
              "      <td>NaN</td>\n",
              "      <td>NaN</td>\n",
              "      <td>https://a0.muscache.com/pictures/hosting/Hosti...</td>\n",
              "      <td>350603487</td>\n",
              "      <td>...</td>\n",
              "      <td>Exempt</td>\n",
              "      <td>t</td>\n",
              "      <td>3</td>\n",
              "      <td>0</td>\n",
              "      <td>3</td>\n",
              "      <td>0</td>\n",
              "      <td>NaN</td>\n",
              "      <td>https://data.insideairbnb.com/united-states/dc...</td>\n",
              "      <td>washington-dc</td>\n",
              "      <td>dc</td>\n",
              "    </tr>\n",
              "  </tbody>\n",
              "</table>\n",
              "<p>288464 rows × 78 columns</p>\n",
              "</div>"
            ],
            "text/plain": [
              "                         id                                       listing_url  \\\n",
              "0                   1489424              https://www.airbnb.com/rooms/1489424   \n",
              "1                   2992450              https://www.airbnb.com/rooms/2992450   \n",
              "2                   3820211              https://www.airbnb.com/rooms/3820211   \n",
              "3                   5651579              https://www.airbnb.com/rooms/5651579   \n",
              "4                   6623339              https://www.airbnb.com/rooms/6623339   \n",
              "...                     ...                                               ...   \n",
              "288459  1047064894296117631  https://www.airbnb.com/rooms/1047064894296117631   \n",
              "288460  1047730533367174366  https://www.airbnb.com/rooms/1047730533367174366   \n",
              "288461  1047772826607759074  https://www.airbnb.com/rooms/1047772826607759074   \n",
              "288462  1047777612294831826  https://www.airbnb.com/rooms/1047777612294831826   \n",
              "288463  1047931080098470138  https://www.airbnb.com/rooms/1047931080098470138   \n",
              "\n",
              "             scrape_id last_scraped       source  \\\n",
              "0       20240310234900   2024-03-10  city scrape   \n",
              "1       20240310234900   2024-03-11  city scrape   \n",
              "2       20240310234900   2024-03-11  city scrape   \n",
              "3       20240310234900   2024-03-11  city scrape   \n",
              "4       20240310234900   2024-03-11  city scrape   \n",
              "...                ...          ...          ...   \n",
              "288459  20231218032619   2023-12-18  city scrape   \n",
              "288460  20231218032619   2023-12-18  city scrape   \n",
              "288461  20231218032619   2023-12-18  city scrape   \n",
              "288462  20231218032619   2023-12-18  city scrape   \n",
              "288463  20231218032619   2023-12-18  city scrape   \n",
              "\n",
              "                                                     name  \\\n",
              "0           Welcoming, easygoing, comfy bed, entire level   \n",
              "1                              Luxury 2 bedroom apartment   \n",
              "2               Restored Precinct in Center Sq. w/Parking   \n",
              "3              Large studio apt  by Capital Center & ESP@   \n",
              "4        Center Sq. Loft in Converted Precinct w/ Parking   \n",
              "...                                                   ...   \n",
              "288459  Rental unit in Washington · ★New · 1 bedroom ·...   \n",
              "288460  Home in Washington · ★New · 1 bedroom · 1 bed ...   \n",
              "288461  Rental unit in Washington · ★New · 1 bedroom ·...   \n",
              "288462  Rental unit in Washington · ★New · 1 bedroom ·...   \n",
              "288463  Bed and breakfast in Washington · ★New · 2 bed...   \n",
              "\n",
              "                                              description  \\\n",
              "0       Queen size bed, extra comfy mattress, with acc...   \n",
              "1       The apartment is located in a quiet neighborho...   \n",
              "2       Cozy, cool little 1BR Apt in the heart Albany'...   \n",
              "3       Spacious studio with hardwood floors, fully eq...   \n",
              "4       Large renovated 1 bedroom apartment in convert...   \n",
              "...                                                   ...   \n",
              "288459                                                NaN   \n",
              "288460                                                NaN   \n",
              "288461                                                NaN   \n",
              "288462                                                NaN   \n",
              "288463                                                NaN   \n",
              "\n",
              "                                    neighborhood_overview  \\\n",
              "0                                   Quiet yet convenient.   \n",
              "1                                                     NaN   \n",
              "2       Great restaurants, architecture, walking, peop...   \n",
              "3       The neighborhood is very eclectic. We have a v...   \n",
              "4       Located in Albany's finest urban neighborhood,...   \n",
              "...                                                   ...   \n",
              "288459  This furnished rental is situated in Shaw, a h...   \n",
              "288460                                           Petworth   \n",
              "288461                                                NaN   \n",
              "288462                                                NaN   \n",
              "288463                                                NaN   \n",
              "\n",
              "                                              picture_url    host_id  ...  \\\n",
              "0       https://a0.muscache.com/pictures/21977748/1dc8...    5294164  ...   \n",
              "1       https://a0.muscache.com/pictures/44627226/0e72...    4621559  ...   \n",
              "2       https://a0.muscache.com/pictures/prohost-api/H...   19648678  ...   \n",
              "3       https://a0.muscache.com/pictures/b3fc42f3-6e5e...   29288920  ...   \n",
              "4       https://a0.muscache.com/pictures/prohost-api/H...   19648678  ...   \n",
              "...                                                   ...        ...  ...   \n",
              "288459  https://a0.muscache.com/pictures/prohost-api/H...  107434423  ...   \n",
              "288460  https://a0.muscache.com/pictures/e9e7aaa1-ca9f...  437660791  ...   \n",
              "288461  https://a0.muscache.com/pictures/miso/Hosting-...  437660791  ...   \n",
              "288462  https://a0.muscache.com/pictures/3a57db34-796d...  437660791  ...   \n",
              "288463  https://a0.muscache.com/pictures/hosting/Hosti...  350603487  ...   \n",
              "\n",
              "       license instant_bookable calculated_host_listings_count  \\\n",
              "0          NaN                f                              1   \n",
              "1          NaN                f                              1   \n",
              "2          NaN                f                              4   \n",
              "3          NaN                f                              2   \n",
              "4          NaN                f                              4   \n",
              "...        ...              ...                            ...   \n",
              "288459     NaN                f                            234   \n",
              "288460  Exempt                t                             28   \n",
              "288461  Exempt                t                             28   \n",
              "288462  Exempt                t                             28   \n",
              "288463  Exempt                t                              3   \n",
              "\n",
              "       calculated_host_listings_count_entire_homes  \\\n",
              "0                                                0   \n",
              "1                                                1   \n",
              "2                                                4   \n",
              "3                                                1   \n",
              "4                                                4   \n",
              "...                                            ...   \n",
              "288459                                         234   \n",
              "288460                                           6   \n",
              "288461                                           6   \n",
              "288462                                           6   \n",
              "288463                                           0   \n",
              "\n",
              "       calculated_host_listings_count_private_rooms  \\\n",
              "0                                                 1   \n",
              "1                                                 0   \n",
              "2                                                 0   \n",
              "3                                                 1   \n",
              "4                                                 0   \n",
              "...                                             ...   \n",
              "288459                                            0   \n",
              "288460                                           22   \n",
              "288461                                           22   \n",
              "288462                                           22   \n",
              "288463                                            3   \n",
              "\n",
              "       calculated_host_listings_count_shared_rooms reviews_per_month  \\\n",
              "0                                                0              1.94   \n",
              "1                                                0              0.08   \n",
              "2                                                0              2.51   \n",
              "3                                                0              3.13   \n",
              "4                                                0              2.87   \n",
              "...                                            ...               ...   \n",
              "288459                                           0               NaN   \n",
              "288460                                           0               NaN   \n",
              "288461                                           0               NaN   \n",
              "288462                                           0               NaN   \n",
              "288463                                           0               NaN   \n",
              "\n",
              "                                                     link           City State  \n",
              "0       https://data.insideairbnb.com/united-states/ny...         albany    ny  \n",
              "1       https://data.insideairbnb.com/united-states/ny...         albany    ny  \n",
              "2       https://data.insideairbnb.com/united-states/ny...         albany    ny  \n",
              "3       https://data.insideairbnb.com/united-states/ny...         albany    ny  \n",
              "4       https://data.insideairbnb.com/united-states/ny...         albany    ny  \n",
              "...                                                   ...            ...   ...  \n",
              "288459  https://data.insideairbnb.com/united-states/dc...  washington-dc    dc  \n",
              "288460  https://data.insideairbnb.com/united-states/dc...  washington-dc    dc  \n",
              "288461  https://data.insideairbnb.com/united-states/dc...  washington-dc    dc  \n",
              "288462  https://data.insideairbnb.com/united-states/dc...  washington-dc    dc  \n",
              "288463  https://data.insideairbnb.com/united-states/dc...  washington-dc    dc  \n",
              "\n",
              "[288464 rows x 78 columns]"
            ]
          },
          "execution_count": 106,
          "metadata": {},
          "output_type": "execute_result"
        }
      ],
      "source": [
        "listings"
      ]
    },
    {
      "cell_type": "code",
      "execution_count": 107,
      "metadata": {
        "id": "n8O6vOiNBkgq"
      },
      "outputs": [],
      "source": [
        "#listings[\"host_id\"].nunique()"
      ]
    },
    {
      "cell_type": "code",
      "execution_count": 108,
      "metadata": {
        "id": "LGoKrSizBqlM"
      },
      "outputs": [],
      "source": [
        "#listings[\"host_id\"].value_counts()"
      ]
    },
    {
      "cell_type": "code",
      "execution_count": 109,
      "metadata": {
        "id": "i0p-fUZwHe0p"
      },
      "outputs": [],
      "source": [
        "#listings[\"property_type\"].value_counts()"
      ]
    },
    {
      "cell_type": "code",
      "execution_count": 110,
      "metadata": {
        "id": "vKCu4wf8H-Pw"
      },
      "outputs": [],
      "source": [
        "#listings[\"room_type\"].value_counts()"
      ]
    },
    {
      "cell_type": "code",
      "execution_count": 111,
      "metadata": {
        "id": "xx3tkNfRNmTc"
      },
      "outputs": [],
      "source": [
        "#listings[\"instant_bookable\"].value_counts()"
      ]
    },
    {
      "cell_type": "code",
      "execution_count": 112,
      "metadata": {
        "colab": {
          "base_uri": "https://localhost:8080/",
          "height": 123
        },
        "id": "ovS4qskaB6xp",
        "outputId": "89208d8c-c9de-4fe8-9384-293f6a9d9dab"
      },
      "outputs": [
        {
          "data": {
            "text/plain": [
              "\"starter_columns = ['id', 'host_id', 'host_since', 'host_location','host_response_time', 'host_response_rate', 'host_acceptance_rate',\\n                  'host_is_superhost', 'host_neighbourhood', 'host_listings_count', 'host_total_listings_count', 'host_verifications',\\n                  'host_has_profile_pic', 'host_identity_verified', 'neighbourhood', 'neighbourhood_cleansed', 'neighbourhood_group_cleansed',\\n                  'latitude', 'longitude', 'room_type', 'accommodates', 'bathrooms_text', 'bedrooms', 'beds', 'amenities', 'price',\\n                  'number_of_reviews', 'number_of_reviews_ltm', 'number_of_reviews_l30d', 'review_scores_rating', 'review_scores_accuracy',\\n                  'review_scores_cleanliness', 'review_scores_checkin', 'review_scores_communication', 'review_scores_location',\\n                  'review_scores_value', 'instant_bookable', 'calculated_host_listings_count', 'calculated_host_listings_count_entire_homes',\\n                  'calculated_host_listings_count_private_rooms', 'calculated_host_listings_count_shared_rooms', 'reviews_per_month',\\n                  'City', 'State']\\n\\nlen(starter_columns)\""
            ]
          },
          "execution_count": 112,
          "metadata": {},
          "output_type": "execute_result"
        }
      ],
      "source": [
        "\"\"\"starter_columns = ['id', 'host_id', 'host_since', 'host_location','host_response_time', 'host_response_rate', 'host_acceptance_rate',\n",
        "                  'host_is_superhost', 'host_neighbourhood', 'host_listings_count', 'host_total_listings_count', 'host_verifications',\n",
        "                  'host_has_profile_pic', 'host_identity_verified', 'neighbourhood', 'neighbourhood_cleansed', 'neighbourhood_group_cleansed',\n",
        "                  'latitude', 'longitude', 'room_type', 'accommodates', 'bathrooms_text', 'bedrooms', 'beds', 'amenities', 'price',\n",
        "                  'number_of_reviews', 'number_of_reviews_ltm', 'number_of_reviews_l30d', 'review_scores_rating', 'review_scores_accuracy',\n",
        "                  'review_scores_cleanliness', 'review_scores_checkin', 'review_scores_communication', 'review_scores_location',\n",
        "                  'review_scores_value', 'instant_bookable', 'calculated_host_listings_count', 'calculated_host_listings_count_entire_homes',\n",
        "                  'calculated_host_listings_count_private_rooms', 'calculated_host_listings_count_shared_rooms', 'reviews_per_month',\n",
        "                  'City', 'State']\n",
        "\n",
        "len(starter_columns)\"\"\""
      ]
    },
    {
      "cell_type": "code",
      "execution_count": 113,
      "metadata": {
        "id": "ut9J3M-VCA47"
      },
      "outputs": [],
      "source": [
        "#trimmed_listings = listings[starter_columns]\n",
        "#trimmed_listings.info()"
      ]
    },
    {
      "cell_type": "code",
      "execution_count": 114,
      "metadata": {
        "id": "cp216J46O04I"
      },
      "outputs": [],
      "source": [
        "#listings[\"bedrooms\"].value_counts()"
      ]
    },
    {
      "cell_type": "code",
      "execution_count": 115,
      "metadata": {
        "id": "R-Qc7p4LPZjM"
      },
      "outputs": [],
      "source": [
        "#listings.iloc[0].values"
      ]
    },
    {
      "cell_type": "code",
      "execution_count": 116,
      "metadata": {
        "id": "2z5sQ2rUPgqx"
      },
      "outputs": [],
      "source": [
        "#listings.columns"
      ]
    },
    {
      "cell_type": "code",
      "execution_count": 117,
      "metadata": {
        "id": "rlxvaapcPn0v"
      },
      "outputs": [],
      "source": [
        "#starter_listings = trimmed_listings.query(\"calculated_host_listings_count == 1\").reset_index(drop = True)\n",
        "#starter_listings.info()"
      ]
    },
    {
      "cell_type": "code",
      "execution_count": 118,
      "metadata": {
        "id": "7dDHZPPoui_1"
      },
      "outputs": [],
      "source": [
        "#starter_listings.query(\"number_of_reviews == 0\")"
      ]
    },
    {
      "cell_type": "markdown",
      "metadata": {
        "id": "Vm-t-CEkFJEU"
      },
      "source": [
        "# Questions to answer"
      ]
    },
    {
      "cell_type": "code",
      "execution_count": 119,
      "metadata": {
        "id": "dYL6aNZy1cob"
      },
      "outputs": [],
      "source": [
        "# Compare cancellation policy in terms of price, rating, and number of listings.\n",
        "# A metric of plots that compare super host and regular host in terms of price, review score, availability(percentage of booked dates in a year)\n",
        "# How does managing multiple listings affect the review scores, occupancy\n",
        "# How have prices changed over the past year in relation to the number of reviews a listing has received in the last 12 months?\n",
        "# Is there a relationship between the length of the name for a listing and its occupancy\n",
        "# Does host_response_rate, host_response_time, and host_acceptance_rate have an impact on the price and ratings?\n",
        "# How can host verification affect other variables?"
      ]
    },
    {
      "cell_type": "markdown",
      "metadata": {
        "id": "6Kdhuj5A768L"
      },
      "source": [
        "# Creat a starter dataset"
      ]
    },
    {
      "cell_type": "code",
      "execution_count": 120,
      "metadata": {
        "colab": {
          "base_uri": "https://localhost:8080/"
        },
        "id": "wwpFd5aH1tYf",
        "outputId": "ea663947-cd0f-4fb0-dd2b-63edbcfa460f"
      },
      "outputs": [
        {
          "data": {
            "text/plain": [
              "32"
            ]
          },
          "execution_count": 120,
          "metadata": {},
          "output_type": "execute_result"
        }
      ],
      "source": [
        "starter_columns = ['id', 'host_id','host_response_time', 'host_response_rate', 'host_acceptance_rate', 'host_is_superhost', 'host_identity_verified', 'neighbourhood_cleansed',\n",
        "                  'latitude', 'longitude', 'room_type', 'accommodates', 'bathrooms_text', 'bedrooms', 'beds', 'amenities', 'price', 'number_of_reviews', 'number_of_reviews_ltm',\n",
        "                  'number_of_reviews_l30d', 'review_scores_rating', 'review_scores_accuracy', 'review_scores_cleanliness', 'review_scores_checkin', 'review_scores_communication',\n",
        "                  'review_scores_location', 'review_scores_value', 'instant_bookable', 'calculated_host_listings_count', 'reviews_per_month', 'City', 'State']\n",
        "\n",
        "len(starter_columns)"
      ]
    },
    {
      "cell_type": "code",
      "execution_count": 121,
      "metadata": {
        "colab": {
          "base_uri": "https://localhost:8080/"
        },
        "id": "rc9VfyF41vGx",
        "outputId": "4a8f020a-246d-44ea-b473-694b406d1d27"
      },
      "outputs": [
        {
          "data": {
            "text/plain": [
              "(288464, 32)"
            ]
          },
          "execution_count": 121,
          "metadata": {},
          "output_type": "execute_result"
        }
      ],
      "source": [
        "trimmed_listings = listings[starter_columns]\n",
        "trimmed_listings.shape"
      ]
    },
    {
      "cell_type": "code",
      "execution_count": 122,
      "metadata": {},
      "outputs": [
        {
          "name": "stdout",
          "output_type": "stream",
          "text": [
            "id                                 0.000000\n",
            "host_id                            0.000000\n",
            "host_response_time                18.951412\n",
            "host_response_rate                18.951412\n",
            "host_acceptance_rate              14.244065\n",
            "host_is_superhost                  0.421890\n",
            "host_identity_verified             0.011787\n",
            "neighbourhood_cleansed             0.321704\n",
            "latitude                           0.000000\n",
            "longitude                          0.000000\n",
            "room_type                          0.000000\n",
            "accommodates                       0.000000\n",
            "bathrooms_text                     0.125839\n",
            "bedrooms                          69.428421\n",
            "beds                               7.847426\n",
            "amenities                          0.000000\n",
            "price                             10.222073\n",
            "number_of_reviews                  0.000000\n",
            "number_of_reviews_ltm              0.000000\n",
            "number_of_reviews_l30d             0.000000\n",
            "review_scores_rating              22.880151\n",
            "review_scores_accuracy            22.912044\n",
            "review_scores_cleanliness         22.908231\n",
            "review_scores_checkin             22.920364\n",
            "review_scores_communication       22.909618\n",
            "review_scores_location            22.921751\n",
            "review_scores_value               22.923138\n",
            "instant_bookable                   0.000000\n",
            "calculated_host_listings_count     0.000000\n",
            "reviews_per_month                 22.924524\n",
            "City                               0.000000\n",
            "State                              0.000000\n",
            "dtype: float64\n",
            "The number of features removed: 9\n"
          ]
        }
      ],
      "source": [
        "#Calculate percent of missing values in each column\n",
        "count_missing_value = trimmed_listings.isna().sum()\n",
        "total_rows = len(trimmed_listings)\n",
        "percent_missing = (count_missing_value / total_rows) * 100\n",
        "print(percent_missing)\n",
        "#Remove column with more than 20% missing values\n",
        "keep_col = percent_missing[percent_missing < 20].index\n",
        "listing_filter = trimmed_listings[keep_col]\n",
        "col_removed = len(trimmed_listings.columns) - len(listing_filter.columns)\n",
        "print(f\"The number of features removed: {col_removed}\")\n",
        "trimmed_listings = listing_filter\n",
        "trimmed_listings['review_scores_rating'] = listings['review_scores_rating']\n",
        "trimmed_listings['reviews_per_month'] = listings['reviews_per_month']"
      ]
    },
    {
      "cell_type": "code",
      "execution_count": 123,
      "metadata": {
        "colab": {
          "base_uri": "https://localhost:8080/"
        },
        "id": "R2WM-CY47V3u",
        "outputId": "4086520a-790d-4389-f138-c0a689f244ac"
      },
      "outputs": [
        {
          "data": {
            "text/plain": [
              "Index(['id', 'listing_url', 'scrape_id', 'last_scraped', 'source', 'name',\n",
              "       'description', 'neighborhood_overview', 'picture_url', 'host_id',\n",
              "       'host_url', 'host_name', 'host_since', 'host_location', 'host_about',\n",
              "       'host_response_time', 'host_response_rate', 'host_acceptance_rate',\n",
              "       'host_is_superhost', 'host_thumbnail_url', 'host_picture_url',\n",
              "       'host_neighbourhood', 'host_listings_count',\n",
              "       'host_total_listings_count', 'host_verifications',\n",
              "       'host_has_profile_pic', 'host_identity_verified', 'neighbourhood',\n",
              "       'neighbourhood_cleansed', 'neighbourhood_group_cleansed', 'latitude',\n",
              "       'longitude', 'property_type', 'room_type', 'accommodates', 'bathrooms',\n",
              "       'bathrooms_text', 'bedrooms', 'beds', 'amenities', 'price',\n",
              "       'minimum_nights', 'maximum_nights', 'minimum_minimum_nights',\n",
              "       'maximum_minimum_nights', 'minimum_maximum_nights',\n",
              "       'maximum_maximum_nights', 'minimum_nights_avg_ntm',\n",
              "       'maximum_nights_avg_ntm', 'calendar_updated', 'has_availability',\n",
              "       'availability_30', 'availability_60', 'availability_90',\n",
              "       'availability_365', 'calendar_last_scraped', 'number_of_reviews',\n",
              "       'number_of_reviews_ltm', 'number_of_reviews_l30d', 'first_review',\n",
              "       'last_review', 'review_scores_rating', 'review_scores_accuracy',\n",
              "       'review_scores_cleanliness', 'review_scores_checkin',\n",
              "       'review_scores_communication', 'review_scores_location',\n",
              "       'review_scores_value', 'license', 'instant_bookable',\n",
              "       'calculated_host_listings_count',\n",
              "       'calculated_host_listings_count_entire_homes',\n",
              "       'calculated_host_listings_count_private_rooms',\n",
              "       'calculated_host_listings_count_shared_rooms', 'reviews_per_month',\n",
              "       'link', 'City', 'State'],\n",
              "      dtype='object')"
            ]
          },
          "execution_count": 123,
          "metadata": {},
          "output_type": "execute_result"
        }
      ],
      "source": [
        "listings.columns"
      ]
    },
    {
      "cell_type": "code",
      "execution_count": 124,
      "metadata": {
        "colab": {
          "base_uri": "https://localhost:8080/"
        },
        "id": "cjZhPYic6fAr",
        "outputId": "8f8aacd1-51b4-437c-cd9e-9382c4182d2d"
      },
      "outputs": [
        {
          "data": {
            "text/plain": [
              "array([48172884, 'https://www.airbnb.com/rooms/48172884', 20240310234900,\n",
              "       '2024-03-11', 'city scrape', 'The Down Under Suite',\n",
              "       'This home is a gorgeous 100 year old Victorian<br />This suite is located on the 2nd floor. All the comforts of home! A very clean and quiet setting makes for a comfortable stay here at the Inn. Perfect for the business traveler or Traveling nurses that have contracts with one of the local hospitals located minutes away.',\n",
              "       nan,\n",
              "       'https://a0.muscache.com/pictures/ff01b559-730a-4974-8502-8f5391aa1fe0.jpg',\n",
              "       98744672, 'https://www.airbnb.com/users/show/98744672', 'Bela',\n",
              "       '2016-10-08', 'Albany, NY',\n",
              "       'My name is Bela Schuch, I am manager of The Inn at South Lake  here in Albany , we hope you enjoy your stay with us at the Inn Thank you !',\n",
              "       'within an hour', '100%', '96%', 't',\n",
              "       'https://a0.muscache.com/im/pictures/user/eccd4f9b-870c-4c2b-ae97-3fb7f5feb710.jpg?aki_policy=profile_small',\n",
              "       'https://a0.muscache.com/im/pictures/user/eccd4f9b-870c-4c2b-ae97-3fb7f5feb710.jpg?aki_policy=profile_x_medium',\n",
              "       'Pine Hills', 8.0, 14.0, \"['email', 'phone', 'work_email']\", 't',\n",
              "       't', nan, 'NINTH WARD', nan, 42.65399, -73.78126,\n",
              "       'Private room in home', 'Private room', 1, 1.0, '1 shared bath',\n",
              "       1.0, 1.0,\n",
              "       '[\"Wine glasses\", \"Iron\", \"Smoke alarm\", \"Cooking basics\", \"Essentials\", \"Free street parking\", \"Dishes and silverware\", \"Hair dryer\", \"Keypad\", \"Heating\", \"Self check-in\", \"Dedicated workspace\", \"Free parking on premises\", \"First aid kit\", \"Wifi\", \"Washer\", \"Hot water\", \"Carbon monoxide alarm\", \"Mini fridge\", \"Dryer \\\\u2013 In building\", \"Kitchen\", \"Hangers\", \"Shampoo\", \"Window AC unit\", \"Coffee maker: Keurig coffee machine\", \"Outdoor furniture\", \"Conditioner\", \"Refrigerator\", \"Patio or balcony\", \"Long term stays allowed\", \"Cleaning products\", \"Pocket wifi\", \"Bed linens\"]',\n",
              "       '$45.00', 2, 180, 2.0, 2.0, 1125.0, 1125.0, 2.0, 1125.0, nan, 't',\n",
              "       0, 0, 0, 0, '2024-03-11', 51, 23, 2, '2021-03-05', '2024-02-28',\n",
              "       4.92, 4.98, 4.98, 4.88, 4.96, 4.84, 4.92, nan, 'f', 8, 2, 6, 0,\n",
              "       1.39,\n",
              "       'https://data.insideairbnb.com/united-states/ny/albany/2024-03-10/data/listings.csv.gz',\n",
              "       'albany', 'ny'], dtype=object)"
            ]
          },
          "execution_count": 124,
          "metadata": {},
          "output_type": "execute_result"
        }
      ],
      "source": [
        "listings.iloc[111].values"
      ]
    },
    {
      "cell_type": "code",
      "execution_count": 125,
      "metadata": {
        "colab": {
          "base_uri": "https://localhost:8080/"
        },
        "id": "qpquIJex1wok",
        "outputId": "9f6efdbf-051b-4927-e27c-86d224fc4bf0"
      },
      "outputs": [
        {
          "name": "stdout",
          "output_type": "stream",
          "text": [
            "<class 'pandas.core.frame.DataFrame'>\n",
            "RangeIndex: 288464 entries, 0 to 288463\n",
            "Data columns (total 25 columns):\n",
            " #   Column                          Non-Null Count   Dtype  \n",
            "---  ------                          --------------   -----  \n",
            " 0   id                              288464 non-null  int64  \n",
            " 1   host_id                         288464 non-null  int64  \n",
            " 2   host_response_time              233796 non-null  object \n",
            " 3   host_response_rate              233796 non-null  object \n",
            " 4   host_acceptance_rate            247375 non-null  object \n",
            " 5   host_is_superhost               287247 non-null  object \n",
            " 6   host_identity_verified          288430 non-null  object \n",
            " 7   neighbourhood_cleansed          287536 non-null  object \n",
            " 8   latitude                        288464 non-null  float64\n",
            " 9   longitude                       288464 non-null  float64\n",
            " 10  room_type                       288464 non-null  object \n",
            " 11  accommodates                    288464 non-null  int64  \n",
            " 12  bathrooms_text                  288101 non-null  object \n",
            " 13  beds                            265827 non-null  float64\n",
            " 14  amenities                       288464 non-null  object \n",
            " 15  price                           258977 non-null  object \n",
            " 16  number_of_reviews               288464 non-null  int64  \n",
            " 17  number_of_reviews_ltm           288464 non-null  int64  \n",
            " 18  number_of_reviews_l30d          288464 non-null  int64  \n",
            " 19  instant_bookable                288464 non-null  object \n",
            " 20  calculated_host_listings_count  288464 non-null  int64  \n",
            " 21  City                            288464 non-null  object \n",
            " 22  State                           288464 non-null  object \n",
            " 23  review_scores_rating            222463 non-null  float64\n",
            " 24  reviews_per_month               222335 non-null  float64\n",
            "dtypes: float64(5), int64(7), object(13)\n",
            "memory usage: 55.0+ MB\n"
          ]
        }
      ],
      "source": [
        "starter_listings_df = trimmed_listings.copy()#query(\"calculated_host_listings_count == 1\").reset_index(drop = True)\n",
        "starter_listings_df.info()"
      ]
    },
    {
      "cell_type": "code",
      "execution_count": 126,
      "metadata": {
        "id": "BmWqTFqB60q9"
      },
      "outputs": [],
      "source": [
        "#starter_listings_df.describe()"
      ]
    },
    {
      "cell_type": "markdown",
      "metadata": {
        "id": "E_LHXOdQ7_-R"
      },
      "source": [
        "# Data Preprocessing"
      ]
    },
    {
      "cell_type": "code",
      "execution_count": 127,
      "metadata": {
        "colab": {
          "base_uri": "https://localhost:8080/"
        },
        "id": "DqlKrcrzBQRq",
        "outputId": "10b5bbd5-9029-48f1-de6c-dcd362c5d1bb"
      },
      "outputs": [
        {
          "data": {
            "text/plain": [
              "host_response_time\n",
              "within an hour        186242\n",
              "within a few hours     28573\n",
              "within a day           13538\n",
              "a few days or more      5443\n",
              "Name: count, dtype: int64"
            ]
          },
          "execution_count": 127,
          "metadata": {},
          "output_type": "execute_result"
        }
      ],
      "source": [
        "starter_listings_df[\"host_response_time\"].value_counts()"
      ]
    },
    {
      "cell_type": "markdown",
      "metadata": {
        "id": "RGEabX5GP77v"
      },
      "source": [
        "## Modify the columns and their dtypes based on their values"
      ]
    },
    {
      "cell_type": "code",
      "execution_count": 128,
      "metadata": {
        "id": "UW8XwtclBeBl"
      },
      "outputs": [],
      "source": [
        "# change host_response_time from categorical to numerical. Mapping  1, 2, 3, 4 - from fastest response to late response.\n",
        "response_time_map = {\"within an hour\": 1,\n",
        "                     \"within a few hours\": 2,\n",
        "                     \"within a day\": 3,\n",
        "                     \"a few days or more\": 4}\n",
        "\n",
        "starter_listings_df[\"host_response_time\"] = starter_listings_df[\"host_response_time\"].map(response_time_map).astype(\"category\")"
      ]
    },
    {
      "cell_type": "code",
      "execution_count": 129,
      "metadata": {
        "colab": {
          "base_uri": "https://localhost:8080/"
        },
        "id": "zLwKL2Ml5PJe",
        "outputId": "9e892981-2664-4b83-eab9-624a4efbe389"
      },
      "outputs": [
        {
          "name": "stdout",
          "output_type": "stream",
          "text": [
            "<class 'pandas.core.frame.DataFrame'>\n",
            "RangeIndex: 288464 entries, 0 to 288463\n",
            "Data columns (total 24 columns):\n",
            " #   Column                          Non-Null Count   Dtype   \n",
            "---  ------                          --------------   -----   \n",
            " 0   id                              288464 non-null  int64   \n",
            " 1   host_id                         288464 non-null  int64   \n",
            " 2   host_response_time              233796 non-null  category\n",
            " 3   host_response_rate              233796 non-null  float64 \n",
            " 4   host_acceptance_rate            247375 non-null  float64 \n",
            " 5   host_is_superhost               288464 non-null  category\n",
            " 6   host_identity_verified          288464 non-null  category\n",
            " 7   neighbourhood_cleansed          287536 non-null  category\n",
            " 8   latitude                        288464 non-null  float64 \n",
            " 9   longitude                       288464 non-null  float64 \n",
            " 10  room_type                       288464 non-null  category\n",
            " 11  accommodates                    288464 non-null  int64   \n",
            " 12  beds                            265827 non-null  float64 \n",
            " 13  amenities                       288464 non-null  int64   \n",
            " 14  price                           258977 non-null  float64 \n",
            " 15  number_of_reviews               288464 non-null  int64   \n",
            " 16  number_of_reviews_ltm           288464 non-null  int64   \n",
            " 17  number_of_reviews_l30d          288464 non-null  int64   \n",
            " 18  instant_bookable                288464 non-null  category\n",
            " 19  calculated_host_listings_count  288464 non-null  int64   \n",
            " 20  City                            288464 non-null  category\n",
            " 21  State                           288464 non-null  category\n",
            " 22  review_scores_rating            222463 non-null  float64 \n",
            " 23  reviews_per_month               222335 non-null  float64 \n",
            "dtypes: category(8), float64(8), int64(8)\n",
            "memory usage: 37.7 MB\n"
          ]
        }
      ],
      "source": [
        "# Convert host_response_rate, host_acceptance_rate columns from strings to numerical.\n",
        "\n",
        "starter_listings_df[\"host_response_rate\"] = starter_listings_df[\"host_response_rate\"].apply(lambda x: int(x[:-1]) if isinstance(x, str) else x)\n",
        "starter_listings_df[\"host_acceptance_rate\"] = starter_listings_df[\"host_acceptance_rate\"].apply(lambda x: int(x[:-1]) if isinstance(x, str) else x)\n",
        "starter_listings_df[\"host_is_superhost\"] = starter_listings_df[\"host_is_superhost\"].apply(lambda x: 0 if x == 'f' else 1).astype(\"category\")\n",
        "starter_listings_df[\"host_identity_verified\"] = starter_listings_df[\"host_identity_verified\"].apply(lambda x: 0 if x == 'f' else 1).astype(\"category\")\n",
        "starter_listings_df[\"amenities\"] = starter_listings_df[\"amenities\"].apply(lambda x: len(eval(x)))\n",
        "starter_listings_df[\"price\"] = starter_listings_df[\"price\"].apply(lambda x: float(''.join(x[1:].split(','))) if isinstance(x, str) else x)\n",
        "starter_listings_df[\"instant_bookable\"] = starter_listings_df[\"instant_bookable\"].apply(lambda x: 0 if x == 'f' else 1).astype(\"category\")\n",
        "\n",
        "starter_listings_df[\"neighbourhood_cleansed\"] = starter_listings_df[\"neighbourhood_cleansed\"].astype(\"category\")\n",
        "starter_listings_df[\"room_type\"] = starter_listings_df[\"room_type\"].astype(\"category\")\n",
        "starter_listings_df[\"City\"] = starter_listings_df[\"City\"].astype(\"category\")\n",
        "starter_listings_df[\"State\"] = starter_listings_df[\"State\"].astype(\"category\")\n",
        "\n",
        "starter_listings_df.drop([\"bathrooms_text\"], axis = 1, inplace = True)\n",
        "starter_listings_df.info()"
      ]
    },
    {
      "cell_type": "code",
      "execution_count": 130,
      "metadata": {
        "colab": {
          "base_uri": "https://localhost:8080/"
        },
        "id": "bjT7bPDHlopE",
        "outputId": "53c881f4-6a4c-42c0-a1a1-c9b0bb6d2339"
      },
      "outputs": [
        {
          "data": {
            "text/plain": [
              "(Index(['id', 'host_id', 'host_response_rate', 'host_acceptance_rate',\n",
              "        'latitude', 'longitude', 'accommodates', 'beds', 'amenities', 'price',\n",
              "        'number_of_reviews', 'number_of_reviews_ltm', 'number_of_reviews_l30d',\n",
              "        'calculated_host_listings_count', 'review_scores_rating',\n",
              "        'reviews_per_month'],\n",
              "       dtype='object'),\n",
              " Index(['host_response_time', 'host_is_superhost', 'host_identity_verified',\n",
              "        'neighbourhood_cleansed', 'room_type', 'instant_bookable', 'City',\n",
              "        'State'],\n",
              "       dtype='object'),\n",
              " 16,\n",
              " 8)"
            ]
          },
          "execution_count": 130,
          "metadata": {},
          "output_type": "execute_result"
        }
      ],
      "source": [
        "num_cols = starter_listings_df.select_dtypes(include=['float64', 'int64']).columns\n",
        "cat_cols = starter_listings_df.select_dtypes(include=['category']).columns\n",
        "\n",
        "num_cols, cat_cols, len(num_cols), len(cat_cols)"
      ]
    },
    {
      "cell_type": "code",
      "execution_count": 131,
      "metadata": {
        "colab": {
          "base_uri": "https://localhost:8080/",
          "height": 349
        },
        "id": "jzKelHkImF2m",
        "outputId": "795a6838-7957-471d-c851-f596a2e2c534"
      },
      "outputs": [
        {
          "data": {
            "text/html": [
              "<div>\n",
              "<style scoped>\n",
              "    .dataframe tbody tr th:only-of-type {\n",
              "        vertical-align: middle;\n",
              "    }\n",
              "\n",
              "    .dataframe tbody tr th {\n",
              "        vertical-align: top;\n",
              "    }\n",
              "\n",
              "    .dataframe thead th {\n",
              "        text-align: right;\n",
              "    }\n",
              "</style>\n",
              "<table border=\"1\" class=\"dataframe\">\n",
              "  <thead>\n",
              "    <tr style=\"text-align: right;\">\n",
              "      <th></th>\n",
              "      <th>id</th>\n",
              "      <th>host_id</th>\n",
              "      <th>host_response_rate</th>\n",
              "      <th>host_acceptance_rate</th>\n",
              "      <th>latitude</th>\n",
              "      <th>longitude</th>\n",
              "      <th>accommodates</th>\n",
              "      <th>beds</th>\n",
              "      <th>amenities</th>\n",
              "      <th>price</th>\n",
              "      <th>number_of_reviews</th>\n",
              "      <th>number_of_reviews_ltm</th>\n",
              "      <th>number_of_reviews_l30d</th>\n",
              "      <th>calculated_host_listings_count</th>\n",
              "      <th>review_scores_rating</th>\n",
              "      <th>reviews_per_month</th>\n",
              "    </tr>\n",
              "  </thead>\n",
              "  <tbody>\n",
              "    <tr>\n",
              "      <th>count</th>\n",
              "      <td>2.884640e+05</td>\n",
              "      <td>2.884640e+05</td>\n",
              "      <td>233796.000000</td>\n",
              "      <td>247375.000000</td>\n",
              "      <td>288464.000000</td>\n",
              "      <td>288464.000000</td>\n",
              "      <td>288464.000000</td>\n",
              "      <td>265827.000000</td>\n",
              "      <td>288464.000000</td>\n",
              "      <td>258977.000000</td>\n",
              "      <td>288464.000000</td>\n",
              "      <td>288464.000000</td>\n",
              "      <td>288464.000000</td>\n",
              "      <td>288464.000000</td>\n",
              "      <td>222463.000000</td>\n",
              "      <td>222335.000000</td>\n",
              "    </tr>\n",
              "    <tr>\n",
              "      <th>mean</th>\n",
              "      <td>4.025330e+17</td>\n",
              "      <td>1.788110e+08</td>\n",
              "      <td>96.118377</td>\n",
              "      <td>88.743103</td>\n",
              "      <td>34.665336</td>\n",
              "      <td>-105.684353</td>\n",
              "      <td>4.318473</td>\n",
              "      <td>2.438770</td>\n",
              "      <td>19.286750</td>\n",
              "      <td>278.765941</td>\n",
              "      <td>41.260369</td>\n",
              "      <td>10.456653</td>\n",
              "      <td>0.639903</td>\n",
              "      <td>34.831771</td>\n",
              "      <td>4.765491</td>\n",
              "      <td>1.543141</td>\n",
              "    </tr>\n",
              "    <tr>\n",
              "      <th>std</th>\n",
              "      <td>4.292289e+17</td>\n",
              "      <td>1.746780e+08</td>\n",
              "      <td>14.521662</td>\n",
              "      <td>21.686573</td>\n",
              "      <td>6.963344</td>\n",
              "      <td>26.170668</td>\n",
              "      <td>2.970429</td>\n",
              "      <td>1.985165</td>\n",
              "      <td>21.431471</td>\n",
              "      <td>981.886012</td>\n",
              "      <td>82.814692</td>\n",
              "      <td>18.642283</td>\n",
              "      <td>1.461329</td>\n",
              "      <td>99.349525</td>\n",
              "      <td>0.414570</td>\n",
              "      <td>1.812961</td>\n",
              "    </tr>\n",
              "    <tr>\n",
              "      <th>min</th>\n",
              "      <td>6.000000e+00</td>\n",
              "      <td>2.300000e+01</td>\n",
              "      <td>0.000000</td>\n",
              "      <td>0.000000</td>\n",
              "      <td>18.920250</td>\n",
              "      <td>-159.714620</td>\n",
              "      <td>1.000000</td>\n",
              "      <td>0.000000</td>\n",
              "      <td>0.000000</td>\n",
              "      <td>0.000000</td>\n",
              "      <td>0.000000</td>\n",
              "      <td>0.000000</td>\n",
              "      <td>0.000000</td>\n",
              "      <td>1.000000</td>\n",
              "      <td>0.000000</td>\n",
              "      <td>0.000000</td>\n",
              "    </tr>\n",
              "    <tr>\n",
              "      <th>25%</th>\n",
              "      <td>3.192939e+07</td>\n",
              "      <td>2.653036e+07</td>\n",
              "      <td>100.000000</td>\n",
              "      <td>90.000000</td>\n",
              "      <td>30.336629</td>\n",
              "      <td>-118.539884</td>\n",
              "      <td>2.000000</td>\n",
              "      <td>1.000000</td>\n",
              "      <td>0.000000</td>\n",
              "      <td>95.000000</td>\n",
              "      <td>1.000000</td>\n",
              "      <td>0.000000</td>\n",
              "      <td>0.000000</td>\n",
              "      <td>1.000000</td>\n",
              "      <td>4.710000</td>\n",
              "      <td>0.280000</td>\n",
              "    </tr>\n",
              "    <tr>\n",
              "      <th>50%</th>\n",
              "      <td>5.364763e+07</td>\n",
              "      <td>1.074344e+08</td>\n",
              "      <td>100.000000</td>\n",
              "      <td>98.000000</td>\n",
              "      <td>36.009522</td>\n",
              "      <td>-115.056474</td>\n",
              "      <td>4.000000</td>\n",
              "      <td>2.000000</td>\n",
              "      <td>12.000000</td>\n",
              "      <td>150.000000</td>\n",
              "      <td>8.000000</td>\n",
              "      <td>2.000000</td>\n",
              "      <td>0.000000</td>\n",
              "      <td>3.000000</td>\n",
              "      <td>4.890000</td>\n",
              "      <td>0.970000</td>\n",
              "    </tr>\n",
              "    <tr>\n",
              "      <th>75%</th>\n",
              "      <td>8.372291e+17</td>\n",
              "      <td>3.260847e+08</td>\n",
              "      <td>100.000000</td>\n",
              "      <td>100.000000</td>\n",
              "      <td>40.685874</td>\n",
              "      <td>-80.139217</td>\n",
              "      <td>6.000000</td>\n",
              "      <td>3.000000</td>\n",
              "      <td>36.000000</td>\n",
              "      <td>262.000000</td>\n",
              "      <td>44.000000</td>\n",
              "      <td>14.000000</td>\n",
              "      <td>1.000000</td>\n",
              "      <td>17.000000</td>\n",
              "      <td>5.000000</td>\n",
              "      <td>2.280000</td>\n",
              "    </tr>\n",
              "    <tr>\n",
              "      <th>max</th>\n",
              "      <td>1.117529e+18</td>\n",
              "      <td>5.677585e+08</td>\n",
              "      <td>100.000000</td>\n",
              "      <td>100.000000</td>\n",
              "      <td>47.734087</td>\n",
              "      <td>-70.996000</td>\n",
              "      <td>16.000000</td>\n",
              "      <td>132.000000</td>\n",
              "      <td>119.000000</td>\n",
              "      <td>100000.000000</td>\n",
              "      <td>3501.000000</td>\n",
              "      <td>1065.000000</td>\n",
              "      <td>146.000000</td>\n",
              "      <td>842.000000</td>\n",
              "      <td>5.000000</td>\n",
              "      <td>91.490000</td>\n",
              "    </tr>\n",
              "  </tbody>\n",
              "</table>\n",
              "</div>"
            ],
            "text/plain": [
              "                 id       host_id  host_response_rate  host_acceptance_rate  \\\n",
              "count  2.884640e+05  2.884640e+05       233796.000000         247375.000000   \n",
              "mean   4.025330e+17  1.788110e+08           96.118377             88.743103   \n",
              "std    4.292289e+17  1.746780e+08           14.521662             21.686573   \n",
              "min    6.000000e+00  2.300000e+01            0.000000              0.000000   \n",
              "25%    3.192939e+07  2.653036e+07          100.000000             90.000000   \n",
              "50%    5.364763e+07  1.074344e+08          100.000000             98.000000   \n",
              "75%    8.372291e+17  3.260847e+08          100.000000            100.000000   \n",
              "max    1.117529e+18  5.677585e+08          100.000000            100.000000   \n",
              "\n",
              "            latitude      longitude   accommodates           beds  \\\n",
              "count  288464.000000  288464.000000  288464.000000  265827.000000   \n",
              "mean       34.665336    -105.684353       4.318473       2.438770   \n",
              "std         6.963344      26.170668       2.970429       1.985165   \n",
              "min        18.920250    -159.714620       1.000000       0.000000   \n",
              "25%        30.336629    -118.539884       2.000000       1.000000   \n",
              "50%        36.009522    -115.056474       4.000000       2.000000   \n",
              "75%        40.685874     -80.139217       6.000000       3.000000   \n",
              "max        47.734087     -70.996000      16.000000     132.000000   \n",
              "\n",
              "           amenities          price  number_of_reviews  number_of_reviews_ltm  \\\n",
              "count  288464.000000  258977.000000      288464.000000          288464.000000   \n",
              "mean       19.286750     278.765941          41.260369              10.456653   \n",
              "std        21.431471     981.886012          82.814692              18.642283   \n",
              "min         0.000000       0.000000           0.000000               0.000000   \n",
              "25%         0.000000      95.000000           1.000000               0.000000   \n",
              "50%        12.000000     150.000000           8.000000               2.000000   \n",
              "75%        36.000000     262.000000          44.000000              14.000000   \n",
              "max       119.000000  100000.000000        3501.000000            1065.000000   \n",
              "\n",
              "       number_of_reviews_l30d  calculated_host_listings_count  \\\n",
              "count           288464.000000                   288464.000000   \n",
              "mean                 0.639903                       34.831771   \n",
              "std                  1.461329                       99.349525   \n",
              "min                  0.000000                        1.000000   \n",
              "25%                  0.000000                        1.000000   \n",
              "50%                  0.000000                        3.000000   \n",
              "75%                  1.000000                       17.000000   \n",
              "max                146.000000                      842.000000   \n",
              "\n",
              "       review_scores_rating  reviews_per_month  \n",
              "count         222463.000000      222335.000000  \n",
              "mean               4.765491           1.543141  \n",
              "std                0.414570           1.812961  \n",
              "min                0.000000           0.000000  \n",
              "25%                4.710000           0.280000  \n",
              "50%                4.890000           0.970000  \n",
              "75%                5.000000           2.280000  \n",
              "max                5.000000          91.490000  "
            ]
          },
          "execution_count": 131,
          "metadata": {},
          "output_type": "execute_result"
        }
      ],
      "source": [
        "starter_listings_df[num_cols].describe()"
      ]
    },
    {
      "cell_type": "code",
      "execution_count": 132,
      "metadata": {
        "colab": {
          "base_uri": "https://localhost:8080/",
          "height": 175
        },
        "id": "pi7LRP8AmpaD",
        "outputId": "ea4a9ac8-e57b-4792-8020-e1f48290fe6e"
      },
      "outputs": [
        {
          "data": {
            "text/html": [
              "<div>\n",
              "<style scoped>\n",
              "    .dataframe tbody tr th:only-of-type {\n",
              "        vertical-align: middle;\n",
              "    }\n",
              "\n",
              "    .dataframe tbody tr th {\n",
              "        vertical-align: top;\n",
              "    }\n",
              "\n",
              "    .dataframe thead th {\n",
              "        text-align: right;\n",
              "    }\n",
              "</style>\n",
              "<table border=\"1\" class=\"dataframe\">\n",
              "  <thead>\n",
              "    <tr style=\"text-align: right;\">\n",
              "      <th></th>\n",
              "      <th>host_response_time</th>\n",
              "      <th>host_is_superhost</th>\n",
              "      <th>host_identity_verified</th>\n",
              "      <th>neighbourhood_cleansed</th>\n",
              "      <th>room_type</th>\n",
              "      <th>instant_bookable</th>\n",
              "      <th>City</th>\n",
              "      <th>State</th>\n",
              "    </tr>\n",
              "  </thead>\n",
              "  <tbody>\n",
              "    <tr>\n",
              "      <th>count</th>\n",
              "      <td>233796.0</td>\n",
              "      <td>288464</td>\n",
              "      <td>288464</td>\n",
              "      <td>287536</td>\n",
              "      <td>288464</td>\n",
              "      <td>288464</td>\n",
              "      <td>288464</td>\n",
              "      <td>288464</td>\n",
              "    </tr>\n",
              "    <tr>\n",
              "      <th>unique</th>\n",
              "      <td>4.0</td>\n",
              "      <td>2</td>\n",
              "      <td>2</td>\n",
              "      <td>1473</td>\n",
              "      <td>4</td>\n",
              "      <td>2</td>\n",
              "      <td>34</td>\n",
              "      <td>20</td>\n",
              "    </tr>\n",
              "    <tr>\n",
              "      <th>top</th>\n",
              "      <td>1.0</td>\n",
              "      <td>0</td>\n",
              "      <td>1</td>\n",
              "      <td>Unincorporated Areas</td>\n",
              "      <td>Entire home/apt</td>\n",
              "      <td>0</td>\n",
              "      <td>los-angeles</td>\n",
              "      <td>ca</td>\n",
              "    </tr>\n",
              "    <tr>\n",
              "      <th>freq</th>\n",
              "      <td>186242.0</td>\n",
              "      <td>176688</td>\n",
              "      <td>254298</td>\n",
              "      <td>15187</td>\n",
              "      <td>216337</td>\n",
              "      <td>196106</td>\n",
              "      <td>45591</td>\n",
              "      <td>81887</td>\n",
              "    </tr>\n",
              "  </tbody>\n",
              "</table>\n",
              "</div>"
            ],
            "text/plain": [
              "        host_response_time  host_is_superhost  host_identity_verified  \\\n",
              "count             233796.0             288464                  288464   \n",
              "unique                 4.0                  2                       2   \n",
              "top                    1.0                  0                       1   \n",
              "freq              186242.0             176688                  254298   \n",
              "\n",
              "       neighbourhood_cleansed        room_type  instant_bookable         City  \\\n",
              "count                  287536           288464            288464       288464   \n",
              "unique                   1473                4                 2           34   \n",
              "top      Unincorporated Areas  Entire home/apt                 0  los-angeles   \n",
              "freq                    15187           216337            196106        45591   \n",
              "\n",
              "         State  \n",
              "count   288464  \n",
              "unique      20  \n",
              "top         ca  \n",
              "freq     81887  "
            ]
          },
          "execution_count": 132,
          "metadata": {},
          "output_type": "execute_result"
        }
      ],
      "source": [
        "starter_listings_df[cat_cols].describe()"
      ]
    },
    {
      "cell_type": "markdown",
      "metadata": {},
      "source": [
        "### Remove Outliers"
      ]
    },
    {
      "cell_type": "code",
      "execution_count": 133,
      "metadata": {},
      "outputs": [],
      "source": [
        "#Remove outliers for all Numerical Columns\n",
        "Q1 = starter_listings_df[num_cols].quantile(0.25)\n",
        "Q3 = starter_listings_df[num_cols].quantile(0.75)\n",
        "IQR = Q3 - Q1\n",
        "starter_listings_df = starter_listings_df[~((starter_listings_df[num_cols] < (Q1 - 1.5 * IQR)) |\n",
        "                                   (starter_listings_df[num_cols] > (Q3 + 1.5 * IQR))).any(axis=1)]\n",
        "\n"
      ]
    },
    {
      "cell_type": "markdown",
      "metadata": {
        "id": "7GG0AA__QpwN"
      },
      "source": [
        "## Handling Missing values."
      ]
    },
    {
      "cell_type": "markdown",
      "metadata": {
        "id": "g8oxRttbbTc6"
      },
      "source": [
        "### Simple Imputation with Mean and Model"
      ]
    },
    {
      "cell_type": "code",
      "execution_count": 44,
      "metadata": {
        "colab": {
          "base_uri": "https://localhost:8080/"
        },
        "id": "itD5TEZ5MtGf",
        "outputId": "ec2f3b0c-e84c-48a0-ac63-2c2f25200e5f"
      },
      "outputs": [
        {
          "name": "stdout",
          "output_type": "stream",
          "text": [
            "<class 'pandas.core.frame.DataFrame'>\n",
            "Index: 57909 entries, 5 to 103642\n",
            "Data columns (total 24 columns):\n",
            " #   Column                          Non-Null Count  Dtype   \n",
            "---  ------                          --------------  -----   \n",
            " 0   id                              57909 non-null  int64   \n",
            " 1   host_id                         57909 non-null  int64   \n",
            " 2   host_response_time              57909 non-null  category\n",
            " 3   host_response_rate              57909 non-null  float64 \n",
            " 4   host_acceptance_rate            57909 non-null  float64 \n",
            " 5   host_is_superhost               57909 non-null  category\n",
            " 6   host_identity_verified          57909 non-null  category\n",
            " 7   neighbourhood_cleansed          57909 non-null  category\n",
            " 8   latitude                        57909 non-null  float64 \n",
            " 9   longitude                       57909 non-null  float64 \n",
            " 10  room_type                       57909 non-null  category\n",
            " 11  accommodates                    57909 non-null  int64   \n",
            " 12  beds                            57909 non-null  float64 \n",
            " 13  amenities                       57909 non-null  int64   \n",
            " 14  price                           57909 non-null  float64 \n",
            " 15  number_of_reviews               57909 non-null  int64   \n",
            " 16  number_of_reviews_ltm           57909 non-null  int64   \n",
            " 17  number_of_reviews_l30d          57909 non-null  int64   \n",
            " 18  instant_bookable                57909 non-null  category\n",
            " 19  calculated_host_listings_count  57909 non-null  int64   \n",
            " 20  City                            57909 non-null  category\n",
            " 21  State                           57909 non-null  category\n",
            " 22  review_scores_rating            57909 non-null  float64 \n",
            " 23  reviews_per_month               57909 non-null  float64 \n",
            "dtypes: category(8), float64(8), int64(8)\n",
            "memory usage: 8.1 MB\n"
          ]
        }
      ],
      "source": [
        "simple_imputed_df = starter_listings_df.copy()\n",
        "\n",
        "simple_imputed_df[num_cols] = simple_imputed_df[num_cols].fillna(simple_imputed_df[num_cols].mean())\n",
        "simple_imputed_df[cat_cols] = simple_imputed_df[cat_cols].fillna(simple_imputed_df[cat_cols].mode().iloc[0])\n",
        "\n",
        "simple_imputed_df.info()"
      ]
    },
    {
      "cell_type": "markdown",
      "metadata": {},
      "source": [
        "## EDA\n",
        "### Question 1-7\n",
        "1. Price distribution\n",
        "2. Review score distribution\n",
        "3. How availability varies throughout the year and identify any seasonal patterns. (We can identify local events when there is a peak of availability in certain dates.\n",
        "4. Plot the locations of listings on a map to visualize geographic distribution and density.\n",
        "5. Compare neighborhoods in terms of price, rating, and number of listings.\n",
        "6. Compare room types in terms of price, rating, and number of listing.\n",
        "7. Relation between number of amenities and price.\n"
      ]
    },
    {
      "cell_type": "code",
      "execution_count": 87,
      "metadata": {},
      "outputs": [
        {
          "data": {
            "image/png": "[encoded data removed]",
            "text/plain": [
              "<Figure size 500x300 with 1 Axes>"
            ]
          },
          "metadata": {},
          "output_type": "display_data"
        }
      ],
      "source": [
        "\"\"\"\n",
        "1. Price distribution\n",
        "\"\"\"\n",
        "import pandas as pd\n",
        "import matplotlib.pyplot as plt\n",
        "\n",
        "plt.figure(figsize=(5,3))\n",
        "plt.hist(simple_imputed_df['price'], bins=50)\n",
        "plt.title('Price Distribution')\n",
        "plt.xlabel('Price')\n",
        "plt.ylabel('Frequency')\n",
        "plt.grid(axis='y', alpha=0.75)\n",
        "plt.show()\n"
      ]
    },
    {
      "cell_type": "code",
      "execution_count": 86,
      "metadata": {},
      "outputs": [
        {
          "data": {
            "image/png": "[encoded data removed]",
            "text/plain": [
              "<Figure size 500x300 with 1 Axes>"
            ]
          },
          "metadata": {},
          "output_type": "display_data"
        }
      ],
      "source": [
        "\"\"\"\n",
        "2. Review scores distribution\n",
        "\"\"\"\n",
        "plt.figure(figsize=(5,3))\n",
        "plt.hist(simple_imputed_df['review_scores_rating'], bins=20)\n",
        "plt.title('Review Score Distribution')\n",
        "plt.xlabel('Review Scores Rating')\n",
        "plt.ylabel('Frequency')\n",
        "plt.grid(axis='y', alpha=0.75)\n",
        "plt.show()"
      ]
    },
    {
      "cell_type": "code",
      "execution_count": 85,
      "metadata": {},
      "outputs": [
        {
          "name": "stdout",
          "output_type": "stream",
          "text": [
            "verification_ratio: 0.8131896596383982\n",
            "average_score_verified: 4.8913721208893355, average_score_unverified: 4.890100834634252\n",
            "average_reviews_verified: 22.114905183580728, average_reviews_unverified: 18.498243667960807\n",
            "average_price_verified: 169.22310169671783, review_count_unverified: 168.57751899855356\n"
          ]
        }
      ],
      "source": [
        "\"\"\"\n",
        "3. How common is host identity verification, and does it impact guest trust as reflected in booking rates or reviews?\n",
        "\"\"\"\n",
        "# 1. Ratio of varified host \n",
        "verification_ratio = simple_imputed_df['host_identity_verified'].astype(int).mean()\n",
        "print('verification_ratio:', verification_ratio)\n",
        "\n",
        "# 3. Average rating of varified and unverified host\n",
        "average_score_verified = simple_imputed_df[simple_imputed_df['host_identity_verified'] == 1]['review_scores_rating'].mean()\n",
        "average_score_unverified = simple_imputed_df[simple_imputed_df['host_identity_verified'] == 0]['review_scores_rating'].mean()\n",
        "print(f'average_score_verified: {average_score_verified}, average_score_unverified: {average_score_unverified}')\n",
        "\n",
        "# 4. Average number of review received by variafied and unvarified host\n",
        "average_reviews_verified = simple_imputed_df[simple_imputed_df['host_identity_verified'] == 1]['number_of_reviews'].mean()\n",
        "average_reviews_unverified = simple_imputed_df[simple_imputed_df['host_identity_verified'] == 0]['number_of_reviews'].mean()\n",
        "print(f'average_reviews_verified: {average_reviews_verified}, average_reviews_unverified: {average_reviews_unverified}')\n",
        "\n",
        "# 5. Average price for varified and unvarified host\n",
        "average_price_verified = simple_imputed_df[simple_imputed_df['host_identity_verified'] == 1]['price'].mean()\n",
        "average_price_unverified = simple_imputed_df[simple_imputed_df['host_identity_verified'] == 0]['price'].mean()\n",
        "print(f'average_price_verified: {average_price_verified}, review_count_unverified: {average_price_unverified}')\n"
      ]
    },
    {
      "cell_type": "code",
      "execution_count": null,
      "metadata": {},
      "outputs": [],
      "source": [
        "pip install folium"
      ]
    },
    {
      "cell_type": "code",
      "execution_count": 48,
      "metadata": {},
      "outputs": [],
      "source": [
        "\"\"\"\n",
        "4. Plot the locations of listings on a map to visualize geographic distribution and density.\n",
        "\"\"\"\n",
        "import folium\n",
        "from folium.plugins import HeatMap\n",
        "\n",
        "# US map\n",
        "m = folium.Map(location=[37.0902, -95.7129], zoom_start=4)\n",
        "\n",
        "# Add heatmap to map\n",
        "heat_data = [[row['latitude'], row['longitude'], row['price']] for index, row in simple_imputed_df.iterrows()]\n",
        "HeatMap(heat_data).add_to(m)\n",
        "\n",
        "# Add data points and price for each point\n",
        "for idx, row in simple_imputed_df.iterrows():\n",
        "    folium.CircleMarker(\n",
        "        location=[row['latitude'], row['longitude']],\n",
        "        radius=3,\n",
        "        popup='Price: ${}'.format(row['price']),\n",
        "        fill=True,\n",
        "        color='blue',\n",
        "        fill_color='blue'\n",
        "    ).add_to(m)\n",
        "\n",
        "m.save('heatmap.html')\n",
        "#https://autogis-site.readthedocs.io/en/2021/notebooks/L5/02_interactive-map-folium.html\n",
        "#https://python-visualization.github.io/folium/latest/user_guide/vector_layers/circle_and_circle_marker.html"
      ]
    },
    {
      "cell_type": "code",
      "execution_count": 82,
      "metadata": {},
      "outputs": [
        {
          "data": {
            "image/png": "[encoded data removed]",
            "text/plain": [
              "<Figure size 1500x1500 with 3 Axes>"
            ]
          },
          "metadata": {},
          "output_type": "display_data"
        }
      ],
      "source": [
        "\"\"\"\n",
        "5. Compare city in terms of price, rating, and number of listings.\n",
        "\"\"\"\n",
        "import seaborn as sns\n",
        "\n",
        "# Group data by 'City' and calculate average price, rating, total number of listing for each city\n",
        "city_stats = simple_imputed_df.groupby('City').agg({\n",
        "    'price': 'mean', \n",
        "    'review_scores_rating': 'mean',\n",
        "    'id': 'count'\n",
        "}).rename(columns={'id': 'number_of_listings'}).reset_index()\n",
        "\n",
        "fig, axes = plt.subplots(3, 1, figsize=(15, 15), sharex=True)\n",
        "\n",
        "# Price\n",
        "sns.barplot(x='City', y='price', data=city_stats, ax=axes[0])\n",
        "axes[0].set_title('Average Price by City')\n",
        "\n",
        "# Rating\n",
        "sns.barplot(x='City', y='review_scores_rating', data=city_stats, ax=axes[1])\n",
        "axes[1].set_ylim(4.8, 5)\n",
        "axes[1].set_title('Average Rating by City')\n",
        "\n",
        "# Number of listings\n",
        "sns.barplot(x='City', y='number_of_listings', data=city_stats, ax=axes[2])\n",
        "axes[2].set_title('Number of Listings by City')\n",
        "\n",
        "# Rotate x-axis label\n",
        "for ax in axes:\n",
        "    for label in ax.get_xticklabels():\n",
        "        label.set_rotation(45)\n",
        "        label.set_ha('right')\n",
        "\n",
        "plt.tight_layout()\n",
        "plt.show()\n"
      ]
    },
    {
      "cell_type": "code",
      "execution_count": 83,
      "metadata": {},
      "outputs": [
        {
          "data": {
            "image/png": "[encoded data removed]",
            "text/plain": [
              "<Figure size 1500x1500 with 3 Axes>"
            ]
          },
          "metadata": {},
          "output_type": "display_data"
        }
      ],
      "source": [
        "\"\"\"\n",
        "6. Compare room types in terms of price, rating, and number of listing.\n",
        "\"\"\"\n",
        "# Group data by 'room_type' and calculate average price, rating, total number of listing for each type of room\n",
        "room_type_stats = simple_imputed_df.groupby('room_type').agg({\n",
        "    'price': 'mean', \n",
        "    'review_scores_rating': 'mean',\n",
        "    'id': 'count'\n",
        "}).rename(columns={'id': 'number_of_listings'}).reset_index()\n",
        "\n",
        "fig, axes = plt.subplots(3, 1, figsize=(15, 15), sharex=True)\n",
        "\n",
        "# Price\n",
        "sns.barplot(x='room_type', y='price', data=room_type_stats, ax=axes[0])\n",
        "axes[0].set_title('Average Price by Room Type')\n",
        "\n",
        "# Rating\n",
        "sns.barplot(x='room_type', y='review_scores_rating', data=room_type_stats, ax=axes[1])\n",
        "axes[1].set_ylim(4.8, 5)\n",
        "axes[1].set_title('Average Rating by Room Type')\n",
        "\n",
        "# Number of listings\n",
        "sns.barplot(x='room_type', y='number_of_listings', data=room_type_stats, ax=axes[2])\n",
        "axes[2].set_title('Number of Listings by Room Type')\n",
        "\n",
        "# Rotate x-axis label\n",
        "for ax in axes:\n",
        "    for label in ax.get_xticklabels():\n",
        "        label.set_rotation(45)\n",
        "        label.set_ha('right')\n",
        "\n",
        "plt.tight_layout()\n",
        "plt.show()\n"
      ]
    },
    {
      "cell_type": "code",
      "execution_count": 84,
      "metadata": {},
      "outputs": [
        {
          "data": {
            "image/png": "[encoded data removed]",
            "text/plain": [
              "<Figure size 640x480 with 2 Axes>"
            ]
          },
          "metadata": {},
          "output_type": "display_data"
        }
      ],
      "source": [
        "\"\"\"\n",
        "7. Relation between number of amenities and price.\n",
        "\"\"\"\n",
        "\n",
        "# Relationship between number of amenities and price\n",
        "df_filtered = simple_imputed_df[simple_imputed_df['amenities'] > 0]\n",
        "plt.hexbin(df_filtered['amenities'], df_filtered['price'], gridsize=50, cmap='Blues', mincnt=1)\n",
        "plt.colorbar(label='Count in bin')\n",
        "\n",
        "plt.title('Relationship between number of amenities and price')\n",
        "plt.xlabel('Number of amenities')\n",
        "plt.ylabel('Price')\n",
        "plt.show()"
      ]
    },
    {
      "cell_type": "markdown",
      "metadata": {
        "id": "drzbevL9bXap"
      },
      "source": [
        "### Imputation using a Model"
      ]
    },
    {
      "cell_type": "code",
      "execution_count": null,
      "metadata": {
        "colab": {
          "base_uri": "https://localhost:8080/"
        },
        "id": "f44mwf6bPsqH",
        "outputId": "8ced1669-b356-4f3e-d05b-4083e180c170"
      },
      "outputs": [
        {
          "name": "stderr",
          "output_type": "stream",
          "text": [
            "100%|██████████| 13/13 [00:56<00:00,  4.38s/it]\n"
          ]
        }
      ],
      "source": [
        "from sklearn.ensemble import HistGradientBoostingRegressor, HistGradientBoostingClassifier\n",
        "\n",
        "# Select the columns with missing values\n",
        "num_cols_missing = ['host_response_rate', 'host_acceptance_rate','beds', 'price', 'review_scores_rating', 'review_scores_accuracy','review_scores_cleanliness',\n",
        "                    'review_scores_checkin', 'review_scores_communication', 'review_scores_location','review_scores_value', 'reviews_per_month', 'bathrooms']\n",
        "\n",
        "cat_cols_missing = [\"host_response_time\"]\n",
        "\n",
        "model_imputed_df = starter_listings_df.copy()\n",
        "\n",
        "# Impute missing values for each numerical column using Histogram based Gradient Boosting Regressor\n",
        "for col in tqdm(num_cols_missing):\n",
        "    # Create a copy of the data with no missing values in the current column\n",
        "    train_df = model_imputed_df[model_imputed_df[col].notnull()]\n",
        "    X_train = train_df.drop([col, \"neighbourhood_cleansed\"], axis=1)\n",
        "    X_train = pd.get_dummies(X_train, columns=['host_response_time', 'room_type', 'City', 'State'])\n",
        "    y_train = train_df[col]\n",
        "\n",
        "    # Build model\n",
        "    hgbr_regressor = HistGradientBoostingRegressor()\n",
        "    hgbr_regressor.fit(X_train, y_train)\n",
        "\n",
        "    # Impute missing values\n",
        "    X_test = model_imputed_df[model_imputed_df[col].isnull()].drop([col, \"neighbourhood_cleansed\"], axis=1)\n",
        "    X_test = pd.get_dummies(X_test, columns=['host_response_time', 'room_type', 'City', 'State'])\n",
        "    imputed_values = hgbr_regressor.predict(X_test)\n",
        "    model_imputed_df.loc[model_imputed_df[col].isnull(), col] = imputed_values"
      ]
    },
    {
      "cell_type": "code",
      "execution_count": null,
      "metadata": {
        "id": "kRgAYKDoCaYz"
      },
      "outputs": [],
      "source": [
        "# Impute missing values for host_response_time column using Histogram based Gradient Boosting Classifier\n",
        "\n",
        "col = cat_cols_missing[0]\n",
        "train_df = model_imputed_df[model_imputed_df[col].notnull()]\n",
        "X_train = train_df.drop([col, \"neighbourhood_cleansed\"], axis=1)\n",
        "X_train = pd.get_dummies(X_train, columns=['room_type', 'City', 'State'])\n",
        "y_train = train_df[col]\n",
        "\n",
        "# Build model\n",
        "hgbr_classifier = HistGradientBoostingClassifier()\n",
        "hgbr_classifier.fit(X_train, y_train)\n",
        "\n",
        "# Impute missing values\n",
        "X_test = model_imputed_df[model_imputed_df[col].isnull()].drop([col, \"neighbourhood_cleansed\"], axis=1)\n",
        "X_test = pd.get_dummies(X_test, columns=['room_type', 'City', 'State'])\n",
        "imputed_values = hgbr_classifier.predict(X_test)\n",
        "model_imputed_df.loc[model_imputed_df[col].isnull(), col] = imputed_values"
      ]
    },
    {
      "cell_type": "code",
      "execution_count": null,
      "metadata": {
        "colab": {
          "base_uri": "https://localhost:8080/"
        },
        "id": "K8rLwAASzYd_",
        "outputId": "f2b13a16-3df3-440f-b1f1-66b66dadd2ab"
      },
      "outputs": [
        {
          "name": "stdout",
          "output_type": "stream",
          "text": [
            "<class 'pandas.core.frame.DataFrame'>\n",
            "RangeIndex: 103643 entries, 0 to 103642\n",
            "Data columns (total 31 columns):\n",
            " #   Column                          Non-Null Count   Dtype   \n",
            "---  ------                          --------------   -----   \n",
            " 0   id                              103643 non-null  int64   \n",
            " 1   host_id                         103643 non-null  int64   \n",
            " 2   host_response_time              103643 non-null  category\n",
            " 3   host_response_rate              103643 non-null  float64 \n",
            " 4   host_acceptance_rate            103643 non-null  float64 \n",
            " 5   host_is_superhost               103643 non-null  category\n",
            " 6   host_identity_verified          103643 non-null  category\n",
            " 7   neighbourhood_cleansed          103643 non-null  category\n",
            " 8   latitude                        103643 non-null  float64 \n",
            " 9   longitude                       103643 non-null  float64 \n",
            " 10  room_type                       103643 non-null  category\n",
            " 11  accommodates                    103643 non-null  int64   \n",
            " 12  beds                            103643 non-null  float64 \n",
            " 13  amenities                       103643 non-null  int64   \n",
            " 14  price                           103643 non-null  float64 \n",
            " 15  number_of_reviews               103643 non-null  int64   \n",
            " 16  number_of_reviews_ltm           103643 non-null  int64   \n",
            " 17  number_of_reviews_l30d          103643 non-null  int64   \n",
            " 18  review_scores_rating            103643 non-null  float64 \n",
            " 19  review_scores_accuracy          103643 non-null  float64 \n",
            " 20  review_scores_cleanliness       103643 non-null  float64 \n",
            " 21  review_scores_checkin           103643 non-null  float64 \n",
            " 22  review_scores_communication     103643 non-null  float64 \n",
            " 23  review_scores_location          103643 non-null  float64 \n",
            " 24  review_scores_value             103643 non-null  float64 \n",
            " 25  instant_bookable                103643 non-null  category\n",
            " 26  calculated_host_listings_count  103643 non-null  int64   \n",
            " 27  reviews_per_month               103643 non-null  float64 \n",
            " 28  City                            103643 non-null  category\n",
            " 29  State                           103643 non-null  category\n",
            " 30  bathrooms                       103643 non-null  float64 \n",
            "dtypes: category(8), float64(15), int64(8)\n",
            "memory usage: 19.1 MB\n"
          ]
        }
      ],
      "source": [
        "model_imputed_df[\"neighbourhood_cleansed\"] = model_imputed_df[\"neighbourhood_cleansed\"].fillna(model_imputed_df[\"neighbourhood_cleansed\"].mode().iloc[0])\n",
        "model_imputed_df.info()"
      ]
    }
  ],
  "metadata": {
    "colab": {
      "provenance": []
    },
    "kernelspec": {
      "display_name": "Python 3",
      "name": "python3"
    },
    "language_info": {
      "codemirror_mode": {
        "name": "ipython",
        "version": 3
      },
      "file_extension": ".py",
      "mimetype": "text/x-python",
      "name": "python",
      "nbconvert_exporter": "python",
      "pygments_lexer": "ipython3",
      "version": "3.11.5"
    }
  },
  "nbformat": 4,
  "nbformat_minor": 0
}
